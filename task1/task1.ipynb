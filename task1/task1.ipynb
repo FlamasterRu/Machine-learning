{
  "nbformat": 4,
  "nbformat_minor": 0,
  "metadata": {
    "colab": {
      "provenance": []
    },
    "kernelspec": {
      "name": "python3",
      "display_name": "Python 3"
    },
    "language_info": {
      "name": "python"
    }
  },
  "cells": [
    {
      "cell_type": "code",
      "execution_count": null,
      "metadata": {
        "id": "j3J8tn1gClMN"
      },
      "outputs": [],
      "source": [
        "import numpy as np\n",
        "import matplotlib.pyplot as plt\n",
        "import pandas as pd\n",
        "import seaborn as sns\n",
        "import sklearn\n",
        "%matplotlib inline"
      ]
    },
    {
      "cell_type": "markdown",
      "source": [
        "# **Описание задачи:**\n",
        "\n",
        "Датасет содержит историю из 119390 бронирований отелей. Всего 36 признаков, по которым можно определить связь между отменой брони и остальными признаками."
      ],
      "metadata": {
        "id": "5hb6_Nq5C6yJ"
      }
    },
    {
      "cell_type": "code",
      "source": [
        "data_raw = pd.read_csv(\"https://raw.githubusercontent.com/FlamasterRu/Machine-learning/main/task1/hotel_booking.csv\")\n",
        "data_raw.shape"
      ],
      "metadata": {
        "colab": {
          "base_uri": "https://localhost:8080/"
        },
        "id": "F2gawgG4FaFS",
        "outputId": "f8aa4daf-f7b7-4414-f68b-197c4a44414e"
      },
      "execution_count": null,
      "outputs": [
        {
          "output_type": "execute_result",
          "data": {
            "text/plain": [
              "(119390, 36)"
            ]
          },
          "metadata": {},
          "execution_count": 543
        }
      ]
    },
    {
      "cell_type": "code",
      "source": [
        "data_raw.head()"
      ],
      "metadata": {
        "colab": {
          "base_uri": "https://localhost:8080/",
          "height": 490
        },
        "id": "YE8Afe-MFuFB",
        "outputId": "c7faf08a-b3c6-4195-92cd-5fd698f7f806"
      },
      "execution_count": null,
      "outputs": [
        {
          "output_type": "execute_result",
          "data": {
            "text/plain": [
              "          hotel  is_canceled  lead_time  arrival_date_year arrival_date_month  \\\n",
              "0  Resort Hotel            0        342               2015               July   \n",
              "1  Resort Hotel            0        737               2015               July   \n",
              "2  Resort Hotel            0          7               2015               July   \n",
              "3  Resort Hotel            0         13               2015               July   \n",
              "4  Resort Hotel            0         14               2015               July   \n",
              "\n",
              "   arrival_date_week_number  arrival_date_day_of_month  \\\n",
              "0                        27                          1   \n",
              "1                        27                          1   \n",
              "2                        27                          1   \n",
              "3                        27                          1   \n",
              "4                        27                          1   \n",
              "\n",
              "   stays_in_weekend_nights  stays_in_week_nights  adults  ...  customer_type  \\\n",
              "0                        0                     0       2  ...      Transient   \n",
              "1                        0                     0       2  ...      Transient   \n",
              "2                        0                     1       1  ...      Transient   \n",
              "3                        0                     1       1  ...      Transient   \n",
              "4                        0                     2       2  ...      Transient   \n",
              "\n",
              "    adr required_car_parking_spaces total_of_special_requests  \\\n",
              "0   0.0                           0                         0   \n",
              "1   0.0                           0                         0   \n",
              "2  75.0                           0                         0   \n",
              "3  75.0                           0                         0   \n",
              "4  98.0                           0                         1   \n",
              "\n",
              "  reservation_status reservation_status_date            name  \\\n",
              "0          Check-Out              2015-07-01   Ernest Barnes   \n",
              "1          Check-Out              2015-07-01    Andrea Baker   \n",
              "2          Check-Out              2015-07-02  Rebecca Parker   \n",
              "3          Check-Out              2015-07-02    Laura Murray   \n",
              "4          Check-Out              2015-07-03     Linda Hines   \n",
              "\n",
              "                         email  phone-number       credit_card  \n",
              "0  Ernest.Barnes31@outlook.com  669-792-1661  ************4322  \n",
              "1       Andrea_Baker94@aol.com  858-637-6955  ************9157  \n",
              "2   Rebecca_Parker@comcast.net  652-885-2745  ************3734  \n",
              "3            Laura_M@gmail.com  364-656-8427  ************5677  \n",
              "4           LHines@verizon.com  713-226-5883  ************5498  \n",
              "\n",
              "[5 rows x 36 columns]"
            ],
            "text/html": [
              "\n",
              "  <div id=\"df-ffa3af97-11a9-4321-b0cf-54c34bbb0f38\">\n",
              "    <div class=\"colab-df-container\">\n",
              "      <div>\n",
              "<style scoped>\n",
              "    .dataframe tbody tr th:only-of-type {\n",
              "        vertical-align: middle;\n",
              "    }\n",
              "\n",
              "    .dataframe tbody tr th {\n",
              "        vertical-align: top;\n",
              "    }\n",
              "\n",
              "    .dataframe thead th {\n",
              "        text-align: right;\n",
              "    }\n",
              "</style>\n",
              "<table border=\"1\" class=\"dataframe\">\n",
              "  <thead>\n",
              "    <tr style=\"text-align: right;\">\n",
              "      <th></th>\n",
              "      <th>hotel</th>\n",
              "      <th>is_canceled</th>\n",
              "      <th>lead_time</th>\n",
              "      <th>arrival_date_year</th>\n",
              "      <th>arrival_date_month</th>\n",
              "      <th>arrival_date_week_number</th>\n",
              "      <th>arrival_date_day_of_month</th>\n",
              "      <th>stays_in_weekend_nights</th>\n",
              "      <th>stays_in_week_nights</th>\n",
              "      <th>adults</th>\n",
              "      <th>...</th>\n",
              "      <th>customer_type</th>\n",
              "      <th>adr</th>\n",
              "      <th>required_car_parking_spaces</th>\n",
              "      <th>total_of_special_requests</th>\n",
              "      <th>reservation_status</th>\n",
              "      <th>reservation_status_date</th>\n",
              "      <th>name</th>\n",
              "      <th>email</th>\n",
              "      <th>phone-number</th>\n",
              "      <th>credit_card</th>\n",
              "    </tr>\n",
              "  </thead>\n",
              "  <tbody>\n",
              "    <tr>\n",
              "      <th>0</th>\n",
              "      <td>Resort Hotel</td>\n",
              "      <td>0</td>\n",
              "      <td>342</td>\n",
              "      <td>2015</td>\n",
              "      <td>July</td>\n",
              "      <td>27</td>\n",
              "      <td>1</td>\n",
              "      <td>0</td>\n",
              "      <td>0</td>\n",
              "      <td>2</td>\n",
              "      <td>...</td>\n",
              "      <td>Transient</td>\n",
              "      <td>0.0</td>\n",
              "      <td>0</td>\n",
              "      <td>0</td>\n",
              "      <td>Check-Out</td>\n",
              "      <td>2015-07-01</td>\n",
              "      <td>Ernest Barnes</td>\n",
              "      <td>Ernest.Barnes31@outlook.com</td>\n",
              "      <td>669-792-1661</td>\n",
              "      <td>************4322</td>\n",
              "    </tr>\n",
              "    <tr>\n",
              "      <th>1</th>\n",
              "      <td>Resort Hotel</td>\n",
              "      <td>0</td>\n",
              "      <td>737</td>\n",
              "      <td>2015</td>\n",
              "      <td>July</td>\n",
              "      <td>27</td>\n",
              "      <td>1</td>\n",
              "      <td>0</td>\n",
              "      <td>0</td>\n",
              "      <td>2</td>\n",
              "      <td>...</td>\n",
              "      <td>Transient</td>\n",
              "      <td>0.0</td>\n",
              "      <td>0</td>\n",
              "      <td>0</td>\n",
              "      <td>Check-Out</td>\n",
              "      <td>2015-07-01</td>\n",
              "      <td>Andrea Baker</td>\n",
              "      <td>Andrea_Baker94@aol.com</td>\n",
              "      <td>858-637-6955</td>\n",
              "      <td>************9157</td>\n",
              "    </tr>\n",
              "    <tr>\n",
              "      <th>2</th>\n",
              "      <td>Resort Hotel</td>\n",
              "      <td>0</td>\n",
              "      <td>7</td>\n",
              "      <td>2015</td>\n",
              "      <td>July</td>\n",
              "      <td>27</td>\n",
              "      <td>1</td>\n",
              "      <td>0</td>\n",
              "      <td>1</td>\n",
              "      <td>1</td>\n",
              "      <td>...</td>\n",
              "      <td>Transient</td>\n",
              "      <td>75.0</td>\n",
              "      <td>0</td>\n",
              "      <td>0</td>\n",
              "      <td>Check-Out</td>\n",
              "      <td>2015-07-02</td>\n",
              "      <td>Rebecca Parker</td>\n",
              "      <td>Rebecca_Parker@comcast.net</td>\n",
              "      <td>652-885-2745</td>\n",
              "      <td>************3734</td>\n",
              "    </tr>\n",
              "    <tr>\n",
              "      <th>3</th>\n",
              "      <td>Resort Hotel</td>\n",
              "      <td>0</td>\n",
              "      <td>13</td>\n",
              "      <td>2015</td>\n",
              "      <td>July</td>\n",
              "      <td>27</td>\n",
              "      <td>1</td>\n",
              "      <td>0</td>\n",
              "      <td>1</td>\n",
              "      <td>1</td>\n",
              "      <td>...</td>\n",
              "      <td>Transient</td>\n",
              "      <td>75.0</td>\n",
              "      <td>0</td>\n",
              "      <td>0</td>\n",
              "      <td>Check-Out</td>\n",
              "      <td>2015-07-02</td>\n",
              "      <td>Laura Murray</td>\n",
              "      <td>Laura_M@gmail.com</td>\n",
              "      <td>364-656-8427</td>\n",
              "      <td>************5677</td>\n",
              "    </tr>\n",
              "    <tr>\n",
              "      <th>4</th>\n",
              "      <td>Resort Hotel</td>\n",
              "      <td>0</td>\n",
              "      <td>14</td>\n",
              "      <td>2015</td>\n",
              "      <td>July</td>\n",
              "      <td>27</td>\n",
              "      <td>1</td>\n",
              "      <td>0</td>\n",
              "      <td>2</td>\n",
              "      <td>2</td>\n",
              "      <td>...</td>\n",
              "      <td>Transient</td>\n",
              "      <td>98.0</td>\n",
              "      <td>0</td>\n",
              "      <td>1</td>\n",
              "      <td>Check-Out</td>\n",
              "      <td>2015-07-03</td>\n",
              "      <td>Linda Hines</td>\n",
              "      <td>LHines@verizon.com</td>\n",
              "      <td>713-226-5883</td>\n",
              "      <td>************5498</td>\n",
              "    </tr>\n",
              "  </tbody>\n",
              "</table>\n",
              "<p>5 rows × 36 columns</p>\n",
              "</div>\n",
              "      <button class=\"colab-df-convert\" onclick=\"convertToInteractive('df-ffa3af97-11a9-4321-b0cf-54c34bbb0f38')\"\n",
              "              title=\"Convert this dataframe to an interactive table.\"\n",
              "              style=\"display:none;\">\n",
              "        \n",
              "  <svg xmlns=\"http://www.w3.org/2000/svg\" height=\"24px\"viewBox=\"0 0 24 24\"\n",
              "       width=\"24px\">\n",
              "    <path d=\"M0 0h24v24H0V0z\" fill=\"none\"/>\n",
              "    <path d=\"M18.56 5.44l.94 2.06.94-2.06 2.06-.94-2.06-.94-.94-2.06-.94 2.06-2.06.94zm-11 1L8.5 8.5l.94-2.06 2.06-.94-2.06-.94L8.5 2.5l-.94 2.06-2.06.94zm10 10l.94 2.06.94-2.06 2.06-.94-2.06-.94-.94-2.06-.94 2.06-2.06.94z\"/><path d=\"M17.41 7.96l-1.37-1.37c-.4-.4-.92-.59-1.43-.59-.52 0-1.04.2-1.43.59L10.3 9.45l-7.72 7.72c-.78.78-.78 2.05 0 2.83L4 21.41c.39.39.9.59 1.41.59.51 0 1.02-.2 1.41-.59l7.78-7.78 2.81-2.81c.8-.78.8-2.07 0-2.86zM5.41 20L4 18.59l7.72-7.72 1.47 1.35L5.41 20z\"/>\n",
              "  </svg>\n",
              "      </button>\n",
              "      \n",
              "  <style>\n",
              "    .colab-df-container {\n",
              "      display:flex;\n",
              "      flex-wrap:wrap;\n",
              "      gap: 12px;\n",
              "    }\n",
              "\n",
              "    .colab-df-convert {\n",
              "      background-color: #E8F0FE;\n",
              "      border: none;\n",
              "      border-radius: 50%;\n",
              "      cursor: pointer;\n",
              "      display: none;\n",
              "      fill: #1967D2;\n",
              "      height: 32px;\n",
              "      padding: 0 0 0 0;\n",
              "      width: 32px;\n",
              "    }\n",
              "\n",
              "    .colab-df-convert:hover {\n",
              "      background-color: #E2EBFA;\n",
              "      box-shadow: 0px 1px 2px rgba(60, 64, 67, 0.3), 0px 1px 3px 1px rgba(60, 64, 67, 0.15);\n",
              "      fill: #174EA6;\n",
              "    }\n",
              "\n",
              "    [theme=dark] .colab-df-convert {\n",
              "      background-color: #3B4455;\n",
              "      fill: #D2E3FC;\n",
              "    }\n",
              "\n",
              "    [theme=dark] .colab-df-convert:hover {\n",
              "      background-color: #434B5C;\n",
              "      box-shadow: 0px 1px 3px 1px rgba(0, 0, 0, 0.15);\n",
              "      filter: drop-shadow(0px 1px 2px rgba(0, 0, 0, 0.3));\n",
              "      fill: #FFFFFF;\n",
              "    }\n",
              "  </style>\n",
              "\n",
              "      <script>\n",
              "        const buttonEl =\n",
              "          document.querySelector('#df-ffa3af97-11a9-4321-b0cf-54c34bbb0f38 button.colab-df-convert');\n",
              "        buttonEl.style.display =\n",
              "          google.colab.kernel.accessAllowed ? 'block' : 'none';\n",
              "\n",
              "        async function convertToInteractive(key) {\n",
              "          const element = document.querySelector('#df-ffa3af97-11a9-4321-b0cf-54c34bbb0f38');\n",
              "          const dataTable =\n",
              "            await google.colab.kernel.invokeFunction('convertToInteractive',\n",
              "                                                     [key], {});\n",
              "          if (!dataTable) return;\n",
              "\n",
              "          const docLinkHtml = 'Like what you see? Visit the ' +\n",
              "            '<a target=\"_blank\" href=https://colab.research.google.com/notebooks/data_table.ipynb>data table notebook</a>'\n",
              "            + ' to learn more about interactive tables.';\n",
              "          element.innerHTML = '';\n",
              "          dataTable['output_type'] = 'display_data';\n",
              "          await google.colab.output.renderOutput(dataTable, element);\n",
              "          const docLink = document.createElement('div');\n",
              "          docLink.innerHTML = docLinkHtml;\n",
              "          element.appendChild(docLink);\n",
              "        }\n",
              "      </script>\n",
              "    </div>\n",
              "  </div>\n",
              "  "
            ]
          },
          "metadata": {},
          "execution_count": 544
        }
      ]
    },
    {
      "cell_type": "code",
      "source": [
        "data_raw.tail()"
      ],
      "metadata": {
        "colab": {
          "base_uri": "https://localhost:8080/",
          "height": 490
        },
        "id": "q8XHvluMGDnh",
        "outputId": "5b74d683-ab82-46dd-b4c3-26abb9b9d7bb"
      },
      "execution_count": null,
      "outputs": [
        {
          "output_type": "execute_result",
          "data": {
            "text/plain": [
              "             hotel  is_canceled  lead_time  arrival_date_year  \\\n",
              "119385  City Hotel            0         23               2017   \n",
              "119386  City Hotel            0        102               2017   \n",
              "119387  City Hotel            0         34               2017   \n",
              "119388  City Hotel            0        109               2017   \n",
              "119389  City Hotel            0        205               2017   \n",
              "\n",
              "       arrival_date_month  arrival_date_week_number  \\\n",
              "119385             August                        35   \n",
              "119386             August                        35   \n",
              "119387             August                        35   \n",
              "119388             August                        35   \n",
              "119389             August                        35   \n",
              "\n",
              "        arrival_date_day_of_month  stays_in_weekend_nights  \\\n",
              "119385                         30                        2   \n",
              "119386                         31                        2   \n",
              "119387                         31                        2   \n",
              "119388                         31                        2   \n",
              "119389                         29                        2   \n",
              "\n",
              "        stays_in_week_nights  adults  ...  customer_type     adr  \\\n",
              "119385                     5       2  ...      Transient   96.14   \n",
              "119386                     5       3  ...      Transient  225.43   \n",
              "119387                     5       2  ...      Transient  157.71   \n",
              "119388                     5       2  ...      Transient  104.40   \n",
              "119389                     7       2  ...      Transient  151.20   \n",
              "\n",
              "       required_car_parking_spaces total_of_special_requests  \\\n",
              "119385                           0                         0   \n",
              "119386                           0                         2   \n",
              "119387                           0                         4   \n",
              "119388                           0                         0   \n",
              "119389                           0                         2   \n",
              "\n",
              "       reservation_status reservation_status_date                name  \\\n",
              "119385          Check-Out              2017-09-06     Claudia Johnson   \n",
              "119386          Check-Out              2017-09-07      Wesley Aguilar   \n",
              "119387          Check-Out              2017-09-07        Mary Morales   \n",
              "119388          Check-Out              2017-09-07  Caroline Conley MD   \n",
              "119389          Check-Out              2017-09-07      Ariana Michael   \n",
              "\n",
              "                           email  phone-number       credit_card  \n",
              "119385       Claudia.J@yahoo.com  403-092-5582  ************8647  \n",
              "119386      WAguilar@xfinity.com  238-763-0612  ************4333  \n",
              "119387  Mary_Morales@hotmail.com  395-518-4100  ************1821  \n",
              "119388   MD_Caroline@comcast.net  531-528-1017  ************7860  \n",
              "119389      Ariana_M@xfinity.com  422-804-6403  ************4482  \n",
              "\n",
              "[5 rows x 36 columns]"
            ],
            "text/html": [
              "\n",
              "  <div id=\"df-67f73e5e-a032-4746-87a2-f2b1a776200e\">\n",
              "    <div class=\"colab-df-container\">\n",
              "      <div>\n",
              "<style scoped>\n",
              "    .dataframe tbody tr th:only-of-type {\n",
              "        vertical-align: middle;\n",
              "    }\n",
              "\n",
              "    .dataframe tbody tr th {\n",
              "        vertical-align: top;\n",
              "    }\n",
              "\n",
              "    .dataframe thead th {\n",
              "        text-align: right;\n",
              "    }\n",
              "</style>\n",
              "<table border=\"1\" class=\"dataframe\">\n",
              "  <thead>\n",
              "    <tr style=\"text-align: right;\">\n",
              "      <th></th>\n",
              "      <th>hotel</th>\n",
              "      <th>is_canceled</th>\n",
              "      <th>lead_time</th>\n",
              "      <th>arrival_date_year</th>\n",
              "      <th>arrival_date_month</th>\n",
              "      <th>arrival_date_week_number</th>\n",
              "      <th>arrival_date_day_of_month</th>\n",
              "      <th>stays_in_weekend_nights</th>\n",
              "      <th>stays_in_week_nights</th>\n",
              "      <th>adults</th>\n",
              "      <th>...</th>\n",
              "      <th>customer_type</th>\n",
              "      <th>adr</th>\n",
              "      <th>required_car_parking_spaces</th>\n",
              "      <th>total_of_special_requests</th>\n",
              "      <th>reservation_status</th>\n",
              "      <th>reservation_status_date</th>\n",
              "      <th>name</th>\n",
              "      <th>email</th>\n",
              "      <th>phone-number</th>\n",
              "      <th>credit_card</th>\n",
              "    </tr>\n",
              "  </thead>\n",
              "  <tbody>\n",
              "    <tr>\n",
              "      <th>119385</th>\n",
              "      <td>City Hotel</td>\n",
              "      <td>0</td>\n",
              "      <td>23</td>\n",
              "      <td>2017</td>\n",
              "      <td>August</td>\n",
              "      <td>35</td>\n",
              "      <td>30</td>\n",
              "      <td>2</td>\n",
              "      <td>5</td>\n",
              "      <td>2</td>\n",
              "      <td>...</td>\n",
              "      <td>Transient</td>\n",
              "      <td>96.14</td>\n",
              "      <td>0</td>\n",
              "      <td>0</td>\n",
              "      <td>Check-Out</td>\n",
              "      <td>2017-09-06</td>\n",
              "      <td>Claudia Johnson</td>\n",
              "      <td>Claudia.J@yahoo.com</td>\n",
              "      <td>403-092-5582</td>\n",
              "      <td>************8647</td>\n",
              "    </tr>\n",
              "    <tr>\n",
              "      <th>119386</th>\n",
              "      <td>City Hotel</td>\n",
              "      <td>0</td>\n",
              "      <td>102</td>\n",
              "      <td>2017</td>\n",
              "      <td>August</td>\n",
              "      <td>35</td>\n",
              "      <td>31</td>\n",
              "      <td>2</td>\n",
              "      <td>5</td>\n",
              "      <td>3</td>\n",
              "      <td>...</td>\n",
              "      <td>Transient</td>\n",
              "      <td>225.43</td>\n",
              "      <td>0</td>\n",
              "      <td>2</td>\n",
              "      <td>Check-Out</td>\n",
              "      <td>2017-09-07</td>\n",
              "      <td>Wesley Aguilar</td>\n",
              "      <td>WAguilar@xfinity.com</td>\n",
              "      <td>238-763-0612</td>\n",
              "      <td>************4333</td>\n",
              "    </tr>\n",
              "    <tr>\n",
              "      <th>119387</th>\n",
              "      <td>City Hotel</td>\n",
              "      <td>0</td>\n",
              "      <td>34</td>\n",
              "      <td>2017</td>\n",
              "      <td>August</td>\n",
              "      <td>35</td>\n",
              "      <td>31</td>\n",
              "      <td>2</td>\n",
              "      <td>5</td>\n",
              "      <td>2</td>\n",
              "      <td>...</td>\n",
              "      <td>Transient</td>\n",
              "      <td>157.71</td>\n",
              "      <td>0</td>\n",
              "      <td>4</td>\n",
              "      <td>Check-Out</td>\n",
              "      <td>2017-09-07</td>\n",
              "      <td>Mary Morales</td>\n",
              "      <td>Mary_Morales@hotmail.com</td>\n",
              "      <td>395-518-4100</td>\n",
              "      <td>************1821</td>\n",
              "    </tr>\n",
              "    <tr>\n",
              "      <th>119388</th>\n",
              "      <td>City Hotel</td>\n",
              "      <td>0</td>\n",
              "      <td>109</td>\n",
              "      <td>2017</td>\n",
              "      <td>August</td>\n",
              "      <td>35</td>\n",
              "      <td>31</td>\n",
              "      <td>2</td>\n",
              "      <td>5</td>\n",
              "      <td>2</td>\n",
              "      <td>...</td>\n",
              "      <td>Transient</td>\n",
              "      <td>104.40</td>\n",
              "      <td>0</td>\n",
              "      <td>0</td>\n",
              "      <td>Check-Out</td>\n",
              "      <td>2017-09-07</td>\n",
              "      <td>Caroline Conley MD</td>\n",
              "      <td>MD_Caroline@comcast.net</td>\n",
              "      <td>531-528-1017</td>\n",
              "      <td>************7860</td>\n",
              "    </tr>\n",
              "    <tr>\n",
              "      <th>119389</th>\n",
              "      <td>City Hotel</td>\n",
              "      <td>0</td>\n",
              "      <td>205</td>\n",
              "      <td>2017</td>\n",
              "      <td>August</td>\n",
              "      <td>35</td>\n",
              "      <td>29</td>\n",
              "      <td>2</td>\n",
              "      <td>7</td>\n",
              "      <td>2</td>\n",
              "      <td>...</td>\n",
              "      <td>Transient</td>\n",
              "      <td>151.20</td>\n",
              "      <td>0</td>\n",
              "      <td>2</td>\n",
              "      <td>Check-Out</td>\n",
              "      <td>2017-09-07</td>\n",
              "      <td>Ariana Michael</td>\n",
              "      <td>Ariana_M@xfinity.com</td>\n",
              "      <td>422-804-6403</td>\n",
              "      <td>************4482</td>\n",
              "    </tr>\n",
              "  </tbody>\n",
              "</table>\n",
              "<p>5 rows × 36 columns</p>\n",
              "</div>\n",
              "      <button class=\"colab-df-convert\" onclick=\"convertToInteractive('df-67f73e5e-a032-4746-87a2-f2b1a776200e')\"\n",
              "              title=\"Convert this dataframe to an interactive table.\"\n",
              "              style=\"display:none;\">\n",
              "        \n",
              "  <svg xmlns=\"http://www.w3.org/2000/svg\" height=\"24px\"viewBox=\"0 0 24 24\"\n",
              "       width=\"24px\">\n",
              "    <path d=\"M0 0h24v24H0V0z\" fill=\"none\"/>\n",
              "    <path d=\"M18.56 5.44l.94 2.06.94-2.06 2.06-.94-2.06-.94-.94-2.06-.94 2.06-2.06.94zm-11 1L8.5 8.5l.94-2.06 2.06-.94-2.06-.94L8.5 2.5l-.94 2.06-2.06.94zm10 10l.94 2.06.94-2.06 2.06-.94-2.06-.94-.94-2.06-.94 2.06-2.06.94z\"/><path d=\"M17.41 7.96l-1.37-1.37c-.4-.4-.92-.59-1.43-.59-.52 0-1.04.2-1.43.59L10.3 9.45l-7.72 7.72c-.78.78-.78 2.05 0 2.83L4 21.41c.39.39.9.59 1.41.59.51 0 1.02-.2 1.41-.59l7.78-7.78 2.81-2.81c.8-.78.8-2.07 0-2.86zM5.41 20L4 18.59l7.72-7.72 1.47 1.35L5.41 20z\"/>\n",
              "  </svg>\n",
              "      </button>\n",
              "      \n",
              "  <style>\n",
              "    .colab-df-container {\n",
              "      display:flex;\n",
              "      flex-wrap:wrap;\n",
              "      gap: 12px;\n",
              "    }\n",
              "\n",
              "    .colab-df-convert {\n",
              "      background-color: #E8F0FE;\n",
              "      border: none;\n",
              "      border-radius: 50%;\n",
              "      cursor: pointer;\n",
              "      display: none;\n",
              "      fill: #1967D2;\n",
              "      height: 32px;\n",
              "      padding: 0 0 0 0;\n",
              "      width: 32px;\n",
              "    }\n",
              "\n",
              "    .colab-df-convert:hover {\n",
              "      background-color: #E2EBFA;\n",
              "      box-shadow: 0px 1px 2px rgba(60, 64, 67, 0.3), 0px 1px 3px 1px rgba(60, 64, 67, 0.15);\n",
              "      fill: #174EA6;\n",
              "    }\n",
              "\n",
              "    [theme=dark] .colab-df-convert {\n",
              "      background-color: #3B4455;\n",
              "      fill: #D2E3FC;\n",
              "    }\n",
              "\n",
              "    [theme=dark] .colab-df-convert:hover {\n",
              "      background-color: #434B5C;\n",
              "      box-shadow: 0px 1px 3px 1px rgba(0, 0, 0, 0.15);\n",
              "      filter: drop-shadow(0px 1px 2px rgba(0, 0, 0, 0.3));\n",
              "      fill: #FFFFFF;\n",
              "    }\n",
              "  </style>\n",
              "\n",
              "      <script>\n",
              "        const buttonEl =\n",
              "          document.querySelector('#df-67f73e5e-a032-4746-87a2-f2b1a776200e button.colab-df-convert');\n",
              "        buttonEl.style.display =\n",
              "          google.colab.kernel.accessAllowed ? 'block' : 'none';\n",
              "\n",
              "        async function convertToInteractive(key) {\n",
              "          const element = document.querySelector('#df-67f73e5e-a032-4746-87a2-f2b1a776200e');\n",
              "          const dataTable =\n",
              "            await google.colab.kernel.invokeFunction('convertToInteractive',\n",
              "                                                     [key], {});\n",
              "          if (!dataTable) return;\n",
              "\n",
              "          const docLinkHtml = 'Like what you see? Visit the ' +\n",
              "            '<a target=\"_blank\" href=https://colab.research.google.com/notebooks/data_table.ipynb>data table notebook</a>'\n",
              "            + ' to learn more about interactive tables.';\n",
              "          element.innerHTML = '';\n",
              "          dataTable['output_type'] = 'display_data';\n",
              "          await google.colab.output.renderOutput(dataTable, element);\n",
              "          const docLink = document.createElement('div');\n",
              "          docLink.innerHTML = docLinkHtml;\n",
              "          element.appendChild(docLink);\n",
              "        }\n",
              "      </script>\n",
              "    </div>\n",
              "  </div>\n",
              "  "
            ]
          },
          "metadata": {},
          "execution_count": 545
        }
      ]
    },
    {
      "cell_type": "markdown",
      "source": [
        "# **Признаки:**\n",
        "\n",
        "**hotel** - Вид отеля: городской или курортный.\n",
        "\n",
        "**is_canceled** - Было ли отменено бронирование. Отменено - 1. Не отменено 0.\n",
        "\n",
        "**lead_time** - Количество дней между датой бронирования и датой заселения.\n",
        "\n",
        "**arrival_date_year** - Год заселения.\n",
        "\n",
        "**arrival_date_month** - Месяц заселения.\n",
        "\n",
        "**arrival_date_week_number** - Неделя заселения.\n",
        "\n",
        "**arrival_date_day_of_month** - День заселения.\n",
        "\n",
        "**stays_in_weekend_nights** - Количество ночей в выходные дни (суббота или воскресенье), в течение которых гость останавливался или забронировал проживание в отеле.\n",
        "\n",
        "**stays_in_week_nights** - Количество ночей в неделю (с понедельника по пятницу), в течение которых гость останавливался или забронировал проживание в отеле.\n",
        "\n",
        "**adults** - Количество взрослых.\n",
        "\n",
        "**children** - Количество детей.\n",
        "\n",
        "**babies** - Количество младенцев.\n",
        "\n",
        "**meal** - Питание. BB - только завтрак, HB - завтрак и ужин, SC - самообслуживание, Undefined - не выбрано, FB - завтрак, обед и ужин. \n",
        "\n",
        "**country** - Страна из которой прибыл.\n",
        "\n",
        "**market_segment** - Сегмент рынка. Online TA - онлайн через туристического агента. Offline TA/TO - через туристического агента или оператора. Groups - организованные группировки. Direct - непосредственно в отеле. Corporate - корпоративные клиенты.\n",
        "\n",
        "**distribution_channel** - Канал бронирования. TA/TO -  бронирование через туристического агента или оператора. Direct - непосредственно в отеле. Corporate - компания. GDS - международная система бронирования. Undefined - не выбрано.\n",
        "\n",
        "**is_repeated_guest** - Был ли гость в этом отеле раньше? Да - 1, нет - 0.\n",
        "\n",
        "**previous_cancellations** - Количество отмененных бронирований до текущего бронирования.\n",
        "\n",
        "**previous_bookings_not_canceled** - Количество не отмененных бронирований до текущего бронирования. \n",
        "\n",
        "**reserved_room_type** - Тип зарезервированного номера. (A, D, E, F, G)\n",
        "\n",
        "**assigned_room_type** - Тип номера по брони. (A, D, E, F, G)\n",
        "\n",
        "**booking_changes** - Количество изменений параметров бронирования. \n",
        "\n",
        "**deposit_type** - Тип депозита. No Deposit - без депозита. Non Refund - полный депозит без возврата. Refundable - полный депозит с возвратом.\n",
        "\n",
        "**agent** - ID туристического агента.\n",
        "\n",
        "**company** - ID компании корпоративного клиента.\n",
        "\n",
        "**days_in_waiting_list** - Количество дней, которое клиент ожидал до подтверждения бронирования.\n",
        "\n",
        "**customer_type** - Тип клиента. Group - когда бронирование связано с группой. Transient - когда бронирование не является частью группы или контракта и не связано с другим временным бронированием. Transient-party - огда бронирование является временным, но связано как минимум с другим временным бронированием.\n",
        "\n",
        "**adr** - Средняя оплата за сутки.\n",
        "\n",
        "**required_car_parking_spaces** - Требуемое клиентом количество парковочных мест.\n",
        "\n",
        "**total_of_special_requests** - Количество дополнительных пожеланий клиента.\n",
        "\n",
        "**reservation_status** - Статус. Check-Out - клиент зарегистрировался, но уже выехал. No-Show - клиент не зарегистрировался и не сообщил о причине.\n",
        "\n",
        "**reservation_status_date** - Когда была отмена бронирования или клиент выехал.\n",
        "\n",
        "**name** - Имя клиента.\n",
        "\n",
        "**email** - Электронная почта клиента.\n",
        "\n",
        "**phone-number** - Номер телефона клиента.\n",
        "\n",
        "**credit_card** - Номер банковской карты клиента.\n",
        "\n",
        "Выведем информацию о столбцах, чтобы узнать тип значений в них:\n"
      ],
      "metadata": {
        "id": "nTE9S5UUGumv"
      }
    },
    {
      "cell_type": "code",
      "source": [
        "data_raw.info()"
      ],
      "metadata": {
        "colab": {
          "base_uri": "https://localhost:8080/"
        },
        "id": "hKZzkTdnWPfn",
        "outputId": "1b0597ea-0f01-463b-a49f-834a49a3ecde"
      },
      "execution_count": null,
      "outputs": [
        {
          "output_type": "stream",
          "name": "stdout",
          "text": [
            "<class 'pandas.core.frame.DataFrame'>\n",
            "RangeIndex: 119390 entries, 0 to 119389\n",
            "Data columns (total 36 columns):\n",
            " #   Column                          Non-Null Count   Dtype  \n",
            "---  ------                          --------------   -----  \n",
            " 0   hotel                           119390 non-null  object \n",
            " 1   is_canceled                     119390 non-null  int64  \n",
            " 2   lead_time                       119390 non-null  int64  \n",
            " 3   arrival_date_year               119390 non-null  int64  \n",
            " 4   arrival_date_month              119390 non-null  object \n",
            " 5   arrival_date_week_number        119390 non-null  int64  \n",
            " 6   arrival_date_day_of_month       119390 non-null  int64  \n",
            " 7   stays_in_weekend_nights         119390 non-null  int64  \n",
            " 8   stays_in_week_nights            119390 non-null  int64  \n",
            " 9   adults                          119390 non-null  int64  \n",
            " 10  children                        119386 non-null  float64\n",
            " 11  babies                          119390 non-null  int64  \n",
            " 12  meal                            119390 non-null  object \n",
            " 13  country                         118902 non-null  object \n",
            " 14  market_segment                  119390 non-null  object \n",
            " 15  distribution_channel            119390 non-null  object \n",
            " 16  is_repeated_guest               119390 non-null  int64  \n",
            " 17  previous_cancellations          119390 non-null  int64  \n",
            " 18  previous_bookings_not_canceled  119390 non-null  int64  \n",
            " 19  reserved_room_type              119390 non-null  object \n",
            " 20  assigned_room_type              119390 non-null  object \n",
            " 21  booking_changes                 119390 non-null  int64  \n",
            " 22  deposit_type                    119390 non-null  object \n",
            " 23  agent                           103050 non-null  float64\n",
            " 24  company                         6797 non-null    float64\n",
            " 25  days_in_waiting_list            119390 non-null  int64  \n",
            " 26  customer_type                   119390 non-null  object \n",
            " 27  adr                             119390 non-null  float64\n",
            " 28  required_car_parking_spaces     119390 non-null  int64  \n",
            " 29  total_of_special_requests       119390 non-null  int64  \n",
            " 30  reservation_status              119390 non-null  object \n",
            " 31  reservation_status_date         119390 non-null  object \n",
            " 32  name                            119390 non-null  object \n",
            " 33  email                           119390 non-null  object \n",
            " 34  phone-number                    119390 non-null  object \n",
            " 35  credit_card                     119390 non-null  object \n",
            "dtypes: float64(4), int64(16), object(16)\n",
            "memory usage: 32.8+ MB\n"
          ]
        }
      ]
    },
    {
      "cell_type": "markdown",
      "source": [
        "Имена признаков:"
      ],
      "metadata": {
        "id": "53_rXtq0WXn2"
      }
    },
    {
      "cell_type": "code",
      "source": [
        "data_raw.columns"
      ],
      "metadata": {
        "colab": {
          "base_uri": "https://localhost:8080/"
        },
        "id": "K14arhMTWd32",
        "outputId": "b112dd2a-042d-4e44-b4eb-135fb1e19eb3"
      },
      "execution_count": null,
      "outputs": [
        {
          "output_type": "execute_result",
          "data": {
            "text/plain": [
              "Index(['hotel', 'is_canceled', 'lead_time', 'arrival_date_year',\n",
              "       'arrival_date_month', 'arrival_date_week_number',\n",
              "       'arrival_date_day_of_month', 'stays_in_weekend_nights',\n",
              "       'stays_in_week_nights', 'adults', 'children', 'babies', 'meal',\n",
              "       'country', 'market_segment', 'distribution_channel',\n",
              "       'is_repeated_guest', 'previous_cancellations',\n",
              "       'previous_bookings_not_canceled', 'reserved_room_type',\n",
              "       'assigned_room_type', 'booking_changes', 'deposit_type', 'agent',\n",
              "       'company', 'days_in_waiting_list', 'customer_type', 'adr',\n",
              "       'required_car_parking_spaces', 'total_of_special_requests',\n",
              "       'reservation_status', 'reservation_status_date', 'name', 'email',\n",
              "       'phone-number', 'credit_card'],\n",
              "      dtype='object')"
            ]
          },
          "metadata": {},
          "execution_count": 547
        }
      ]
    },
    {
      "cell_type": "code",
      "source": [
        "data_raw.index"
      ],
      "metadata": {
        "colab": {
          "base_uri": "https://localhost:8080/"
        },
        "id": "1DpbovDVYFeU",
        "outputId": "fd8270f9-c02d-4687-8fc0-14c7c3ec9500"
      },
      "execution_count": null,
      "outputs": [
        {
          "output_type": "execute_result",
          "data": {
            "text/plain": [
              "RangeIndex(start=0, stop=119390, step=1)"
            ]
          },
          "metadata": {},
          "execution_count": 548
        }
      ]
    },
    {
      "cell_type": "markdown",
      "source": [
        "# **Обработка пропущенных значений**"
      ],
      "metadata": {
        "id": "arvvlVTbYNfb"
      }
    },
    {
      "cell_type": "code",
      "source": [
        "categorical_columns = [c for c in data_raw.columns if data_raw[c].dtype.name == 'object']\n",
        "numerical_columns   = [c for c in data_raw.columns if data_raw[c].dtype.name != 'object']\n",
        "print(categorical_columns)\n",
        "print(numerical_columns)"
      ],
      "metadata": {
        "colab": {
          "base_uri": "https://localhost:8080/"
        },
        "id": "gazhrHGPYQar",
        "outputId": "098099cf-774d-48ae-df1c-897468415584"
      },
      "execution_count": null,
      "outputs": [
        {
          "output_type": "stream",
          "name": "stdout",
          "text": [
            "['hotel', 'arrival_date_month', 'meal', 'country', 'market_segment', 'distribution_channel', 'reserved_room_type', 'assigned_room_type', 'deposit_type', 'customer_type', 'reservation_status', 'reservation_status_date', 'name', 'email', 'phone-number', 'credit_card']\n",
            "['is_canceled', 'lead_time', 'arrival_date_year', 'arrival_date_week_number', 'arrival_date_day_of_month', 'stays_in_weekend_nights', 'stays_in_week_nights', 'adults', 'children', 'babies', 'is_repeated_guest', 'previous_cancellations', 'previous_bookings_not_canceled', 'booking_changes', 'agent', 'company', 'days_in_waiting_list', 'adr', 'required_car_parking_spaces', 'total_of_special_requests']\n"
          ]
        }
      ]
    },
    {
      "cell_type": "code",
      "source": [
        "data_raw[categorical_columns].count(axis = 0)"
      ],
      "metadata": {
        "colab": {
          "base_uri": "https://localhost:8080/"
        },
        "id": "KvylcqWehTgL",
        "outputId": "531948ef-5170-46cd-e2b0-4cac6e3d8b6a"
      },
      "execution_count": null,
      "outputs": [
        {
          "output_type": "execute_result",
          "data": {
            "text/plain": [
              "hotel                      119390\n",
              "arrival_date_month         119390\n",
              "meal                       119390\n",
              "country                    118902\n",
              "market_segment             119390\n",
              "distribution_channel       119390\n",
              "reserved_room_type         119390\n",
              "assigned_room_type         119390\n",
              "deposit_type               119390\n",
              "customer_type              119390\n",
              "reservation_status         119390\n",
              "reservation_status_date    119390\n",
              "name                       119390\n",
              "email                      119390\n",
              "phone-number               119390\n",
              "credit_card                119390\n",
              "dtype: int64"
            ]
          },
          "metadata": {},
          "execution_count": 550
        }
      ]
    },
    {
      "cell_type": "markdown",
      "source": [
        "Пропущенные значения в категориальных данных заполним популярными данными."
      ],
      "metadata": {
        "id": "FOSSZzzg5SKQ"
      }
    },
    {
      "cell_type": "code",
      "source": [
        "data_raw['country'] = data_raw['country'].fillna(data_raw['country'].describe().top)\n",
        "data_raw[categorical_columns].count(axis = 0)"
      ],
      "metadata": {
        "colab": {
          "base_uri": "https://localhost:8080/"
        },
        "id": "WPkLz5jT5TDP",
        "outputId": "b1368c7c-f065-47c8-8a76-5869a1fbb817"
      },
      "execution_count": null,
      "outputs": [
        {
          "output_type": "execute_result",
          "data": {
            "text/plain": [
              "hotel                      119390\n",
              "arrival_date_month         119390\n",
              "meal                       119390\n",
              "country                    119390\n",
              "market_segment             119390\n",
              "distribution_channel       119390\n",
              "reserved_room_type         119390\n",
              "assigned_room_type         119390\n",
              "deposit_type               119390\n",
              "customer_type              119390\n",
              "reservation_status         119390\n",
              "reservation_status_date    119390\n",
              "name                       119390\n",
              "email                      119390\n",
              "phone-number               119390\n",
              "credit_card                119390\n",
              "dtype: int64"
            ]
          },
          "metadata": {},
          "execution_count": 551
        }
      ]
    },
    {
      "cell_type": "code",
      "source": [
        "data_raw[numerical_columns].count(axis = 0)"
      ],
      "metadata": {
        "colab": {
          "base_uri": "https://localhost:8080/"
        },
        "id": "xBUSkZqh5kNe",
        "outputId": "ccc41427-987e-4b7b-c1ab-c94b6427b49a"
      },
      "execution_count": null,
      "outputs": [
        {
          "output_type": "execute_result",
          "data": {
            "text/plain": [
              "is_canceled                       119390\n",
              "lead_time                         119390\n",
              "arrival_date_year                 119390\n",
              "arrival_date_week_number          119390\n",
              "arrival_date_day_of_month         119390\n",
              "stays_in_weekend_nights           119390\n",
              "stays_in_week_nights              119390\n",
              "adults                            119390\n",
              "children                          119386\n",
              "babies                            119390\n",
              "is_repeated_guest                 119390\n",
              "previous_cancellations            119390\n",
              "previous_bookings_not_canceled    119390\n",
              "booking_changes                   119390\n",
              "agent                             103050\n",
              "company                             6797\n",
              "days_in_waiting_list              119390\n",
              "adr                               119390\n",
              "required_car_parking_spaces       119390\n",
              "total_of_special_requests         119390\n",
              "dtype: int64"
            ]
          },
          "metadata": {},
          "execution_count": 552
        }
      ]
    },
    {
      "cell_type": "markdown",
      "source": [
        "agent и company заполняем нулями, это будет обозначать отсутствие агента или номера компании."
      ],
      "metadata": {
        "id": "f_1oHw915vk4"
      }
    },
    {
      "cell_type": "code",
      "source": [
        "data_raw['agent'] = data_raw['agent'].fillna(0, axis = 0)\n",
        "data_raw['company'] = data_raw['company'].fillna(0, axis = 0)\n",
        "data_raw[numerical_columns].count(axis = 0)"
      ],
      "metadata": {
        "colab": {
          "base_uri": "https://localhost:8080/"
        },
        "id": "jtkP7w8H55iX",
        "outputId": "0c6057ce-8e80-4110-ddcc-35e9c6046b20"
      },
      "execution_count": null,
      "outputs": [
        {
          "output_type": "execute_result",
          "data": {
            "text/plain": [
              "is_canceled                       119390\n",
              "lead_time                         119390\n",
              "arrival_date_year                 119390\n",
              "arrival_date_week_number          119390\n",
              "arrival_date_day_of_month         119390\n",
              "stays_in_weekend_nights           119390\n",
              "stays_in_week_nights              119390\n",
              "adults                            119390\n",
              "children                          119386\n",
              "babies                            119390\n",
              "is_repeated_guest                 119390\n",
              "previous_cancellations            119390\n",
              "previous_bookings_not_canceled    119390\n",
              "booking_changes                   119390\n",
              "agent                             119390\n",
              "company                           119390\n",
              "days_in_waiting_list              119390\n",
              "adr                               119390\n",
              "required_car_parking_spaces       119390\n",
              "total_of_special_requests         119390\n",
              "dtype: int64"
            ]
          },
          "metadata": {},
          "execution_count": 553
        }
      ]
    },
    {
      "cell_type": "code",
      "source": [
        "data_raw.info()"
      ],
      "metadata": {
        "colab": {
          "base_uri": "https://localhost:8080/"
        },
        "id": "SN0CCQcW6-Le",
        "outputId": "f7757673-b90e-4db3-bdcd-107d604c3191"
      },
      "execution_count": null,
      "outputs": [
        {
          "output_type": "stream",
          "name": "stdout",
          "text": [
            "<class 'pandas.core.frame.DataFrame'>\n",
            "RangeIndex: 119390 entries, 0 to 119389\n",
            "Data columns (total 36 columns):\n",
            " #   Column                          Non-Null Count   Dtype  \n",
            "---  ------                          --------------   -----  \n",
            " 0   hotel                           119390 non-null  object \n",
            " 1   is_canceled                     119390 non-null  int64  \n",
            " 2   lead_time                       119390 non-null  int64  \n",
            " 3   arrival_date_year               119390 non-null  int64  \n",
            " 4   arrival_date_month              119390 non-null  object \n",
            " 5   arrival_date_week_number        119390 non-null  int64  \n",
            " 6   arrival_date_day_of_month       119390 non-null  int64  \n",
            " 7   stays_in_weekend_nights         119390 non-null  int64  \n",
            " 8   stays_in_week_nights            119390 non-null  int64  \n",
            " 9   adults                          119390 non-null  int64  \n",
            " 10  children                        119386 non-null  float64\n",
            " 11  babies                          119390 non-null  int64  \n",
            " 12  meal                            119390 non-null  object \n",
            " 13  country                         119390 non-null  object \n",
            " 14  market_segment                  119390 non-null  object \n",
            " 15  distribution_channel            119390 non-null  object \n",
            " 16  is_repeated_guest               119390 non-null  int64  \n",
            " 17  previous_cancellations          119390 non-null  int64  \n",
            " 18  previous_bookings_not_canceled  119390 non-null  int64  \n",
            " 19  reserved_room_type              119390 non-null  object \n",
            " 20  assigned_room_type              119390 non-null  object \n",
            " 21  booking_changes                 119390 non-null  int64  \n",
            " 22  deposit_type                    119390 non-null  object \n",
            " 23  agent                           119390 non-null  float64\n",
            " 24  company                         119390 non-null  float64\n",
            " 25  days_in_waiting_list            119390 non-null  int64  \n",
            " 26  customer_type                   119390 non-null  object \n",
            " 27  adr                             119390 non-null  float64\n",
            " 28  required_car_parking_spaces     119390 non-null  int64  \n",
            " 29  total_of_special_requests       119390 non-null  int64  \n",
            " 30  reservation_status              119390 non-null  object \n",
            " 31  reservation_status_date         119390 non-null  object \n",
            " 32  name                            119390 non-null  object \n",
            " 33  email                           119390 non-null  object \n",
            " 34  phone-number                    119390 non-null  object \n",
            " 35  credit_card                     119390 non-null  object \n",
            "dtypes: float64(4), int64(16), object(16)\n",
            "memory usage: 32.8+ MB\n"
          ]
        }
      ]
    },
    {
      "cell_type": "markdown",
      "source": [
        "# **Обработка категориальных значений**\n",
        "\n",
        "Столбцы (hotel, arrival_date_month, meal, country, market_segment, distribution_channel, reserved_room_type, assigned_room_type, deposit_type, customer_type, reservation_status, reservation_status_date, name, email, phone-number, credit_card) Содержат категориальные признаки, необходимо преобразовать тип Object в специальный тип. Столбцы name, email, phone-number, credit_card - удалить, они не влияют на вероятность отмены бронирования."
      ],
      "metadata": {
        "id": "BnS8m10WipUe"
      }
    },
    {
      "cell_type": "code",
      "source": [
        "data_raw['hotel'] = data_raw['hotel'].astype('category')\n",
        "data_raw['arrival_date_month'] = data_raw['arrival_date_month'].astype('category')\n",
        "data_raw['meal'] = data_raw['meal'].astype('category')\n",
        "data_raw['country'] = data_raw['country'].astype('category')\n",
        "data_raw['market_segment'] = data_raw['market_segment'].astype('category')\n",
        "data_raw['distribution_channel'] = data_raw['distribution_channel'].astype('category')\n",
        "data_raw['reserved_room_type'] = data_raw['reserved_room_type'].astype('category')\n",
        "data_raw['assigned_room_type'] = data_raw['assigned_room_type'].astype('category')\n",
        "data_raw['deposit_type'] = data_raw['deposit_type'].astype('category')\n",
        "data_raw['customer_type'] = data_raw['customer_type'].astype('category')\n",
        "data_raw['reservation_status'] = data_raw['reservation_status'].astype('category')\n",
        "data_raw['reservation_status_date'] = data_raw['reservation_status_date'].astype('category')"
      ],
      "metadata": {
        "id": "agra3iwmlGSf"
      },
      "execution_count": null,
      "outputs": []
    },
    {
      "cell_type": "code",
      "source": [
        "data_raw['hotel'].dtype"
      ],
      "metadata": {
        "colab": {
          "base_uri": "https://localhost:8080/"
        },
        "id": "NFzU7zySmac3",
        "outputId": "17cab1de-172b-419f-c1aa-f55113aa9099"
      },
      "execution_count": null,
      "outputs": [
        {
          "output_type": "execute_result",
          "data": {
            "text/plain": [
              "CategoricalDtype(categories=['City Hotel', 'Resort Hotel'], ordered=False)"
            ]
          },
          "metadata": {},
          "execution_count": 556
        }
      ]
    },
    {
      "cell_type": "code",
      "source": [
        "data_raw['arrival_date_month'].dtype"
      ],
      "metadata": {
        "colab": {
          "base_uri": "https://localhost:8080/"
        },
        "id": "F32ggBKAmale",
        "outputId": "f40a87cb-2acc-48e5-bb36-cb308f9b3404"
      },
      "execution_count": null,
      "outputs": [
        {
          "output_type": "execute_result",
          "data": {
            "text/plain": [
              "CategoricalDtype(categories=['April', 'August', 'December', 'February', 'January', 'July',\n",
              "                  'June', 'March', 'May', 'November', 'October', 'September'],\n",
              ", ordered=False)"
            ]
          },
          "metadata": {},
          "execution_count": 557
        }
      ]
    },
    {
      "cell_type": "code",
      "source": [
        "data_raw['meal'].dtype"
      ],
      "metadata": {
        "colab": {
          "base_uri": "https://localhost:8080/"
        },
        "id": "mUR7ooIXmaze",
        "outputId": "4ab2459b-8c87-46f7-f451-c5be3723d4ac"
      },
      "execution_count": null,
      "outputs": [
        {
          "output_type": "execute_result",
          "data": {
            "text/plain": [
              "CategoricalDtype(categories=['BB', 'FB', 'HB', 'SC', 'Undefined'], ordered=False)"
            ]
          },
          "metadata": {},
          "execution_count": 558
        }
      ]
    },
    {
      "cell_type": "code",
      "source": [
        "data_raw['country'].dtype"
      ],
      "metadata": {
        "colab": {
          "base_uri": "https://localhost:8080/"
        },
        "id": "lUGqUS3BmbBW",
        "outputId": "4136a213-6de9-4cfa-c7f4-f4a22e97ad34"
      },
      "execution_count": null,
      "outputs": [
        {
          "output_type": "execute_result",
          "data": {
            "text/plain": [
              "CategoricalDtype(categories=['ABW', 'AGO', 'AIA', 'ALB', 'AND', 'ARE', 'ARG', 'ARM',\n",
              "                  'ASM', 'ATA',\n",
              "                  ...\n",
              "                  'UMI', 'URY', 'USA', 'UZB', 'VEN', 'VGB', 'VNM', 'ZAF',\n",
              "                  'ZMB', 'ZWE'],\n",
              ", ordered=False)"
            ]
          },
          "metadata": {},
          "execution_count": 559
        }
      ]
    },
    {
      "cell_type": "code",
      "source": [
        "data_raw['market_segment'].dtype"
      ],
      "metadata": {
        "colab": {
          "base_uri": "https://localhost:8080/"
        },
        "id": "iLenl0XlmbIG",
        "outputId": "8b2c81ce-272f-4406-a549-152ed4babd07"
      },
      "execution_count": null,
      "outputs": [
        {
          "output_type": "execute_result",
          "data": {
            "text/plain": [
              "CategoricalDtype(categories=['Aviation', 'Complementary', 'Corporate', 'Direct', 'Groups',\n",
              "                  'Offline TA/TO', 'Online TA', 'Undefined'],\n",
              ", ordered=False)"
            ]
          },
          "metadata": {},
          "execution_count": 560
        }
      ]
    },
    {
      "cell_type": "code",
      "source": [
        "data_raw['distribution_channel'].dtype"
      ],
      "metadata": {
        "colab": {
          "base_uri": "https://localhost:8080/"
        },
        "id": "-z1AmeHLmbOm",
        "outputId": "aafd4d90-5d2e-439c-87b3-3ff380f3a38a"
      },
      "execution_count": null,
      "outputs": [
        {
          "output_type": "execute_result",
          "data": {
            "text/plain": [
              "CategoricalDtype(categories=['Corporate', 'Direct', 'GDS', 'TA/TO', 'Undefined'], ordered=False)"
            ]
          },
          "metadata": {},
          "execution_count": 561
        }
      ]
    },
    {
      "cell_type": "code",
      "source": [
        "data_raw['reserved_room_type'].dtype"
      ],
      "metadata": {
        "colab": {
          "base_uri": "https://localhost:8080/"
        },
        "id": "2exXTdqFmbUX",
        "outputId": "d5f6081a-5c78-4af8-ce2e-73d14fbfffa4"
      },
      "execution_count": null,
      "outputs": [
        {
          "output_type": "execute_result",
          "data": {
            "text/plain": [
              "CategoricalDtype(categories=['A', 'B', 'C', 'D', 'E', 'F', 'G', 'H', 'L', 'P'], ordered=False)"
            ]
          },
          "metadata": {},
          "execution_count": 562
        }
      ]
    },
    {
      "cell_type": "code",
      "source": [
        "data_raw['assigned_room_type'].dtype"
      ],
      "metadata": {
        "colab": {
          "base_uri": "https://localhost:8080/"
        },
        "id": "qQfh7IGumbaf",
        "outputId": "2ee987d8-ec83-44fd-8e36-c7d32e8c6e22"
      },
      "execution_count": null,
      "outputs": [
        {
          "output_type": "execute_result",
          "data": {
            "text/plain": [
              "CategoricalDtype(categories=['A', 'B', 'C', 'D', 'E', 'F', 'G', 'H', 'I', 'K', 'L', 'P'], ordered=False)"
            ]
          },
          "metadata": {},
          "execution_count": 563
        }
      ]
    },
    {
      "cell_type": "code",
      "source": [
        "data_raw['deposit_type'].dtype"
      ],
      "metadata": {
        "colab": {
          "base_uri": "https://localhost:8080/"
        },
        "id": "9BA9z_CNmbf_",
        "outputId": "f56663cf-f20a-4a1f-b0a2-0a16a8cee95d"
      },
      "execution_count": null,
      "outputs": [
        {
          "output_type": "execute_result",
          "data": {
            "text/plain": [
              "CategoricalDtype(categories=['No Deposit', 'Non Refund', 'Refundable'], ordered=False)"
            ]
          },
          "metadata": {},
          "execution_count": 564
        }
      ]
    },
    {
      "cell_type": "code",
      "source": [
        "data_raw['customer_type'].dtype"
      ],
      "metadata": {
        "colab": {
          "base_uri": "https://localhost:8080/"
        },
        "id": "Wnm4yCRkmbl2",
        "outputId": "a1d0f712-752e-4886-90d5-438038e5cff0"
      },
      "execution_count": null,
      "outputs": [
        {
          "output_type": "execute_result",
          "data": {
            "text/plain": [
              "CategoricalDtype(categories=['Contract', 'Group', 'Transient', 'Transient-Party'], ordered=False)"
            ]
          },
          "metadata": {},
          "execution_count": 565
        }
      ]
    },
    {
      "cell_type": "code",
      "source": [
        "data_raw['reservation_status'].dtype"
      ],
      "metadata": {
        "colab": {
          "base_uri": "https://localhost:8080/"
        },
        "id": "NxmXoOL-mbrf",
        "outputId": "f5c9f2a3-914a-4b9d-8d08-40e40cf5e988"
      },
      "execution_count": null,
      "outputs": [
        {
          "output_type": "execute_result",
          "data": {
            "text/plain": [
              "CategoricalDtype(categories=['Canceled', 'Check-Out', 'No-Show'], ordered=False)"
            ]
          },
          "metadata": {},
          "execution_count": 566
        }
      ]
    },
    {
      "cell_type": "code",
      "source": [
        "data_raw['reservation_status_date'].dtype"
      ],
      "metadata": {
        "colab": {
          "base_uri": "https://localhost:8080/"
        },
        "id": "KU4C0RBImbwp",
        "outputId": "831a9d04-022e-4218-dd57-6bd289f497bd"
      },
      "execution_count": null,
      "outputs": [
        {
          "output_type": "execute_result",
          "data": {
            "text/plain": [
              "CategoricalDtype(categories=['2014-10-17', '2014-11-18', '2015-01-01', '2015-01-02',\n",
              "                  '2015-01-18', '2015-01-20', '2015-01-21', '2015-01-22',\n",
              "                  '2015-01-28', '2015-01-29',\n",
              "                  ...\n",
              "                  '2017-09-03', '2017-09-04', '2017-09-05', '2017-09-06',\n",
              "                  '2017-09-07', '2017-09-08', '2017-09-09', '2017-09-10',\n",
              "                  '2017-09-12', '2017-09-14'],\n",
              ", ordered=False)"
            ]
          },
          "metadata": {},
          "execution_count": 567
        }
      ]
    },
    {
      "cell_type": "markdown",
      "source": [
        "Удаление столбцов, не нусещих уникальные данные или имеющих большое количество вариантов значений."
      ],
      "metadata": {
        "id": "qcOhKpyknJgY"
      }
    },
    {
      "cell_type": "code",
      "source": [
        "data_raw.drop('name', inplace=True, axis=1)\n",
        "data_raw.drop('email', inplace=True, axis=1)\n",
        "data_raw.drop('phone-number', inplace=True, axis=1)\n",
        "data_raw.drop('credit_card', inplace=True, axis=1)\n",
        "data_raw.drop('country', inplace=True, axis=1)\n",
        "data_raw.drop('reservation_status_date', inplace=True, axis=1)\n",
        "data_raw.drop('arrival_date_month', inplace=True, axis=1)\n",
        "data_raw.drop('reserved_room_type', inplace=True, axis=1)\n",
        "data_raw.drop('assigned_room_type', inplace=True, axis=1)\n",
        "data_raw.drop('reservation_status', inplace=True, axis=1)"
      ],
      "metadata": {
        "id": "XD8JMD_MnMnH"
      },
      "execution_count": null,
      "outputs": []
    },
    {
      "cell_type": "code",
      "source": [
        "data_raw.info()"
      ],
      "metadata": {
        "colab": {
          "base_uri": "https://localhost:8080/"
        },
        "id": "nosKaS8AFe1M",
        "outputId": "1a62e6be-421e-4732-c10b-36da808f7925"
      },
      "execution_count": null,
      "outputs": [
        {
          "output_type": "stream",
          "name": "stdout",
          "text": [
            "<class 'pandas.core.frame.DataFrame'>\n",
            "RangeIndex: 119390 entries, 0 to 119389\n",
            "Data columns (total 26 columns):\n",
            " #   Column                          Non-Null Count   Dtype   \n",
            "---  ------                          --------------   -----   \n",
            " 0   hotel                           119390 non-null  category\n",
            " 1   is_canceled                     119390 non-null  int64   \n",
            " 2   lead_time                       119390 non-null  int64   \n",
            " 3   arrival_date_year               119390 non-null  int64   \n",
            " 4   arrival_date_week_number        119390 non-null  int64   \n",
            " 5   arrival_date_day_of_month       119390 non-null  int64   \n",
            " 6   stays_in_weekend_nights         119390 non-null  int64   \n",
            " 7   stays_in_week_nights            119390 non-null  int64   \n",
            " 8   adults                          119390 non-null  int64   \n",
            " 9   children                        119386 non-null  float64 \n",
            " 10  babies                          119390 non-null  int64   \n",
            " 11  meal                            119390 non-null  category\n",
            " 12  market_segment                  119390 non-null  category\n",
            " 13  distribution_channel            119390 non-null  category\n",
            " 14  is_repeated_guest               119390 non-null  int64   \n",
            " 15  previous_cancellations          119390 non-null  int64   \n",
            " 16  previous_bookings_not_canceled  119390 non-null  int64   \n",
            " 17  booking_changes                 119390 non-null  int64   \n",
            " 18  deposit_type                    119390 non-null  category\n",
            " 19  agent                           119390 non-null  float64 \n",
            " 20  company                         119390 non-null  float64 \n",
            " 21  days_in_waiting_list            119390 non-null  int64   \n",
            " 22  customer_type                   119390 non-null  category\n",
            " 23  adr                             119390 non-null  float64 \n",
            " 24  required_car_parking_spaces     119390 non-null  int64   \n",
            " 25  total_of_special_requests       119390 non-null  int64   \n",
            "dtypes: category(6), float64(4), int64(16)\n",
            "memory usage: 18.9 MB\n"
          ]
        }
      ]
    },
    {
      "cell_type": "markdown",
      "source": [
        "# **Обработка выбросов**\n",
        "\n",
        "Зависимость отмены бронирования от количества дней до заселения."
      ],
      "metadata": {
        "id": "ExE3xBDtF1R7"
      }
    },
    {
      "cell_type": "code",
      "source": [
        "plt.scatter(data_raw['is_canceled'], data_raw['lead_time'], alpha=0.5)\n",
        "plt.xlabel('is_canceled')\n",
        "plt.ylabel('lead_time')\n",
        "pass"
      ],
      "metadata": {
        "colab": {
          "base_uri": "https://localhost:8080/",
          "height": 280
        },
        "id": "x54EQ_ZMF5Bi",
        "outputId": "76c31faa-31de-4d32-dcd8-c8d2cc362266"
      },
      "execution_count": null,
      "outputs": [
        {
          "output_type": "display_data",
          "data": {
            "text/plain": [
              "<Figure size 432x288 with 1 Axes>"
            ],
            "image/png": "[encoded data removed]"
          },
          "metadata": {
            "needs_background": "light"
          }
        }
      ]
    },
    {
      "cell_type": "markdown",
      "source": [
        "Видно, что из всех выделяются записи с бронью за два года.\n",
        "Посмотрим квантили для lead_time.\n"
      ],
      "metadata": {
        "id": "AhVr3KaVJcOL"
      }
    },
    {
      "cell_type": "code",
      "source": [
        "data_raw['lead_time'].quantile([.1,.5,.70, .90, .95, .999, 1])"
      ],
      "metadata": {
        "colab": {
          "base_uri": "https://localhost:8080/"
        },
        "id": "5p6w-QfmLV47",
        "outputId": "f02bda5e-ea66-4714-a5f5-63f1ae6fa8ac"
      },
      "execution_count": null,
      "outputs": [
        {
          "output_type": "execute_result",
          "data": {
            "text/plain": [
              "0.100      3.0\n",
              "0.500     69.0\n",
              "0.700    138.0\n",
              "0.900    265.0\n",
              "0.950    320.0\n",
              "0.999    605.0\n",
              "1.000    737.0\n",
              "Name: lead_time, dtype: float64"
            ]
          },
          "metadata": {},
          "execution_count": 571
        }
      ]
    },
    {
      "cell_type": "markdown",
      "source": [
        "Удаляем записи, в которых срок брони более 605 дней. Кто вообще за два года бронирует отель?"
      ],
      "metadata": {
        "id": "0jHbjfxnMCqM"
      }
    },
    {
      "cell_type": "code",
      "source": [
        "data_raw.shape"
      ],
      "metadata": {
        "colab": {
          "base_uri": "https://localhost:8080/"
        },
        "id": "KgziIguZMl5O",
        "outputId": "d2fa5b80-9911-4ba0-85d1-482af30b496c"
      },
      "execution_count": null,
      "outputs": [
        {
          "output_type": "execute_result",
          "data": {
            "text/plain": [
              "(119390, 26)"
            ]
          },
          "metadata": {},
          "execution_count": 572
        }
      ]
    },
    {
      "cell_type": "code",
      "source": [
        "rows_to_drop = data_raw[ (data_raw['lead_time'] > data_raw['lead_time'].quantile(0.999)) ].index\n",
        "data_raw.drop(rows_to_drop, inplace=True, axis=0)\n",
        "data_raw.shape"
      ],
      "metadata": {
        "colab": {
          "base_uri": "https://localhost:8080/"
        },
        "id": "0YErkW2FMLKs",
        "outputId": "5d663526-fe7e-4222-e597-c7986cef8fec"
      },
      "execution_count": null,
      "outputs": [
        {
          "output_type": "execute_result",
          "data": {
            "text/plain": [
              "(119290, 26)"
            ]
          },
          "metadata": {},
          "execution_count": 573
        }
      ]
    },
    {
      "cell_type": "markdown",
      "source": [
        "Зависимость истории отмен и истории успешных броней клиента."
      ],
      "metadata": {
        "id": "MdtH-vOqLNa8"
      }
    },
    {
      "cell_type": "code",
      "source": [
        "plt.scatter(data_raw['previous_cancellations'], data_raw['previous_bookings_not_canceled'], alpha=0.5)\n",
        "plt.xlabel('previous_cancellations')\n",
        "plt.ylabel('previous_bookings_not_canceled')\n",
        "pass"
      ],
      "metadata": {
        "colab": {
          "base_uri": "https://localhost:8080/",
          "height": 280
        },
        "id": "HsLCfGoKJ9hc",
        "outputId": "daf333ce-d21a-40ad-eb90-bf8f955c61de"
      },
      "execution_count": null,
      "outputs": [
        {
          "output_type": "display_data",
          "data": {
            "text/plain": [
              "<Figure size 432x288 with 1 Axes>"
            ],
            "image/png": "[encoded data removed]"
          },
          "metadata": {
            "needs_background": "light"
          }
        }
      ]
    },
    {
      "cell_type": "markdown",
      "source": [
        "Есть клиенты, которые раньше никогда не заселялись в номер, но при этом больше 14 раз бронировали и отменяли. Скорее всего конкуренты. Посмотрим квантили для previous_cancellations."
      ],
      "metadata": {
        "id": "pO3EjVkWKQLU"
      }
    },
    {
      "cell_type": "code",
      "source": [
        "data_raw['previous_cancellations'].quantile([.1,.5,.70, .90, .95, .999, 1])"
      ],
      "metadata": {
        "colab": {
          "base_uri": "https://localhost:8080/"
        },
        "id": "Wlqz2OmWNyjE",
        "outputId": "a418723a-5540-436b-aa44-caa6942d6909"
      },
      "execution_count": null,
      "outputs": [
        {
          "output_type": "execute_result",
          "data": {
            "text/plain": [
              "0.100     0.0\n",
              "0.500     0.0\n",
              "0.700     0.0\n",
              "0.900     0.0\n",
              "0.950     1.0\n",
              "0.999    14.0\n",
              "1.000    26.0\n",
              "Name: previous_cancellations, dtype: float64"
            ]
          },
          "metadata": {},
          "execution_count": 575
        }
      ]
    },
    {
      "cell_type": "markdown",
      "source": [
        "Удаляем тех кто отменял более 14 раз."
      ],
      "metadata": {
        "id": "8X2jAYhuPHY_"
      }
    },
    {
      "cell_type": "code",
      "source": [
        "rows_to_drop = data_raw[ (data_raw['previous_cancellations'] > data_raw['previous_cancellations'].quantile(0.999)) ].index\n",
        "data_raw.drop(rows_to_drop, inplace=True, axis=0)\n",
        "data_raw.shape"
      ],
      "metadata": {
        "colab": {
          "base_uri": "https://localhost:8080/"
        },
        "id": "ugD5xtDqPPJ9",
        "outputId": "b1b7703b-53da-48d5-972f-c7c2325a1e30"
      },
      "execution_count": null,
      "outputs": [
        {
          "output_type": "execute_result",
          "data": {
            "text/plain": [
              "(119069, 46)"
            ]
          },
          "metadata": {},
          "execution_count": 604
        }
      ]
    },
    {
      "cell_type": "markdown",
      "source": [
        "# **Визуализация и описательная статистика**"
      ],
      "metadata": {
        "id": "Ym2om-K4PwJs"
      }
    },
    {
      "cell_type": "markdown",
      "source": [
        "Статистические значения: 25% - первый квартиль 50% - второй квартиль 75% - третий квартиль count - количество значений для каждого признака mean - среднее значение std - стандартное отклонение min/max - мин / макc значение"
      ],
      "metadata": {
        "id": "Pv0GwXh8l2V_"
      }
    },
    {
      "cell_type": "code",
      "source": [
        "data_raw.describe()"
      ],
      "metadata": {
        "colab": {
          "base_uri": "https://localhost:8080/",
          "height": 364
        },
        "id": "wd2bA8IKmAbT",
        "outputId": "15970011-985a-40e1-afc5-bdd0b04ce06b"
      },
      "execution_count": null,
      "outputs": [
        {
          "output_type": "execute_result",
          "data": {
            "text/plain": [
              "         is_canceled      lead_time  arrival_date_year  \\\n",
              "count  119171.000000  119171.000000      119171.000000   \n",
              "mean        0.369276     103.449648        2016.157278   \n",
              "std         0.482611     105.815542           0.706882   \n",
              "min         0.000000       0.000000        2015.000000   \n",
              "25%         0.000000      18.000000        2016.000000   \n",
              "50%         0.000000      69.000000        2016.000000   \n",
              "75%         1.000000     160.000000        2017.000000   \n",
              "max         1.000000     605.000000        2017.000000   \n",
              "\n",
              "       arrival_date_week_number  arrival_date_day_of_month  \\\n",
              "count             119171.000000              119171.000000   \n",
              "mean                  27.160668                  15.806169   \n",
              "std                   13.605583                   8.779767   \n",
              "min                    1.000000                   1.000000   \n",
              "25%                   16.000000                   8.000000   \n",
              "50%                   28.000000                  16.000000   \n",
              "75%                   38.000000                  23.000000   \n",
              "max                   53.000000                  31.000000   \n",
              "\n",
              "       stays_in_weekend_nights  stays_in_week_nights         adults  \\\n",
              "count            119171.000000         119171.000000  119171.000000   \n",
              "mean                  0.927935              2.500197       1.856207   \n",
              "std                   0.998670              1.908208       0.579719   \n",
              "min                   0.000000              0.000000       0.000000   \n",
              "25%                   0.000000              1.000000       2.000000   \n",
              "50%                   1.000000              2.000000       2.000000   \n",
              "75%                   2.000000              3.000000       2.000000   \n",
              "max                  19.000000             50.000000      55.000000   \n",
              "\n",
              "            children         babies  is_repeated_guest  \\\n",
              "count  119167.000000  119171.000000      119171.000000   \n",
              "mean        0.104081       0.007963           0.031962   \n",
              "std         0.398903       0.097525           0.175901   \n",
              "min         0.000000       0.000000           0.000000   \n",
              "25%         0.000000       0.000000           0.000000   \n",
              "50%         0.000000       0.000000           0.000000   \n",
              "75%         0.000000       0.000000           0.000000   \n",
              "max        10.000000      10.000000           1.000000   \n",
              "\n",
              "       previous_cancellations  previous_bookings_not_canceled  \\\n",
              "count           119171.000000                   119171.000000   \n",
              "mean                 0.063489                        0.137349   \n",
              "std                  0.381999                        1.498801   \n",
              "min                  0.000000                        0.000000   \n",
              "25%                  0.000000                        0.000000   \n",
              "50%                  0.000000                        0.000000   \n",
              "75%                  0.000000                        0.000000   \n",
              "max                 14.000000                       72.000000   \n",
              "\n",
              "       booking_changes          agent        company  days_in_waiting_list  \\\n",
              "count    119171.000000  119171.000000  119171.000000         119171.000000   \n",
              "mean          0.221480      74.847421      10.794959              2.325415   \n",
              "std           0.652724     107.160191      53.991448             17.610599   \n",
              "min           0.000000       0.000000       0.000000              0.000000   \n",
              "25%           0.000000       7.000000       0.000000              0.000000   \n",
              "50%           0.000000       9.000000       0.000000              0.000000   \n",
              "75%           0.000000     152.000000       0.000000              0.000000   \n",
              "max          21.000000     535.000000     543.000000            391.000000   \n",
              "\n",
              "                 adr  required_car_parking_spaces  total_of_special_requests  \n",
              "count  119171.000000                119171.000000              119171.000000  \n",
              "mean      101.913066                     0.062633                   0.572413  \n",
              "std        50.531509                     0.245502                   0.793148  \n",
              "min        -6.380000                     0.000000                   0.000000  \n",
              "25%        69.530000                     0.000000                   0.000000  \n",
              "50%        94.950000                     0.000000                   0.000000  \n",
              "75%       126.000000                     0.000000                   1.000000  \n",
              "max      5400.000000                     8.000000                   5.000000  "
            ],
            "text/html": [
              "\n",
              "  <div id=\"df-9dbd2909-13f9-4148-8a2a-beb58a4e60fb\">\n",
              "    <div class=\"colab-df-container\">\n",
              "      <div>\n",
              "<style scoped>\n",
              "    .dataframe tbody tr th:only-of-type {\n",
              "        vertical-align: middle;\n",
              "    }\n",
              "\n",
              "    .dataframe tbody tr th {\n",
              "        vertical-align: top;\n",
              "    }\n",
              "\n",
              "    .dataframe thead th {\n",
              "        text-align: right;\n",
              "    }\n",
              "</style>\n",
              "<table border=\"1\" class=\"dataframe\">\n",
              "  <thead>\n",
              "    <tr style=\"text-align: right;\">\n",
              "      <th></th>\n",
              "      <th>is_canceled</th>\n",
              "      <th>lead_time</th>\n",
              "      <th>arrival_date_year</th>\n",
              "      <th>arrival_date_week_number</th>\n",
              "      <th>arrival_date_day_of_month</th>\n",
              "      <th>stays_in_weekend_nights</th>\n",
              "      <th>stays_in_week_nights</th>\n",
              "      <th>adults</th>\n",
              "      <th>children</th>\n",
              "      <th>babies</th>\n",
              "      <th>is_repeated_guest</th>\n",
              "      <th>previous_cancellations</th>\n",
              "      <th>previous_bookings_not_canceled</th>\n",
              "      <th>booking_changes</th>\n",
              "      <th>agent</th>\n",
              "      <th>company</th>\n",
              "      <th>days_in_waiting_list</th>\n",
              "      <th>adr</th>\n",
              "      <th>required_car_parking_spaces</th>\n",
              "      <th>total_of_special_requests</th>\n",
              "    </tr>\n",
              "  </thead>\n",
              "  <tbody>\n",
              "    <tr>\n",
              "      <th>count</th>\n",
              "      <td>119171.000000</td>\n",
              "      <td>119171.000000</td>\n",
              "      <td>119171.000000</td>\n",
              "      <td>119171.000000</td>\n",
              "      <td>119171.000000</td>\n",
              "      <td>119171.000000</td>\n",
              "      <td>119171.000000</td>\n",
              "      <td>119171.000000</td>\n",
              "      <td>119167.000000</td>\n",
              "      <td>119171.000000</td>\n",
              "      <td>119171.000000</td>\n",
              "      <td>119171.000000</td>\n",
              "      <td>119171.000000</td>\n",
              "      <td>119171.000000</td>\n",
              "      <td>119171.000000</td>\n",
              "      <td>119171.000000</td>\n",
              "      <td>119171.000000</td>\n",
              "      <td>119171.000000</td>\n",
              "      <td>119171.000000</td>\n",
              "      <td>119171.000000</td>\n",
              "    </tr>\n",
              "    <tr>\n",
              "      <th>mean</th>\n",
              "      <td>0.369276</td>\n",
              "      <td>103.449648</td>\n",
              "      <td>2016.157278</td>\n",
              "      <td>27.160668</td>\n",
              "      <td>15.806169</td>\n",
              "      <td>0.927935</td>\n",
              "      <td>2.500197</td>\n",
              "      <td>1.856207</td>\n",
              "      <td>0.104081</td>\n",
              "      <td>0.007963</td>\n",
              "      <td>0.031962</td>\n",
              "      <td>0.063489</td>\n",
              "      <td>0.137349</td>\n",
              "      <td>0.221480</td>\n",
              "      <td>74.847421</td>\n",
              "      <td>10.794959</td>\n",
              "      <td>2.325415</td>\n",
              "      <td>101.913066</td>\n",
              "      <td>0.062633</td>\n",
              "      <td>0.572413</td>\n",
              "    </tr>\n",
              "    <tr>\n",
              "      <th>std</th>\n",
              "      <td>0.482611</td>\n",
              "      <td>105.815542</td>\n",
              "      <td>0.706882</td>\n",
              "      <td>13.605583</td>\n",
              "      <td>8.779767</td>\n",
              "      <td>0.998670</td>\n",
              "      <td>1.908208</td>\n",
              "      <td>0.579719</td>\n",
              "      <td>0.398903</td>\n",
              "      <td>0.097525</td>\n",
              "      <td>0.175901</td>\n",
              "      <td>0.381999</td>\n",
              "      <td>1.498801</td>\n",
              "      <td>0.652724</td>\n",
              "      <td>107.160191</td>\n",
              "      <td>53.991448</td>\n",
              "      <td>17.610599</td>\n",
              "      <td>50.531509</td>\n",
              "      <td>0.245502</td>\n",
              "      <td>0.793148</td>\n",
              "    </tr>\n",
              "    <tr>\n",
              "      <th>min</th>\n",
              "      <td>0.000000</td>\n",
              "      <td>0.000000</td>\n",
              "      <td>2015.000000</td>\n",
              "      <td>1.000000</td>\n",
              "      <td>1.000000</td>\n",
              "      <td>0.000000</td>\n",
              "      <td>0.000000</td>\n",
              "      <td>0.000000</td>\n",
              "      <td>0.000000</td>\n",
              "      <td>0.000000</td>\n",
              "      <td>0.000000</td>\n",
              "      <td>0.000000</td>\n",
              "      <td>0.000000</td>\n",
              "      <td>0.000000</td>\n",
              "      <td>0.000000</td>\n",
              "      <td>0.000000</td>\n",
              "      <td>0.000000</td>\n",
              "      <td>-6.380000</td>\n",
              "      <td>0.000000</td>\n",
              "      <td>0.000000</td>\n",
              "    </tr>\n",
              "    <tr>\n",
              "      <th>25%</th>\n",
              "      <td>0.000000</td>\n",
              "      <td>18.000000</td>\n",
              "      <td>2016.000000</td>\n",
              "      <td>16.000000</td>\n",
              "      <td>8.000000</td>\n",
              "      <td>0.000000</td>\n",
              "      <td>1.000000</td>\n",
              "      <td>2.000000</td>\n",
              "      <td>0.000000</td>\n",
              "      <td>0.000000</td>\n",
              "      <td>0.000000</td>\n",
              "      <td>0.000000</td>\n",
              "      <td>0.000000</td>\n",
              "      <td>0.000000</td>\n",
              "      <td>7.000000</td>\n",
              "      <td>0.000000</td>\n",
              "      <td>0.000000</td>\n",
              "      <td>69.530000</td>\n",
              "      <td>0.000000</td>\n",
              "      <td>0.000000</td>\n",
              "    </tr>\n",
              "    <tr>\n",
              "      <th>50%</th>\n",
              "      <td>0.000000</td>\n",
              "      <td>69.000000</td>\n",
              "      <td>2016.000000</td>\n",
              "      <td>28.000000</td>\n",
              "      <td>16.000000</td>\n",
              "      <td>1.000000</td>\n",
              "      <td>2.000000</td>\n",
              "      <td>2.000000</td>\n",
              "      <td>0.000000</td>\n",
              "      <td>0.000000</td>\n",
              "      <td>0.000000</td>\n",
              "      <td>0.000000</td>\n",
              "      <td>0.000000</td>\n",
              "      <td>0.000000</td>\n",
              "      <td>9.000000</td>\n",
              "      <td>0.000000</td>\n",
              "      <td>0.000000</td>\n",
              "      <td>94.950000</td>\n",
              "      <td>0.000000</td>\n",
              "      <td>0.000000</td>\n",
              "    </tr>\n",
              "    <tr>\n",
              "      <th>75%</th>\n",
              "      <td>1.000000</td>\n",
              "      <td>160.000000</td>\n",
              "      <td>2017.000000</td>\n",
              "      <td>38.000000</td>\n",
              "      <td>23.000000</td>\n",
              "      <td>2.000000</td>\n",
              "      <td>3.000000</td>\n",
              "      <td>2.000000</td>\n",
              "      <td>0.000000</td>\n",
              "      <td>0.000000</td>\n",
              "      <td>0.000000</td>\n",
              "      <td>0.000000</td>\n",
              "      <td>0.000000</td>\n",
              "      <td>0.000000</td>\n",
              "      <td>152.000000</td>\n",
              "      <td>0.000000</td>\n",
              "      <td>0.000000</td>\n",
              "      <td>126.000000</td>\n",
              "      <td>0.000000</td>\n",
              "      <td>1.000000</td>\n",
              "    </tr>\n",
              "    <tr>\n",
              "      <th>max</th>\n",
              "      <td>1.000000</td>\n",
              "      <td>605.000000</td>\n",
              "      <td>2017.000000</td>\n",
              "      <td>53.000000</td>\n",
              "      <td>31.000000</td>\n",
              "      <td>19.000000</td>\n",
              "      <td>50.000000</td>\n",
              "      <td>55.000000</td>\n",
              "      <td>10.000000</td>\n",
              "      <td>10.000000</td>\n",
              "      <td>1.000000</td>\n",
              "      <td>14.000000</td>\n",
              "      <td>72.000000</td>\n",
              "      <td>21.000000</td>\n",
              "      <td>535.000000</td>\n",
              "      <td>543.000000</td>\n",
              "      <td>391.000000</td>\n",
              "      <td>5400.000000</td>\n",
              "      <td>8.000000</td>\n",
              "      <td>5.000000</td>\n",
              "    </tr>\n",
              "  </tbody>\n",
              "</table>\n",
              "</div>\n",
              "      <button class=\"colab-df-convert\" onclick=\"convertToInteractive('df-9dbd2909-13f9-4148-8a2a-beb58a4e60fb')\"\n",
              "              title=\"Convert this dataframe to an interactive table.\"\n",
              "              style=\"display:none;\">\n",
              "        \n",
              "  <svg xmlns=\"http://www.w3.org/2000/svg\" height=\"24px\"viewBox=\"0 0 24 24\"\n",
              "       width=\"24px\">\n",
              "    <path d=\"M0 0h24v24H0V0z\" fill=\"none\"/>\n",
              "    <path d=\"M18.56 5.44l.94 2.06.94-2.06 2.06-.94-2.06-.94-.94-2.06-.94 2.06-2.06.94zm-11 1L8.5 8.5l.94-2.06 2.06-.94-2.06-.94L8.5 2.5l-.94 2.06-2.06.94zm10 10l.94 2.06.94-2.06 2.06-.94-2.06-.94-.94-2.06-.94 2.06-2.06.94z\"/><path d=\"M17.41 7.96l-1.37-1.37c-.4-.4-.92-.59-1.43-.59-.52 0-1.04.2-1.43.59L10.3 9.45l-7.72 7.72c-.78.78-.78 2.05 0 2.83L4 21.41c.39.39.9.59 1.41.59.51 0 1.02-.2 1.41-.59l7.78-7.78 2.81-2.81c.8-.78.8-2.07 0-2.86zM5.41 20L4 18.59l7.72-7.72 1.47 1.35L5.41 20z\"/>\n",
              "  </svg>\n",
              "      </button>\n",
              "      \n",
              "  <style>\n",
              "    .colab-df-container {\n",
              "      display:flex;\n",
              "      flex-wrap:wrap;\n",
              "      gap: 12px;\n",
              "    }\n",
              "\n",
              "    .colab-df-convert {\n",
              "      background-color: #E8F0FE;\n",
              "      border: none;\n",
              "      border-radius: 50%;\n",
              "      cursor: pointer;\n",
              "      display: none;\n",
              "      fill: #1967D2;\n",
              "      height: 32px;\n",
              "      padding: 0 0 0 0;\n",
              "      width: 32px;\n",
              "    }\n",
              "\n",
              "    .colab-df-convert:hover {\n",
              "      background-color: #E2EBFA;\n",
              "      box-shadow: 0px 1px 2px rgba(60, 64, 67, 0.3), 0px 1px 3px 1px rgba(60, 64, 67, 0.15);\n",
              "      fill: #174EA6;\n",
              "    }\n",
              "\n",
              "    [theme=dark] .colab-df-convert {\n",
              "      background-color: #3B4455;\n",
              "      fill: #D2E3FC;\n",
              "    }\n",
              "\n",
              "    [theme=dark] .colab-df-convert:hover {\n",
              "      background-color: #434B5C;\n",
              "      box-shadow: 0px 1px 3px 1px rgba(0, 0, 0, 0.15);\n",
              "      filter: drop-shadow(0px 1px 2px rgba(0, 0, 0, 0.3));\n",
              "      fill: #FFFFFF;\n",
              "    }\n",
              "  </style>\n",
              "\n",
              "      <script>\n",
              "        const buttonEl =\n",
              "          document.querySelector('#df-9dbd2909-13f9-4148-8a2a-beb58a4e60fb button.colab-df-convert');\n",
              "        buttonEl.style.display =\n",
              "          google.colab.kernel.accessAllowed ? 'block' : 'none';\n",
              "\n",
              "        async function convertToInteractive(key) {\n",
              "          const element = document.querySelector('#df-9dbd2909-13f9-4148-8a2a-beb58a4e60fb');\n",
              "          const dataTable =\n",
              "            await google.colab.kernel.invokeFunction('convertToInteractive',\n",
              "                                                     [key], {});\n",
              "          if (!dataTable) return;\n",
              "\n",
              "          const docLinkHtml = 'Like what you see? Visit the ' +\n",
              "            '<a target=\"_blank\" href=https://colab.research.google.com/notebooks/data_table.ipynb>data table notebook</a>'\n",
              "            + ' to learn more about interactive tables.';\n",
              "          element.innerHTML = '';\n",
              "          dataTable['output_type'] = 'display_data';\n",
              "          await google.colab.output.renderOutput(dataTable, element);\n",
              "          const docLink = document.createElement('div');\n",
              "          docLink.innerHTML = docLinkHtml;\n",
              "          element.appendChild(docLink);\n",
              "        }\n",
              "      </script>\n",
              "    </div>\n",
              "  </div>\n",
              "  "
            ]
          },
          "metadata": {},
          "execution_count": 577
        }
      ]
    },
    {
      "cell_type": "markdown",
      "source": [
        "Статистика категориальных признаков:\n",
        "\n",
        "count - всего значений;\n",
        "\n",
        "unique - количество уникальных значений;\n",
        "\n",
        "top - наиболее встречающееся значение;\n",
        "\n",
        "freq - количество строк с наиболее встречающимся значением;"
      ],
      "metadata": {
        "id": "hZYWQwMemmfr"
      }
    },
    {
      "cell_type": "code",
      "source": [
        "data_raw.describe(include=['category'])"
      ],
      "metadata": {
        "colab": {
          "base_uri": "https://localhost:8080/",
          "height": 175
        },
        "id": "lt1k8jKXmctE",
        "outputId": "9d74cac4-04da-42b3-9f14-eeff517af9c7"
      },
      "execution_count": null,
      "outputs": [
        {
          "output_type": "execute_result",
          "data": {
            "text/plain": [
              "             hotel    meal market_segment distribution_channel deposit_type  \\\n",
              "count       119171  119171         119171               119171       119171   \n",
              "unique           2       5              8                    5            3   \n",
              "top     City Hotel      BB      Online TA                TA/TO   No Deposit   \n",
              "freq         79231   92167          56477                97678       104614   \n",
              "\n",
              "       customer_type  \n",
              "count         119171  \n",
              "unique             4  \n",
              "top        Transient  \n",
              "freq           89419  "
            ],
            "text/html": [
              "\n",
              "  <div id=\"df-c9adaf4b-eba5-47e0-9c4f-0f14049c5b02\">\n",
              "    <div class=\"colab-df-container\">\n",
              "      <div>\n",
              "<style scoped>\n",
              "    .dataframe tbody tr th:only-of-type {\n",
              "        vertical-align: middle;\n",
              "    }\n",
              "\n",
              "    .dataframe tbody tr th {\n",
              "        vertical-align: top;\n",
              "    }\n",
              "\n",
              "    .dataframe thead th {\n",
              "        text-align: right;\n",
              "    }\n",
              "</style>\n",
              "<table border=\"1\" class=\"dataframe\">\n",
              "  <thead>\n",
              "    <tr style=\"text-align: right;\">\n",
              "      <th></th>\n",
              "      <th>hotel</th>\n",
              "      <th>meal</th>\n",
              "      <th>market_segment</th>\n",
              "      <th>distribution_channel</th>\n",
              "      <th>deposit_type</th>\n",
              "      <th>customer_type</th>\n",
              "    </tr>\n",
              "  </thead>\n",
              "  <tbody>\n",
              "    <tr>\n",
              "      <th>count</th>\n",
              "      <td>119171</td>\n",
              "      <td>119171</td>\n",
              "      <td>119171</td>\n",
              "      <td>119171</td>\n",
              "      <td>119171</td>\n",
              "      <td>119171</td>\n",
              "    </tr>\n",
              "    <tr>\n",
              "      <th>unique</th>\n",
              "      <td>2</td>\n",
              "      <td>5</td>\n",
              "      <td>8</td>\n",
              "      <td>5</td>\n",
              "      <td>3</td>\n",
              "      <td>4</td>\n",
              "    </tr>\n",
              "    <tr>\n",
              "      <th>top</th>\n",
              "      <td>City Hotel</td>\n",
              "      <td>BB</td>\n",
              "      <td>Online TA</td>\n",
              "      <td>TA/TO</td>\n",
              "      <td>No Deposit</td>\n",
              "      <td>Transient</td>\n",
              "    </tr>\n",
              "    <tr>\n",
              "      <th>freq</th>\n",
              "      <td>79231</td>\n",
              "      <td>92167</td>\n",
              "      <td>56477</td>\n",
              "      <td>97678</td>\n",
              "      <td>104614</td>\n",
              "      <td>89419</td>\n",
              "    </tr>\n",
              "  </tbody>\n",
              "</table>\n",
              "</div>\n",
              "      <button class=\"colab-df-convert\" onclick=\"convertToInteractive('df-c9adaf4b-eba5-47e0-9c4f-0f14049c5b02')\"\n",
              "              title=\"Convert this dataframe to an interactive table.\"\n",
              "              style=\"display:none;\">\n",
              "        \n",
              "  <svg xmlns=\"http://www.w3.org/2000/svg\" height=\"24px\"viewBox=\"0 0 24 24\"\n",
              "       width=\"24px\">\n",
              "    <path d=\"M0 0h24v24H0V0z\" fill=\"none\"/>\n",
              "    <path d=\"M18.56 5.44l.94 2.06.94-2.06 2.06-.94-2.06-.94-.94-2.06-.94 2.06-2.06.94zm-11 1L8.5 8.5l.94-2.06 2.06-.94-2.06-.94L8.5 2.5l-.94 2.06-2.06.94zm10 10l.94 2.06.94-2.06 2.06-.94-2.06-.94-.94-2.06-.94 2.06-2.06.94z\"/><path d=\"M17.41 7.96l-1.37-1.37c-.4-.4-.92-.59-1.43-.59-.52 0-1.04.2-1.43.59L10.3 9.45l-7.72 7.72c-.78.78-.78 2.05 0 2.83L4 21.41c.39.39.9.59 1.41.59.51 0 1.02-.2 1.41-.59l7.78-7.78 2.81-2.81c.8-.78.8-2.07 0-2.86zM5.41 20L4 18.59l7.72-7.72 1.47 1.35L5.41 20z\"/>\n",
              "  </svg>\n",
              "      </button>\n",
              "      \n",
              "  <style>\n",
              "    .colab-df-container {\n",
              "      display:flex;\n",
              "      flex-wrap:wrap;\n",
              "      gap: 12px;\n",
              "    }\n",
              "\n",
              "    .colab-df-convert {\n",
              "      background-color: #E8F0FE;\n",
              "      border: none;\n",
              "      border-radius: 50%;\n",
              "      cursor: pointer;\n",
              "      display: none;\n",
              "      fill: #1967D2;\n",
              "      height: 32px;\n",
              "      padding: 0 0 0 0;\n",
              "      width: 32px;\n",
              "    }\n",
              "\n",
              "    .colab-df-convert:hover {\n",
              "      background-color: #E2EBFA;\n",
              "      box-shadow: 0px 1px 2px rgba(60, 64, 67, 0.3), 0px 1px 3px 1px rgba(60, 64, 67, 0.15);\n",
              "      fill: #174EA6;\n",
              "    }\n",
              "\n",
              "    [theme=dark] .colab-df-convert {\n",
              "      background-color: #3B4455;\n",
              "      fill: #D2E3FC;\n",
              "    }\n",
              "\n",
              "    [theme=dark] .colab-df-convert:hover {\n",
              "      background-color: #434B5C;\n",
              "      box-shadow: 0px 1px 3px 1px rgba(0, 0, 0, 0.15);\n",
              "      filter: drop-shadow(0px 1px 2px rgba(0, 0, 0, 0.3));\n",
              "      fill: #FFFFFF;\n",
              "    }\n",
              "  </style>\n",
              "\n",
              "      <script>\n",
              "        const buttonEl =\n",
              "          document.querySelector('#df-c9adaf4b-eba5-47e0-9c4f-0f14049c5b02 button.colab-df-convert');\n",
              "        buttonEl.style.display =\n",
              "          google.colab.kernel.accessAllowed ? 'block' : 'none';\n",
              "\n",
              "        async function convertToInteractive(key) {\n",
              "          const element = document.querySelector('#df-c9adaf4b-eba5-47e0-9c4f-0f14049c5b02');\n",
              "          const dataTable =\n",
              "            await google.colab.kernel.invokeFunction('convertToInteractive',\n",
              "                                                     [key], {});\n",
              "          if (!dataTable) return;\n",
              "\n",
              "          const docLinkHtml = 'Like what you see? Visit the ' +\n",
              "            '<a target=\"_blank\" href=https://colab.research.google.com/notebooks/data_table.ipynb>data table notebook</a>'\n",
              "            + ' to learn more about interactive tables.';\n",
              "          element.innerHTML = '';\n",
              "          dataTable['output_type'] = 'display_data';\n",
              "          await google.colab.output.renderOutput(dataTable, element);\n",
              "          const docLink = document.createElement('div');\n",
              "          docLink.innerHTML = docLinkHtml;\n",
              "          element.appendChild(docLink);\n",
              "        }\n",
              "      </script>\n",
              "    </div>\n",
              "  </div>\n",
              "  "
            ]
          },
          "metadata": {},
          "execution_count": 578
        }
      ]
    },
    {
      "cell_type": "markdown",
      "source": [
        "Матрица корреляции"
      ],
      "metadata": {
        "id": "BI2b-js5m_B6"
      }
    },
    {
      "cell_type": "code",
      "source": [
        "cor_mat = data_raw.corr()\n",
        "cor_mat"
      ],
      "metadata": {
        "colab": {
          "base_uri": "https://localhost:8080/",
          "height": 741
        },
        "id": "o4NzFxCvnAmb",
        "outputId": "da0ed261-c95f-4ec1-fc7a-cb4c100b11fc"
      },
      "execution_count": null,
      "outputs": [
        {
          "output_type": "execute_result",
          "data": {
            "text/plain": [
              "                                is_canceled  lead_time  arrival_date_year  \\\n",
              "is_canceled                        1.000000   0.290023           0.018021   \n",
              "lead_time                          0.290023   1.000000           0.039665   \n",
              "arrival_date_year                  0.018021   0.039665           1.000000   \n",
              "arrival_date_week_number           0.007712   0.129021          -0.540068   \n",
              "arrival_date_day_of_month         -0.004977   0.003613          -0.002036   \n",
              "stays_in_weekend_nights           -0.001248   0.088505           0.022391   \n",
              "stays_in_week_nights               0.024892   0.168390           0.031564   \n",
              "adults                             0.059683   0.120074           0.030083   \n",
              "children                           0.005672  -0.036646           0.054456   \n",
              "babies                            -0.032349  -0.020708          -0.013299   \n",
              "is_repeated_guest                 -0.084572  -0.124885           0.010253   \n",
              "previous_cancellations             0.163181   0.118648          -0.163831   \n",
              "previous_bookings_not_canceled    -0.057231  -0.073859           0.029176   \n",
              "booking_changes                   -0.143785   0.001497           0.030677   \n",
              "agent                             -0.046428  -0.010589           0.057679   \n",
              "company                           -0.082655  -0.086125           0.033738   \n",
              "days_in_waiting_list               0.054583   0.172630          -0.056732   \n",
              "adr                                0.049751  -0.059179           0.197038   \n",
              "required_car_parking_spaces       -0.195211  -0.116364          -0.013971   \n",
              "total_of_special_requests         -0.233430  -0.092963           0.108035   \n",
              "\n",
              "                                arrival_date_week_number  \\\n",
              "is_canceled                                     0.007712   \n",
              "lead_time                                       0.129021   \n",
              "arrival_date_year                              -0.540068   \n",
              "arrival_date_week_number                        1.000000   \n",
              "arrival_date_day_of_month                       0.068207   \n",
              "stays_in_weekend_nights                         0.017414   \n",
              "stays_in_week_nights                            0.015449   \n",
              "adults                                          0.025720   \n",
              "children                                        0.005610   \n",
              "babies                                          0.010432   \n",
              "is_repeated_guest                              -0.030105   \n",
              "previous_cancellations                          0.037531   \n",
              "previous_bookings_not_canceled                 -0.020892   \n",
              "booking_changes                                 0.005661   \n",
              "agent                                          -0.018980   \n",
              "company                                        -0.032714   \n",
              "days_in_waiting_list                            0.022997   \n",
              "adr                                             0.076442   \n",
              "required_car_parking_spaces                     0.002007   \n",
              "total_of_special_requests                       0.026424   \n",
              "\n",
              "                                arrival_date_day_of_month  \\\n",
              "is_canceled                                     -0.004977   \n",
              "lead_time                                        0.003613   \n",
              "arrival_date_year                               -0.002036   \n",
              "arrival_date_week_number                         0.068207   \n",
              "arrival_date_day_of_month                        1.000000   \n",
              "stays_in_weekend_nights                         -0.015802   \n",
              "stays_in_week_nights                            -0.028207   \n",
              "adults                                          -0.001295   \n",
              "children                                         0.014324   \n",
              "babies                                          -0.000304   \n",
              "is_repeated_guest                               -0.006280   \n",
              "previous_cancellations                          -0.005813   \n",
              "previous_bookings_not_canceled                  -0.000383   \n",
              "booking_changes                                  0.010380   \n",
              "agent                                            0.000469   \n",
              "company                                          0.003547   \n",
              "days_in_waiting_list                             0.022632   \n",
              "adr                                              0.029071   \n",
              "required_car_parking_spaces                      0.008463   \n",
              "total_of_special_requests                        0.002415   \n",
              "\n",
              "                                stays_in_weekend_nights  stays_in_week_nights  \\\n",
              "is_canceled                                   -0.001248              0.024892   \n",
              "lead_time                                      0.088505              0.168390   \n",
              "arrival_date_year                              0.022391              0.031564   \n",
              "arrival_date_week_number                       0.017414              0.015449   \n",
              "arrival_date_day_of_month                     -0.015802             -0.028207   \n",
              "stays_in_weekend_nights                        1.000000              0.499147   \n",
              "stays_in_week_nights                           0.499147              1.000000   \n",
              "adults                                         0.091938              0.092972   \n",
              "children                                       0.045747              0.044262   \n",
              "babies                                         0.018471              0.020215   \n",
              "is_repeated_guest                             -0.087345             -0.097331   \n",
              "previous_cancellations                        -0.039324             -0.044718   \n",
              "previous_bookings_not_canceled                -0.042783             -0.048785   \n",
              "booking_changes                                0.063105              0.096178   \n",
              "agent                                          0.160772              0.195181   \n",
              "company                                       -0.080117             -0.043673   \n",
              "days_in_waiting_list                          -0.054243             -0.002015   \n",
              "adr                                            0.049582              0.065750   \n",
              "required_car_parking_spaces                   -0.018657             -0.024871   \n",
              "total_of_special_requests                      0.072525              0.068329   \n",
              "\n",
              "                                  adults  children    babies  \\\n",
              "is_canceled                     0.059683  0.005672 -0.032349   \n",
              "lead_time                       0.120074 -0.036646 -0.020708   \n",
              "arrival_date_year               0.030083  0.054456 -0.013299   \n",
              "arrival_date_week_number        0.025720  0.005610  0.010432   \n",
              "arrival_date_day_of_month      -0.001295  0.014324 -0.000304   \n",
              "stays_in_weekend_nights         0.091938  0.045747  0.018471   \n",
              "stays_in_week_nights            0.092972  0.044262  0.020215   \n",
              "adults                          1.000000  0.030541  0.018176   \n",
              "children                        0.030541  1.000000  0.023992   \n",
              "babies                          0.018176  0.023992  1.000000   \n",
              "is_repeated_guest              -0.146418 -0.032941 -0.008967   \n",
              "previous_cancellations         -0.030278 -0.038575 -0.011544   \n",
              "previous_bookings_not_canceled -0.107967 -0.021118 -0.006564   \n",
              "booking_changes                -0.051598  0.048823  0.083419   \n",
              "agent                           0.024980  0.050570  0.030274   \n",
              "company                        -0.166738 -0.042723 -0.009489   \n",
              "days_in_waiting_list           -0.008240 -0.033338 -0.010641   \n",
              "adr                             0.231206  0.324777  0.029083   \n",
              "required_car_parking_spaces     0.014874  0.056138  0.037348   \n",
              "total_of_special_requests       0.123203  0.081444  0.097828   \n",
              "\n",
              "                                is_repeated_guest  previous_cancellations  \\\n",
              "is_canceled                             -0.084572                0.163181   \n",
              "lead_time                               -0.124885                0.118648   \n",
              "arrival_date_year                        0.010253               -0.163831   \n",
              "arrival_date_week_number                -0.030105                0.037531   \n",
              "arrival_date_day_of_month               -0.006280               -0.005813   \n",
              "stays_in_weekend_nights                 -0.087345               -0.039324   \n",
              "stays_in_week_nights                    -0.097331               -0.044718   \n",
              "adults                                  -0.146418               -0.030278   \n",
              "children                                -0.032941               -0.038575   \n",
              "babies                                  -0.008967               -0.011544   \n",
              "is_repeated_guest                        1.000000                0.190718   \n",
              "previous_cancellations                   0.190718                1.000000   \n",
              "previous_bookings_not_canceled           0.418099                0.343558   \n",
              "booking_changes                          0.012014               -0.038727   \n",
              "agent                                   -0.052311               -0.069269   \n",
              "company                                  0.159697                0.009736   \n",
              "days_in_waiting_list                    -0.022277                0.021285   \n",
              "adr                                     -0.134728               -0.086931   \n",
              "required_car_parking_spaces              0.077033               -0.025132   \n",
              "total_of_special_requests                0.012852               -0.062451   \n",
              "\n",
              "                                previous_bookings_not_canceled  \\\n",
              "is_canceled                                          -0.057231   \n",
              "lead_time                                            -0.073859   \n",
              "arrival_date_year                                     0.029176   \n",
              "arrival_date_week_number                             -0.020892   \n",
              "arrival_date_day_of_month                            -0.000383   \n",
              "stays_in_weekend_nights                              -0.042783   \n",
              "stays_in_week_nights                                 -0.048785   \n",
              "adults                                               -0.107967   \n",
              "children                                             -0.021118   \n",
              "babies                                               -0.006564   \n",
              "is_repeated_guest                                     0.418099   \n",
              "previous_cancellations                                0.343558   \n",
              "previous_bookings_not_canceled                        1.000000   \n",
              "booking_changes                                       0.011561   \n",
              "agent                                                -0.046348   \n",
              "company                                               0.110788   \n",
              "days_in_waiting_list                                 -0.009419   \n",
              "adr                                                  -0.072366   \n",
              "required_car_parking_spaces                           0.047613   \n",
              "total_of_special_requests                             0.037721   \n",
              "\n",
              "                                booking_changes     agent   company  \\\n",
              "is_canceled                           -0.143785 -0.046428 -0.082655   \n",
              "lead_time                              0.001497 -0.010589 -0.086125   \n",
              "arrival_date_year                      0.030677  0.057679  0.033738   \n",
              "arrival_date_week_number               0.005661 -0.018980 -0.032714   \n",
              "arrival_date_day_of_month              0.010380  0.000469  0.003547   \n",
              "stays_in_weekend_nights                0.063105  0.160772 -0.080117   \n",
              "stays_in_week_nights                   0.096178  0.195181 -0.043673   \n",
              "adults                                -0.051598  0.024980 -0.166738   \n",
              "children                               0.048823  0.050570 -0.042723   \n",
              "babies                                 0.083419  0.030274 -0.009489   \n",
              "is_repeated_guest                      0.012014 -0.052311  0.159697   \n",
              "previous_cancellations                -0.038727 -0.069269  0.009736   \n",
              "previous_bookings_not_canceled         0.011561 -0.046348  0.110788   \n",
              "booking_changes                        1.000000  0.036509  0.088781   \n",
              "agent                                  0.036509  1.000000 -0.121667   \n",
              "company                                0.088781 -0.121667  1.000000   \n",
              "days_in_waiting_list                  -0.011709 -0.040908 -0.023036   \n",
              "adr                                    0.019213  0.016890 -0.128928   \n",
              "required_car_parking_spaces            0.065503  0.119209  0.038209   \n",
              "total_of_special_requests              0.052480  0.060642 -0.091377   \n",
              "\n",
              "                                days_in_waiting_list       adr  \\\n",
              "is_canceled                                 0.054583  0.049751   \n",
              "lead_time                                   0.172630 -0.059179   \n",
              "arrival_date_year                          -0.056732  0.197038   \n",
              "arrival_date_week_number                    0.022997  0.076442   \n",
              "arrival_date_day_of_month                   0.022632  0.029071   \n",
              "stays_in_weekend_nights                    -0.054243  0.049582   \n",
              "stays_in_week_nights                       -0.002015  0.065750   \n",
              "adults                                     -0.008240  0.231206   \n",
              "children                                   -0.033338  0.324777   \n",
              "babies                                     -0.010641  0.029083   \n",
              "is_repeated_guest                          -0.022277 -0.134728   \n",
              "previous_cancellations                      0.021285 -0.086931   \n",
              "previous_bookings_not_canceled             -0.009419 -0.072366   \n",
              "booking_changes                            -0.011709  0.019213   \n",
              "agent                                      -0.040908  0.016890   \n",
              "company                                    -0.023036 -0.128928   \n",
              "days_in_waiting_list                        1.000000 -0.041012   \n",
              "adr                                        -0.041012  1.000000   \n",
              "required_car_parking_spaces                -0.030664  0.056275   \n",
              "total_of_special_requests                  -0.082945  0.171270   \n",
              "\n",
              "                                required_car_parking_spaces  \\\n",
              "is_canceled                                       -0.195211   \n",
              "lead_time                                         -0.116364   \n",
              "arrival_date_year                                 -0.013971   \n",
              "arrival_date_week_number                           0.002007   \n",
              "arrival_date_day_of_month                          0.008463   \n",
              "stays_in_weekend_nights                           -0.018657   \n",
              "stays_in_week_nights                              -0.024871   \n",
              "adults                                             0.014874   \n",
              "children                                           0.056138   \n",
              "babies                                             0.037348   \n",
              "is_repeated_guest                                  0.077033   \n",
              "previous_cancellations                            -0.025132   \n",
              "previous_bookings_not_canceled                     0.047613   \n",
              "booking_changes                                    0.065503   \n",
              "agent                                              0.119209   \n",
              "company                                            0.038209   \n",
              "days_in_waiting_list                              -0.030664   \n",
              "adr                                                0.056275   \n",
              "required_car_parking_spaces                        1.000000   \n",
              "total_of_special_requests                          0.082333   \n",
              "\n",
              "                                total_of_special_requests  \n",
              "is_canceled                                     -0.233430  \n",
              "lead_time                                       -0.092963  \n",
              "arrival_date_year                                0.108035  \n",
              "arrival_date_week_number                         0.026424  \n",
              "arrival_date_day_of_month                        0.002415  \n",
              "stays_in_weekend_nights                          0.072525  \n",
              "stays_in_week_nights                             0.068329  \n",
              "adults                                           0.123203  \n",
              "children                                         0.081444  \n",
              "babies                                           0.097828  \n",
              "is_repeated_guest                                0.012852  \n",
              "previous_cancellations                          -0.062451  \n",
              "previous_bookings_not_canceled                   0.037721  \n",
              "booking_changes                                  0.052480  \n",
              "agent                                            0.060642  \n",
              "company                                         -0.091377  \n",
              "days_in_waiting_list                            -0.082945  \n",
              "adr                                              0.171270  \n",
              "required_car_parking_spaces                      0.082333  \n",
              "total_of_special_requests                        1.000000  "
            ],
            "text/html": [
              "\n",
              "  <div id=\"df-4f55f8d8-3299-4083-bc8b-adf9294864d4\">\n",
              "    <div class=\"colab-df-container\">\n",
              "      <div>\n",
              "<style scoped>\n",
              "    .dataframe tbody tr th:only-of-type {\n",
              "        vertical-align: middle;\n",
              "    }\n",
              "\n",
              "    .dataframe tbody tr th {\n",
              "        vertical-align: top;\n",
              "    }\n",
              "\n",
              "    .dataframe thead th {\n",
              "        text-align: right;\n",
              "    }\n",
              "</style>\n",
              "<table border=\"1\" class=\"dataframe\">\n",
              "  <thead>\n",
              "    <tr style=\"text-align: right;\">\n",
              "      <th></th>\n",
              "      <th>is_canceled</th>\n",
              "      <th>lead_time</th>\n",
              "      <th>arrival_date_year</th>\n",
              "      <th>arrival_date_week_number</th>\n",
              "      <th>arrival_date_day_of_month</th>\n",
              "      <th>stays_in_weekend_nights</th>\n",
              "      <th>stays_in_week_nights</th>\n",
              "      <th>adults</th>\n",
              "      <th>children</th>\n",
              "      <th>babies</th>\n",
              "      <th>is_repeated_guest</th>\n",
              "      <th>previous_cancellations</th>\n",
              "      <th>previous_bookings_not_canceled</th>\n",
              "      <th>booking_changes</th>\n",
              "      <th>agent</th>\n",
              "      <th>company</th>\n",
              "      <th>days_in_waiting_list</th>\n",
              "      <th>adr</th>\n",
              "      <th>required_car_parking_spaces</th>\n",
              "      <th>total_of_special_requests</th>\n",
              "    </tr>\n",
              "  </thead>\n",
              "  <tbody>\n",
              "    <tr>\n",
              "      <th>is_canceled</th>\n",
              "      <td>1.000000</td>\n",
              "      <td>0.290023</td>\n",
              "      <td>0.018021</td>\n",
              "      <td>0.007712</td>\n",
              "      <td>-0.004977</td>\n",
              "      <td>-0.001248</td>\n",
              "      <td>0.024892</td>\n",
              "      <td>0.059683</td>\n",
              "      <td>0.005672</td>\n",
              "      <td>-0.032349</td>\n",
              "      <td>-0.084572</td>\n",
              "      <td>0.163181</td>\n",
              "      <td>-0.057231</td>\n",
              "      <td>-0.143785</td>\n",
              "      <td>-0.046428</td>\n",
              "      <td>-0.082655</td>\n",
              "      <td>0.054583</td>\n",
              "      <td>0.049751</td>\n",
              "      <td>-0.195211</td>\n",
              "      <td>-0.233430</td>\n",
              "    </tr>\n",
              "    <tr>\n",
              "      <th>lead_time</th>\n",
              "      <td>0.290023</td>\n",
              "      <td>1.000000</td>\n",
              "      <td>0.039665</td>\n",
              "      <td>0.129021</td>\n",
              "      <td>0.003613</td>\n",
              "      <td>0.088505</td>\n",
              "      <td>0.168390</td>\n",
              "      <td>0.120074</td>\n",
              "      <td>-0.036646</td>\n",
              "      <td>-0.020708</td>\n",
              "      <td>-0.124885</td>\n",
              "      <td>0.118648</td>\n",
              "      <td>-0.073859</td>\n",
              "      <td>0.001497</td>\n",
              "      <td>-0.010589</td>\n",
              "      <td>-0.086125</td>\n",
              "      <td>0.172630</td>\n",
              "      <td>-0.059179</td>\n",
              "      <td>-0.116364</td>\n",
              "      <td>-0.092963</td>\n",
              "    </tr>\n",
              "    <tr>\n",
              "      <th>arrival_date_year</th>\n",
              "      <td>0.018021</td>\n",
              "      <td>0.039665</td>\n",
              "      <td>1.000000</td>\n",
              "      <td>-0.540068</td>\n",
              "      <td>-0.002036</td>\n",
              "      <td>0.022391</td>\n",
              "      <td>0.031564</td>\n",
              "      <td>0.030083</td>\n",
              "      <td>0.054456</td>\n",
              "      <td>-0.013299</td>\n",
              "      <td>0.010253</td>\n",
              "      <td>-0.163831</td>\n",
              "      <td>0.029176</td>\n",
              "      <td>0.030677</td>\n",
              "      <td>0.057679</td>\n",
              "      <td>0.033738</td>\n",
              "      <td>-0.056732</td>\n",
              "      <td>0.197038</td>\n",
              "      <td>-0.013971</td>\n",
              "      <td>0.108035</td>\n",
              "    </tr>\n",
              "    <tr>\n",
              "      <th>arrival_date_week_number</th>\n",
              "      <td>0.007712</td>\n",
              "      <td>0.129021</td>\n",
              "      <td>-0.540068</td>\n",
              "      <td>1.000000</td>\n",
              "      <td>0.068207</td>\n",
              "      <td>0.017414</td>\n",
              "      <td>0.015449</td>\n",
              "      <td>0.025720</td>\n",
              "      <td>0.005610</td>\n",
              "      <td>0.010432</td>\n",
              "      <td>-0.030105</td>\n",
              "      <td>0.037531</td>\n",
              "      <td>-0.020892</td>\n",
              "      <td>0.005661</td>\n",
              "      <td>-0.018980</td>\n",
              "      <td>-0.032714</td>\n",
              "      <td>0.022997</td>\n",
              "      <td>0.076442</td>\n",
              "      <td>0.002007</td>\n",
              "      <td>0.026424</td>\n",
              "    </tr>\n",
              "    <tr>\n",
              "      <th>arrival_date_day_of_month</th>\n",
              "      <td>-0.004977</td>\n",
              "      <td>0.003613</td>\n",
              "      <td>-0.002036</td>\n",
              "      <td>0.068207</td>\n",
              "      <td>1.000000</td>\n",
              "      <td>-0.015802</td>\n",
              "      <td>-0.028207</td>\n",
              "      <td>-0.001295</td>\n",
              "      <td>0.014324</td>\n",
              "      <td>-0.000304</td>\n",
              "      <td>-0.006280</td>\n",
              "      <td>-0.005813</td>\n",
              "      <td>-0.000383</td>\n",
              "      <td>0.010380</td>\n",
              "      <td>0.000469</td>\n",
              "      <td>0.003547</td>\n",
              "      <td>0.022632</td>\n",
              "      <td>0.029071</td>\n",
              "      <td>0.008463</td>\n",
              "      <td>0.002415</td>\n",
              "    </tr>\n",
              "    <tr>\n",
              "      <th>stays_in_weekend_nights</th>\n",
              "      <td>-0.001248</td>\n",
              "      <td>0.088505</td>\n",
              "      <td>0.022391</td>\n",
              "      <td>0.017414</td>\n",
              "      <td>-0.015802</td>\n",
              "      <td>1.000000</td>\n",
              "      <td>0.499147</td>\n",
              "      <td>0.091938</td>\n",
              "      <td>0.045747</td>\n",
              "      <td>0.018471</td>\n",
              "      <td>-0.087345</td>\n",
              "      <td>-0.039324</td>\n",
              "      <td>-0.042783</td>\n",
              "      <td>0.063105</td>\n",
              "      <td>0.160772</td>\n",
              "      <td>-0.080117</td>\n",
              "      <td>-0.054243</td>\n",
              "      <td>0.049582</td>\n",
              "      <td>-0.018657</td>\n",
              "      <td>0.072525</td>\n",
              "    </tr>\n",
              "    <tr>\n",
              "      <th>stays_in_week_nights</th>\n",
              "      <td>0.024892</td>\n",
              "      <td>0.168390</td>\n",
              "      <td>0.031564</td>\n",
              "      <td>0.015449</td>\n",
              "      <td>-0.028207</td>\n",
              "      <td>0.499147</td>\n",
              "      <td>1.000000</td>\n",
              "      <td>0.092972</td>\n",
              "      <td>0.044262</td>\n",
              "      <td>0.020215</td>\n",
              "      <td>-0.097331</td>\n",
              "      <td>-0.044718</td>\n",
              "      <td>-0.048785</td>\n",
              "      <td>0.096178</td>\n",
              "      <td>0.195181</td>\n",
              "      <td>-0.043673</td>\n",
              "      <td>-0.002015</td>\n",
              "      <td>0.065750</td>\n",
              "      <td>-0.024871</td>\n",
              "      <td>0.068329</td>\n",
              "    </tr>\n",
              "    <tr>\n",
              "      <th>adults</th>\n",
              "      <td>0.059683</td>\n",
              "      <td>0.120074</td>\n",
              "      <td>0.030083</td>\n",
              "      <td>0.025720</td>\n",
              "      <td>-0.001295</td>\n",
              "      <td>0.091938</td>\n",
              "      <td>0.092972</td>\n",
              "      <td>1.000000</td>\n",
              "      <td>0.030541</td>\n",
              "      <td>0.018176</td>\n",
              "      <td>-0.146418</td>\n",
              "      <td>-0.030278</td>\n",
              "      <td>-0.107967</td>\n",
              "      <td>-0.051598</td>\n",
              "      <td>0.024980</td>\n",
              "      <td>-0.166738</td>\n",
              "      <td>-0.008240</td>\n",
              "      <td>0.231206</td>\n",
              "      <td>0.014874</td>\n",
              "      <td>0.123203</td>\n",
              "    </tr>\n",
              "    <tr>\n",
              "      <th>children</th>\n",
              "      <td>0.005672</td>\n",
              "      <td>-0.036646</td>\n",
              "      <td>0.054456</td>\n",
              "      <td>0.005610</td>\n",
              "      <td>0.014324</td>\n",
              "      <td>0.045747</td>\n",
              "      <td>0.044262</td>\n",
              "      <td>0.030541</td>\n",
              "      <td>1.000000</td>\n",
              "      <td>0.023992</td>\n",
              "      <td>-0.032941</td>\n",
              "      <td>-0.038575</td>\n",
              "      <td>-0.021118</td>\n",
              "      <td>0.048823</td>\n",
              "      <td>0.050570</td>\n",
              "      <td>-0.042723</td>\n",
              "      <td>-0.033338</td>\n",
              "      <td>0.324777</td>\n",
              "      <td>0.056138</td>\n",
              "      <td>0.081444</td>\n",
              "    </tr>\n",
              "    <tr>\n",
              "      <th>babies</th>\n",
              "      <td>-0.032349</td>\n",
              "      <td>-0.020708</td>\n",
              "      <td>-0.013299</td>\n",
              "      <td>0.010432</td>\n",
              "      <td>-0.000304</td>\n",
              "      <td>0.018471</td>\n",
              "      <td>0.020215</td>\n",
              "      <td>0.018176</td>\n",
              "      <td>0.023992</td>\n",
              "      <td>1.000000</td>\n",
              "      <td>-0.008967</td>\n",
              "      <td>-0.011544</td>\n",
              "      <td>-0.006564</td>\n",
              "      <td>0.083419</td>\n",
              "      <td>0.030274</td>\n",
              "      <td>-0.009489</td>\n",
              "      <td>-0.010641</td>\n",
              "      <td>0.029083</td>\n",
              "      <td>0.037348</td>\n",
              "      <td>0.097828</td>\n",
              "    </tr>\n",
              "    <tr>\n",
              "      <th>is_repeated_guest</th>\n",
              "      <td>-0.084572</td>\n",
              "      <td>-0.124885</td>\n",
              "      <td>0.010253</td>\n",
              "      <td>-0.030105</td>\n",
              "      <td>-0.006280</td>\n",
              "      <td>-0.087345</td>\n",
              "      <td>-0.097331</td>\n",
              "      <td>-0.146418</td>\n",
              "      <td>-0.032941</td>\n",
              "      <td>-0.008967</td>\n",
              "      <td>1.000000</td>\n",
              "      <td>0.190718</td>\n",
              "      <td>0.418099</td>\n",
              "      <td>0.012014</td>\n",
              "      <td>-0.052311</td>\n",
              "      <td>0.159697</td>\n",
              "      <td>-0.022277</td>\n",
              "      <td>-0.134728</td>\n",
              "      <td>0.077033</td>\n",
              "      <td>0.012852</td>\n",
              "    </tr>\n",
              "    <tr>\n",
              "      <th>previous_cancellations</th>\n",
              "      <td>0.163181</td>\n",
              "      <td>0.118648</td>\n",
              "      <td>-0.163831</td>\n",
              "      <td>0.037531</td>\n",
              "      <td>-0.005813</td>\n",
              "      <td>-0.039324</td>\n",
              "      <td>-0.044718</td>\n",
              "      <td>-0.030278</td>\n",
              "      <td>-0.038575</td>\n",
              "      <td>-0.011544</td>\n",
              "      <td>0.190718</td>\n",
              "      <td>1.000000</td>\n",
              "      <td>0.343558</td>\n",
              "      <td>-0.038727</td>\n",
              "      <td>-0.069269</td>\n",
              "      <td>0.009736</td>\n",
              "      <td>0.021285</td>\n",
              "      <td>-0.086931</td>\n",
              "      <td>-0.025132</td>\n",
              "      <td>-0.062451</td>\n",
              "    </tr>\n",
              "    <tr>\n",
              "      <th>previous_bookings_not_canceled</th>\n",
              "      <td>-0.057231</td>\n",
              "      <td>-0.073859</td>\n",
              "      <td>0.029176</td>\n",
              "      <td>-0.020892</td>\n",
              "      <td>-0.000383</td>\n",
              "      <td>-0.042783</td>\n",
              "      <td>-0.048785</td>\n",
              "      <td>-0.107967</td>\n",
              "      <td>-0.021118</td>\n",
              "      <td>-0.006564</td>\n",
              "      <td>0.418099</td>\n",
              "      <td>0.343558</td>\n",
              "      <td>1.000000</td>\n",
              "      <td>0.011561</td>\n",
              "      <td>-0.046348</td>\n",
              "      <td>0.110788</td>\n",
              "      <td>-0.009419</td>\n",
              "      <td>-0.072366</td>\n",
              "      <td>0.047613</td>\n",
              "      <td>0.037721</td>\n",
              "    </tr>\n",
              "    <tr>\n",
              "      <th>booking_changes</th>\n",
              "      <td>-0.143785</td>\n",
              "      <td>0.001497</td>\n",
              "      <td>0.030677</td>\n",
              "      <td>0.005661</td>\n",
              "      <td>0.010380</td>\n",
              "      <td>0.063105</td>\n",
              "      <td>0.096178</td>\n",
              "      <td>-0.051598</td>\n",
              "      <td>0.048823</td>\n",
              "      <td>0.083419</td>\n",
              "      <td>0.012014</td>\n",
              "      <td>-0.038727</td>\n",
              "      <td>0.011561</td>\n",
              "      <td>1.000000</td>\n",
              "      <td>0.036509</td>\n",
              "      <td>0.088781</td>\n",
              "      <td>-0.011709</td>\n",
              "      <td>0.019213</td>\n",
              "      <td>0.065503</td>\n",
              "      <td>0.052480</td>\n",
              "    </tr>\n",
              "    <tr>\n",
              "      <th>agent</th>\n",
              "      <td>-0.046428</td>\n",
              "      <td>-0.010589</td>\n",
              "      <td>0.057679</td>\n",
              "      <td>-0.018980</td>\n",
              "      <td>0.000469</td>\n",
              "      <td>0.160772</td>\n",
              "      <td>0.195181</td>\n",
              "      <td>0.024980</td>\n",
              "      <td>0.050570</td>\n",
              "      <td>0.030274</td>\n",
              "      <td>-0.052311</td>\n",
              "      <td>-0.069269</td>\n",
              "      <td>-0.046348</td>\n",
              "      <td>0.036509</td>\n",
              "      <td>1.000000</td>\n",
              "      <td>-0.121667</td>\n",
              "      <td>-0.040908</td>\n",
              "      <td>0.016890</td>\n",
              "      <td>0.119209</td>\n",
              "      <td>0.060642</td>\n",
              "    </tr>\n",
              "    <tr>\n",
              "      <th>company</th>\n",
              "      <td>-0.082655</td>\n",
              "      <td>-0.086125</td>\n",
              "      <td>0.033738</td>\n",
              "      <td>-0.032714</td>\n",
              "      <td>0.003547</td>\n",
              "      <td>-0.080117</td>\n",
              "      <td>-0.043673</td>\n",
              "      <td>-0.166738</td>\n",
              "      <td>-0.042723</td>\n",
              "      <td>-0.009489</td>\n",
              "      <td>0.159697</td>\n",
              "      <td>0.009736</td>\n",
              "      <td>0.110788</td>\n",
              "      <td>0.088781</td>\n",
              "      <td>-0.121667</td>\n",
              "      <td>1.000000</td>\n",
              "      <td>-0.023036</td>\n",
              "      <td>-0.128928</td>\n",
              "      <td>0.038209</td>\n",
              "      <td>-0.091377</td>\n",
              "    </tr>\n",
              "    <tr>\n",
              "      <th>days_in_waiting_list</th>\n",
              "      <td>0.054583</td>\n",
              "      <td>0.172630</td>\n",
              "      <td>-0.056732</td>\n",
              "      <td>0.022997</td>\n",
              "      <td>0.022632</td>\n",
              "      <td>-0.054243</td>\n",
              "      <td>-0.002015</td>\n",
              "      <td>-0.008240</td>\n",
              "      <td>-0.033338</td>\n",
              "      <td>-0.010641</td>\n",
              "      <td>-0.022277</td>\n",
              "      <td>0.021285</td>\n",
              "      <td>-0.009419</td>\n",
              "      <td>-0.011709</td>\n",
              "      <td>-0.040908</td>\n",
              "      <td>-0.023036</td>\n",
              "      <td>1.000000</td>\n",
              "      <td>-0.041012</td>\n",
              "      <td>-0.030664</td>\n",
              "      <td>-0.082945</td>\n",
              "    </tr>\n",
              "    <tr>\n",
              "      <th>adr</th>\n",
              "      <td>0.049751</td>\n",
              "      <td>-0.059179</td>\n",
              "      <td>0.197038</td>\n",
              "      <td>0.076442</td>\n",
              "      <td>0.029071</td>\n",
              "      <td>0.049582</td>\n",
              "      <td>0.065750</td>\n",
              "      <td>0.231206</td>\n",
              "      <td>0.324777</td>\n",
              "      <td>0.029083</td>\n",
              "      <td>-0.134728</td>\n",
              "      <td>-0.086931</td>\n",
              "      <td>-0.072366</td>\n",
              "      <td>0.019213</td>\n",
              "      <td>0.016890</td>\n",
              "      <td>-0.128928</td>\n",
              "      <td>-0.041012</td>\n",
              "      <td>1.000000</td>\n",
              "      <td>0.056275</td>\n",
              "      <td>0.171270</td>\n",
              "    </tr>\n",
              "    <tr>\n",
              "      <th>required_car_parking_spaces</th>\n",
              "      <td>-0.195211</td>\n",
              "      <td>-0.116364</td>\n",
              "      <td>-0.013971</td>\n",
              "      <td>0.002007</td>\n",
              "      <td>0.008463</td>\n",
              "      <td>-0.018657</td>\n",
              "      <td>-0.024871</td>\n",
              "      <td>0.014874</td>\n",
              "      <td>0.056138</td>\n",
              "      <td>0.037348</td>\n",
              "      <td>0.077033</td>\n",
              "      <td>-0.025132</td>\n",
              "      <td>0.047613</td>\n",
              "      <td>0.065503</td>\n",
              "      <td>0.119209</td>\n",
              "      <td>0.038209</td>\n",
              "      <td>-0.030664</td>\n",
              "      <td>0.056275</td>\n",
              "      <td>1.000000</td>\n",
              "      <td>0.082333</td>\n",
              "    </tr>\n",
              "    <tr>\n",
              "      <th>total_of_special_requests</th>\n",
              "      <td>-0.233430</td>\n",
              "      <td>-0.092963</td>\n",
              "      <td>0.108035</td>\n",
              "      <td>0.026424</td>\n",
              "      <td>0.002415</td>\n",
              "      <td>0.072525</td>\n",
              "      <td>0.068329</td>\n",
              "      <td>0.123203</td>\n",
              "      <td>0.081444</td>\n",
              "      <td>0.097828</td>\n",
              "      <td>0.012852</td>\n",
              "      <td>-0.062451</td>\n",
              "      <td>0.037721</td>\n",
              "      <td>0.052480</td>\n",
              "      <td>0.060642</td>\n",
              "      <td>-0.091377</td>\n",
              "      <td>-0.082945</td>\n",
              "      <td>0.171270</td>\n",
              "      <td>0.082333</td>\n",
              "      <td>1.000000</td>\n",
              "    </tr>\n",
              "  </tbody>\n",
              "</table>\n",
              "</div>\n",
              "      <button class=\"colab-df-convert\" onclick=\"convertToInteractive('df-4f55f8d8-3299-4083-bc8b-adf9294864d4')\"\n",
              "              title=\"Convert this dataframe to an interactive table.\"\n",
              "              style=\"display:none;\">\n",
              "        \n",
              "  <svg xmlns=\"http://www.w3.org/2000/svg\" height=\"24px\"viewBox=\"0 0 24 24\"\n",
              "       width=\"24px\">\n",
              "    <path d=\"M0 0h24v24H0V0z\" fill=\"none\"/>\n",
              "    <path d=\"M18.56 5.44l.94 2.06.94-2.06 2.06-.94-2.06-.94-.94-2.06-.94 2.06-2.06.94zm-11 1L8.5 8.5l.94-2.06 2.06-.94-2.06-.94L8.5 2.5l-.94 2.06-2.06.94zm10 10l.94 2.06.94-2.06 2.06-.94-2.06-.94-.94-2.06-.94 2.06-2.06.94z\"/><path d=\"M17.41 7.96l-1.37-1.37c-.4-.4-.92-.59-1.43-.59-.52 0-1.04.2-1.43.59L10.3 9.45l-7.72 7.72c-.78.78-.78 2.05 0 2.83L4 21.41c.39.39.9.59 1.41.59.51 0 1.02-.2 1.41-.59l7.78-7.78 2.81-2.81c.8-.78.8-2.07 0-2.86zM5.41 20L4 18.59l7.72-7.72 1.47 1.35L5.41 20z\"/>\n",
              "  </svg>\n",
              "      </button>\n",
              "      \n",
              "  <style>\n",
              "    .colab-df-container {\n",
              "      display:flex;\n",
              "      flex-wrap:wrap;\n",
              "      gap: 12px;\n",
              "    }\n",
              "\n",
              "    .colab-df-convert {\n",
              "      background-color: #E8F0FE;\n",
              "      border: none;\n",
              "      border-radius: 50%;\n",
              "      cursor: pointer;\n",
              "      display: none;\n",
              "      fill: #1967D2;\n",
              "      height: 32px;\n",
              "      padding: 0 0 0 0;\n",
              "      width: 32px;\n",
              "    }\n",
              "\n",
              "    .colab-df-convert:hover {\n",
              "      background-color: #E2EBFA;\n",
              "      box-shadow: 0px 1px 2px rgba(60, 64, 67, 0.3), 0px 1px 3px 1px rgba(60, 64, 67, 0.15);\n",
              "      fill: #174EA6;\n",
              "    }\n",
              "\n",
              "    [theme=dark] .colab-df-convert {\n",
              "      background-color: #3B4455;\n",
              "      fill: #D2E3FC;\n",
              "    }\n",
              "\n",
              "    [theme=dark] .colab-df-convert:hover {\n",
              "      background-color: #434B5C;\n",
              "      box-shadow: 0px 1px 3px 1px rgba(0, 0, 0, 0.15);\n",
              "      filter: drop-shadow(0px 1px 2px rgba(0, 0, 0, 0.3));\n",
              "      fill: #FFFFFF;\n",
              "    }\n",
              "  </style>\n",
              "\n",
              "      <script>\n",
              "        const buttonEl =\n",
              "          document.querySelector('#df-4f55f8d8-3299-4083-bc8b-adf9294864d4 button.colab-df-convert');\n",
              "        buttonEl.style.display =\n",
              "          google.colab.kernel.accessAllowed ? 'block' : 'none';\n",
              "\n",
              "        async function convertToInteractive(key) {\n",
              "          const element = document.querySelector('#df-4f55f8d8-3299-4083-bc8b-adf9294864d4');\n",
              "          const dataTable =\n",
              "            await google.colab.kernel.invokeFunction('convertToInteractive',\n",
              "                                                     [key], {});\n",
              "          if (!dataTable) return;\n",
              "\n",
              "          const docLinkHtml = 'Like what you see? Visit the ' +\n",
              "            '<a target=\"_blank\" href=https://colab.research.google.com/notebooks/data_table.ipynb>data table notebook</a>'\n",
              "            + ' to learn more about interactive tables.';\n",
              "          element.innerHTML = '';\n",
              "          dataTable['output_type'] = 'display_data';\n",
              "          await google.colab.output.renderOutput(dataTable, element);\n",
              "          const docLink = document.createElement('div');\n",
              "          docLink.innerHTML = docLinkHtml;\n",
              "          element.appendChild(docLink);\n",
              "        }\n",
              "      </script>\n",
              "    </div>\n",
              "  </div>\n",
              "  "
            ]
          },
          "metadata": {},
          "execution_count": 579
        }
      ]
    },
    {
      "cell_type": "code",
      "source": [
        "sns.heatmap(cor_mat, square=True, cmap='coolwarm', vmin=-1.0, vmax=1.0)\n",
        "pass"
      ],
      "metadata": {
        "colab": {
          "base_uri": "https://localhost:8080/",
          "height": 423
        },
        "id": "0vJq7zAtnGdB",
        "outputId": "7c973d43-2ed6-4a7b-e3f5-f1cc147079ea"
      },
      "execution_count": null,
      "outputs": [
        {
          "output_type": "display_data",
          "data": {
            "text/plain": [
              "<Figure size 432x288 with 2 Axes>"
            ],
            "image/png": "[encoded data removed]"
          },
          "metadata": {
            "needs_background": "light"
          }
        }
      ]
    },
    {
      "cell_type": "code",
      "source": [
        "cor_mat.where( np.triu(cor_mat > 0.25, k=1) ).stack().sort_values(ascending=False)"
      ],
      "metadata": {
        "colab": {
          "base_uri": "https://localhost:8080/"
        },
        "id": "_KzYEmionjO7",
        "outputId": "137451d7-2a25-4111-fa16-aa9036d98478"
      },
      "execution_count": null,
      "outputs": [
        {
          "output_type": "execute_result",
          "data": {
            "text/plain": [
              "stays_in_weekend_nights  stays_in_week_nights              0.499147\n",
              "is_repeated_guest        previous_bookings_not_canceled    0.418099\n",
              "previous_cancellations   previous_bookings_not_canceled    0.343558\n",
              "children                 adr                               0.324777\n",
              "is_canceled              lead_time                         0.290023\n",
              "dtype: float64"
            ]
          },
          "metadata": {},
          "execution_count": 581
        }
      ]
    },
    {
      "cell_type": "markdown",
      "source": [
        "Максимальная корреляция между **количеством ночей в отеле** и тем, что **гости находились в будние дни** не имеет смысла, так как люди если приезжают, то на все выходные или в воскресенье выезжают, чтобы вернуться к началу рабочей недели. Эта связь никак не влияет на исследование задачи. Или приезжают по работе только на будние дни.\n",
        "\n",
        "Связь между **гостем, который уже был в этом отеле** и **количеством предыдущих отмет брони** имеет смысл. Если гость ещё раз бронирует отель, в котором был, значит ему понравилось и бронь отменит только в случае непредвиденных обстоятельств.\n",
        "\n",
        "Полезна связь между **отменой брони** и **количеством дней до прибытия в отель**. Если бронировать за длительное время, то гость может найти что-нибудь получше или изменить свои планы."
      ],
      "metadata": {
        "id": "WWyCO6RYn21n"
      }
    },
    {
      "cell_type": "markdown",
      "source": [
        "Сравнение количества отменёных броней и нет."
      ],
      "metadata": {
        "id": "t7KIrfwCpZeK"
      }
    },
    {
      "cell_type": "code",
      "source": [
        "sns.countplot(data=data_raw,x='is_canceled')\n",
        "pass"
      ],
      "metadata": {
        "colab": {
          "base_uri": "https://localhost:8080/",
          "height": 280
        },
        "id": "wGeyOXSppdiH",
        "outputId": "326ebc79-c81e-4748-ea59-0a0303054782"
      },
      "execution_count": null,
      "outputs": [
        {
          "output_type": "display_data",
          "data": {
            "text/plain": [
              "<Figure size 432x288 with 1 Axes>"
            ],
            "image/png": "[encoded data removed]"
          },
          "metadata": {
            "needs_background": "light"
          }
        }
      ]
    },
    {
      "cell_type": "markdown",
      "source": [
        "Как видно, бронь отменяют очень часто. Оказывается."
      ],
      "metadata": {
        "id": "ejS0mI1orsvJ"
      }
    },
    {
      "cell_type": "markdown",
      "source": [
        "**Преобразование категориальных признаков к не строковым**"
      ],
      "metadata": {
        "id": "Jbom-Swdr7z0"
      }
    },
    {
      "cell_type": "code",
      "source": [
        "data_raw.info()"
      ],
      "metadata": {
        "colab": {
          "base_uri": "https://localhost:8080/"
        },
        "id": "6vvm8RrhsMrh",
        "outputId": "4acd583c-48f4-4c9c-f699-0b57b50ed5a5"
      },
      "execution_count": null,
      "outputs": [
        {
          "output_type": "stream",
          "name": "stdout",
          "text": [
            "<class 'pandas.core.frame.DataFrame'>\n",
            "Int64Index: 119171 entries, 0 to 119389\n",
            "Data columns (total 26 columns):\n",
            " #   Column                          Non-Null Count   Dtype   \n",
            "---  ------                          --------------   -----   \n",
            " 0   hotel                           119171 non-null  category\n",
            " 1   is_canceled                     119171 non-null  int64   \n",
            " 2   lead_time                       119171 non-null  int64   \n",
            " 3   arrival_date_year               119171 non-null  int64   \n",
            " 4   arrival_date_week_number        119171 non-null  int64   \n",
            " 5   arrival_date_day_of_month       119171 non-null  int64   \n",
            " 6   stays_in_weekend_nights         119171 non-null  int64   \n",
            " 7   stays_in_week_nights            119171 non-null  int64   \n",
            " 8   adults                          119171 non-null  int64   \n",
            " 9   children                        119167 non-null  float64 \n",
            " 10  babies                          119171 non-null  int64   \n",
            " 11  meal                            119171 non-null  category\n",
            " 12  market_segment                  119171 non-null  category\n",
            " 13  distribution_channel            119171 non-null  category\n",
            " 14  is_repeated_guest               119171 non-null  int64   \n",
            " 15  previous_cancellations          119171 non-null  int64   \n",
            " 16  previous_bookings_not_canceled  119171 non-null  int64   \n",
            " 17  booking_changes                 119171 non-null  int64   \n",
            " 18  deposit_type                    119171 non-null  category\n",
            " 19  agent                           119171 non-null  float64 \n",
            " 20  company                         119171 non-null  float64 \n",
            " 21  days_in_waiting_list            119171 non-null  int64   \n",
            " 22  customer_type                   119171 non-null  category\n",
            " 23  adr                             119171 non-null  float64 \n",
            " 24  required_car_parking_spaces     119171 non-null  int64   \n",
            " 25  total_of_special_requests       119171 non-null  int64   \n",
            "dtypes: category(6), float64(4), int64(16)\n",
            "memory usage: 23.8 MB\n"
          ]
        }
      ]
    },
    {
      "cell_type": "markdown",
      "source": [
        "6 категориальных признаков: \"hotel\", \"meal\", \"market_segment\", \"distribution_channel\", \"deposit_type\", \"customer_type\".\n",
        "\n",
        "Бинарнй признак: \"hotel\""
      ],
      "metadata": {
        "id": "1hMR_91VsO9Q"
      }
    },
    {
      "cell_type": "code",
      "source": [
        "data_raw['hotel'] = pd.factorize(data_raw['hotel'])[0]"
      ],
      "metadata": {
        "id": "eWZQM0G489bC"
      },
      "execution_count": null,
      "outputs": []
    },
    {
      "cell_type": "markdown",
      "source": [
        "Векторизация остальных признаков"
      ],
      "metadata": {
        "id": "uOtQkdDY-Afz"
      }
    },
    {
      "cell_type": "code",
      "source": [
        "meal_dummies = pd.get_dummies(data_raw['meal'])\n",
        "meal_dummies.head()"
      ],
      "metadata": {
        "colab": {
          "base_uri": "https://localhost:8080/",
          "height": 206
        },
        "id": "03R5wsVZ-Fb4",
        "outputId": "ce1faccf-d210-4c04-8cd9-d3a586b47a03"
      },
      "execution_count": null,
      "outputs": [
        {
          "output_type": "execute_result",
          "data": {
            "text/plain": [
              "   BB  FB  HB  SC  Undefined\n",
              "0   1   0   0   0          0\n",
              "2   1   0   0   0          0\n",
              "3   1   0   0   0          0\n",
              "4   1   0   0   0          0\n",
              "5   1   0   0   0          0"
            ],
            "text/html": [
              "\n",
              "  <div id=\"df-758f3987-7ec0-46c8-bb57-15ebca510832\">\n",
              "    <div class=\"colab-df-container\">\n",
              "      <div>\n",
              "<style scoped>\n",
              "    .dataframe tbody tr th:only-of-type {\n",
              "        vertical-align: middle;\n",
              "    }\n",
              "\n",
              "    .dataframe tbody tr th {\n",
              "        vertical-align: top;\n",
              "    }\n",
              "\n",
              "    .dataframe thead th {\n",
              "        text-align: right;\n",
              "    }\n",
              "</style>\n",
              "<table border=\"1\" class=\"dataframe\">\n",
              "  <thead>\n",
              "    <tr style=\"text-align: right;\">\n",
              "      <th></th>\n",
              "      <th>BB</th>\n",
              "      <th>FB</th>\n",
              "      <th>HB</th>\n",
              "      <th>SC</th>\n",
              "      <th>Undefined</th>\n",
              "    </tr>\n",
              "  </thead>\n",
              "  <tbody>\n",
              "    <tr>\n",
              "      <th>0</th>\n",
              "      <td>1</td>\n",
              "      <td>0</td>\n",
              "      <td>0</td>\n",
              "      <td>0</td>\n",
              "      <td>0</td>\n",
              "    </tr>\n",
              "    <tr>\n",
              "      <th>2</th>\n",
              "      <td>1</td>\n",
              "      <td>0</td>\n",
              "      <td>0</td>\n",
              "      <td>0</td>\n",
              "      <td>0</td>\n",
              "    </tr>\n",
              "    <tr>\n",
              "      <th>3</th>\n",
              "      <td>1</td>\n",
              "      <td>0</td>\n",
              "      <td>0</td>\n",
              "      <td>0</td>\n",
              "      <td>0</td>\n",
              "    </tr>\n",
              "    <tr>\n",
              "      <th>4</th>\n",
              "      <td>1</td>\n",
              "      <td>0</td>\n",
              "      <td>0</td>\n",
              "      <td>0</td>\n",
              "      <td>0</td>\n",
              "    </tr>\n",
              "    <tr>\n",
              "      <th>5</th>\n",
              "      <td>1</td>\n",
              "      <td>0</td>\n",
              "      <td>0</td>\n",
              "      <td>0</td>\n",
              "      <td>0</td>\n",
              "    </tr>\n",
              "  </tbody>\n",
              "</table>\n",
              "</div>\n",
              "      <button class=\"colab-df-convert\" onclick=\"convertToInteractive('df-758f3987-7ec0-46c8-bb57-15ebca510832')\"\n",
              "              title=\"Convert this dataframe to an interactive table.\"\n",
              "              style=\"display:none;\">\n",
              "        \n",
              "  <svg xmlns=\"http://www.w3.org/2000/svg\" height=\"24px\"viewBox=\"0 0 24 24\"\n",
              "       width=\"24px\">\n",
              "    <path d=\"M0 0h24v24H0V0z\" fill=\"none\"/>\n",
              "    <path d=\"M18.56 5.44l.94 2.06.94-2.06 2.06-.94-2.06-.94-.94-2.06-.94 2.06-2.06.94zm-11 1L8.5 8.5l.94-2.06 2.06-.94-2.06-.94L8.5 2.5l-.94 2.06-2.06.94zm10 10l.94 2.06.94-2.06 2.06-.94-2.06-.94-.94-2.06-.94 2.06-2.06.94z\"/><path d=\"M17.41 7.96l-1.37-1.37c-.4-.4-.92-.59-1.43-.59-.52 0-1.04.2-1.43.59L10.3 9.45l-7.72 7.72c-.78.78-.78 2.05 0 2.83L4 21.41c.39.39.9.59 1.41.59.51 0 1.02-.2 1.41-.59l7.78-7.78 2.81-2.81c.8-.78.8-2.07 0-2.86zM5.41 20L4 18.59l7.72-7.72 1.47 1.35L5.41 20z\"/>\n",
              "  </svg>\n",
              "      </button>\n",
              "      \n",
              "  <style>\n",
              "    .colab-df-container {\n",
              "      display:flex;\n",
              "      flex-wrap:wrap;\n",
              "      gap: 12px;\n",
              "    }\n",
              "\n",
              "    .colab-df-convert {\n",
              "      background-color: #E8F0FE;\n",
              "      border: none;\n",
              "      border-radius: 50%;\n",
              "      cursor: pointer;\n",
              "      display: none;\n",
              "      fill: #1967D2;\n",
              "      height: 32px;\n",
              "      padding: 0 0 0 0;\n",
              "      width: 32px;\n",
              "    }\n",
              "\n",
              "    .colab-df-convert:hover {\n",
              "      background-color: #E2EBFA;\n",
              "      box-shadow: 0px 1px 2px rgba(60, 64, 67, 0.3), 0px 1px 3px 1px rgba(60, 64, 67, 0.15);\n",
              "      fill: #174EA6;\n",
              "    }\n",
              "\n",
              "    [theme=dark] .colab-df-convert {\n",
              "      background-color: #3B4455;\n",
              "      fill: #D2E3FC;\n",
              "    }\n",
              "\n",
              "    [theme=dark] .colab-df-convert:hover {\n",
              "      background-color: #434B5C;\n",
              "      box-shadow: 0px 1px 3px 1px rgba(0, 0, 0, 0.15);\n",
              "      filter: drop-shadow(0px 1px 2px rgba(0, 0, 0, 0.3));\n",
              "      fill: #FFFFFF;\n",
              "    }\n",
              "  </style>\n",
              "\n",
              "      <script>\n",
              "        const buttonEl =\n",
              "          document.querySelector('#df-758f3987-7ec0-46c8-bb57-15ebca510832 button.colab-df-convert');\n",
              "        buttonEl.style.display =\n",
              "          google.colab.kernel.accessAllowed ? 'block' : 'none';\n",
              "\n",
              "        async function convertToInteractive(key) {\n",
              "          const element = document.querySelector('#df-758f3987-7ec0-46c8-bb57-15ebca510832');\n",
              "          const dataTable =\n",
              "            await google.colab.kernel.invokeFunction('convertToInteractive',\n",
              "                                                     [key], {});\n",
              "          if (!dataTable) return;\n",
              "\n",
              "          const docLinkHtml = 'Like what you see? Visit the ' +\n",
              "            '<a target=\"_blank\" href=https://colab.research.google.com/notebooks/data_table.ipynb>data table notebook</a>'\n",
              "            + ' to learn more about interactive tables.';\n",
              "          element.innerHTML = '';\n",
              "          dataTable['output_type'] = 'display_data';\n",
              "          await google.colab.output.renderOutput(dataTable, element);\n",
              "          const docLink = document.createElement('div');\n",
              "          docLink.innerHTML = docLinkHtml;\n",
              "          element.appendChild(docLink);\n",
              "        }\n",
              "      </script>\n",
              "    </div>\n",
              "  </div>\n",
              "  "
            ]
          },
          "metadata": {},
          "execution_count": 585
        }
      ]
    },
    {
      "cell_type": "code",
      "source": [
        "market_dummies = pd.get_dummies(data_raw['market_segment'])\n",
        "market_dummies.head()"
      ],
      "metadata": {
        "colab": {
          "base_uri": "https://localhost:8080/",
          "height": 206
        },
        "id": "oMndPN3b_8Wp",
        "outputId": "3c5e1d86-eb6a-4edb-a323-5531a426e7c4"
      },
      "execution_count": null,
      "outputs": [
        {
          "output_type": "execute_result",
          "data": {
            "text/plain": [
              "   Aviation  Complementary  Corporate  Direct  Groups  Offline TA/TO  \\\n",
              "0         0              0          0       1       0              0   \n",
              "2         0              0          0       1       0              0   \n",
              "3         0              0          1       0       0              0   \n",
              "4         0              0          0       0       0              0   \n",
              "5         0              0          0       0       0              0   \n",
              "\n",
              "   Online TA  Undefined  \n",
              "0          0          0  \n",
              "2          0          0  \n",
              "3          0          0  \n",
              "4          1          0  \n",
              "5          1          0  "
            ],
            "text/html": [
              "\n",
              "  <div id=\"df-01efc3e9-4e95-4c48-be81-17cb5985af3f\">\n",
              "    <div class=\"colab-df-container\">\n",
              "      <div>\n",
              "<style scoped>\n",
              "    .dataframe tbody tr th:only-of-type {\n",
              "        vertical-align: middle;\n",
              "    }\n",
              "\n",
              "    .dataframe tbody tr th {\n",
              "        vertical-align: top;\n",
              "    }\n",
              "\n",
              "    .dataframe thead th {\n",
              "        text-align: right;\n",
              "    }\n",
              "</style>\n",
              "<table border=\"1\" class=\"dataframe\">\n",
              "  <thead>\n",
              "    <tr style=\"text-align: right;\">\n",
              "      <th></th>\n",
              "      <th>Aviation</th>\n",
              "      <th>Complementary</th>\n",
              "      <th>Corporate</th>\n",
              "      <th>Direct</th>\n",
              "      <th>Groups</th>\n",
              "      <th>Offline TA/TO</th>\n",
              "      <th>Online TA</th>\n",
              "      <th>Undefined</th>\n",
              "    </tr>\n",
              "  </thead>\n",
              "  <tbody>\n",
              "    <tr>\n",
              "      <th>0</th>\n",
              "      <td>0</td>\n",
              "      <td>0</td>\n",
              "      <td>0</td>\n",
              "      <td>1</td>\n",
              "      <td>0</td>\n",
              "      <td>0</td>\n",
              "      <td>0</td>\n",
              "      <td>0</td>\n",
              "    </tr>\n",
              "    <tr>\n",
              "      <th>2</th>\n",
              "      <td>0</td>\n",
              "      <td>0</td>\n",
              "      <td>0</td>\n",
              "      <td>1</td>\n",
              "      <td>0</td>\n",
              "      <td>0</td>\n",
              "      <td>0</td>\n",
              "      <td>0</td>\n",
              "    </tr>\n",
              "    <tr>\n",
              "      <th>3</th>\n",
              "      <td>0</td>\n",
              "      <td>0</td>\n",
              "      <td>1</td>\n",
              "      <td>0</td>\n",
              "      <td>0</td>\n",
              "      <td>0</td>\n",
              "      <td>0</td>\n",
              "      <td>0</td>\n",
              "    </tr>\n",
              "    <tr>\n",
              "      <th>4</th>\n",
              "      <td>0</td>\n",
              "      <td>0</td>\n",
              "      <td>0</td>\n",
              "      <td>0</td>\n",
              "      <td>0</td>\n",
              "      <td>0</td>\n",
              "      <td>1</td>\n",
              "      <td>0</td>\n",
              "    </tr>\n",
              "    <tr>\n",
              "      <th>5</th>\n",
              "      <td>0</td>\n",
              "      <td>0</td>\n",
              "      <td>0</td>\n",
              "      <td>0</td>\n",
              "      <td>0</td>\n",
              "      <td>0</td>\n",
              "      <td>1</td>\n",
              "      <td>0</td>\n",
              "    </tr>\n",
              "  </tbody>\n",
              "</table>\n",
              "</div>\n",
              "      <button class=\"colab-df-convert\" onclick=\"convertToInteractive('df-01efc3e9-4e95-4c48-be81-17cb5985af3f')\"\n",
              "              title=\"Convert this dataframe to an interactive table.\"\n",
              "              style=\"display:none;\">\n",
              "        \n",
              "  <svg xmlns=\"http://www.w3.org/2000/svg\" height=\"24px\"viewBox=\"0 0 24 24\"\n",
              "       width=\"24px\">\n",
              "    <path d=\"M0 0h24v24H0V0z\" fill=\"none\"/>\n",
              "    <path d=\"M18.56 5.44l.94 2.06.94-2.06 2.06-.94-2.06-.94-.94-2.06-.94 2.06-2.06.94zm-11 1L8.5 8.5l.94-2.06 2.06-.94-2.06-.94L8.5 2.5l-.94 2.06-2.06.94zm10 10l.94 2.06.94-2.06 2.06-.94-2.06-.94-.94-2.06-.94 2.06-2.06.94z\"/><path d=\"M17.41 7.96l-1.37-1.37c-.4-.4-.92-.59-1.43-.59-.52 0-1.04.2-1.43.59L10.3 9.45l-7.72 7.72c-.78.78-.78 2.05 0 2.83L4 21.41c.39.39.9.59 1.41.59.51 0 1.02-.2 1.41-.59l7.78-7.78 2.81-2.81c.8-.78.8-2.07 0-2.86zM5.41 20L4 18.59l7.72-7.72 1.47 1.35L5.41 20z\"/>\n",
              "  </svg>\n",
              "      </button>\n",
              "      \n",
              "  <style>\n",
              "    .colab-df-container {\n",
              "      display:flex;\n",
              "      flex-wrap:wrap;\n",
              "      gap: 12px;\n",
              "    }\n",
              "\n",
              "    .colab-df-convert {\n",
              "      background-color: #E8F0FE;\n",
              "      border: none;\n",
              "      border-radius: 50%;\n",
              "      cursor: pointer;\n",
              "      display: none;\n",
              "      fill: #1967D2;\n",
              "      height: 32px;\n",
              "      padding: 0 0 0 0;\n",
              "      width: 32px;\n",
              "    }\n",
              "\n",
              "    .colab-df-convert:hover {\n",
              "      background-color: #E2EBFA;\n",
              "      box-shadow: 0px 1px 2px rgba(60, 64, 67, 0.3), 0px 1px 3px 1px rgba(60, 64, 67, 0.15);\n",
              "      fill: #174EA6;\n",
              "    }\n",
              "\n",
              "    [theme=dark] .colab-df-convert {\n",
              "      background-color: #3B4455;\n",
              "      fill: #D2E3FC;\n",
              "    }\n",
              "\n",
              "    [theme=dark] .colab-df-convert:hover {\n",
              "      background-color: #434B5C;\n",
              "      box-shadow: 0px 1px 3px 1px rgba(0, 0, 0, 0.15);\n",
              "      filter: drop-shadow(0px 1px 2px rgba(0, 0, 0, 0.3));\n",
              "      fill: #FFFFFF;\n",
              "    }\n",
              "  </style>\n",
              "\n",
              "      <script>\n",
              "        const buttonEl =\n",
              "          document.querySelector('#df-01efc3e9-4e95-4c48-be81-17cb5985af3f button.colab-df-convert');\n",
              "        buttonEl.style.display =\n",
              "          google.colab.kernel.accessAllowed ? 'block' : 'none';\n",
              "\n",
              "        async function convertToInteractive(key) {\n",
              "          const element = document.querySelector('#df-01efc3e9-4e95-4c48-be81-17cb5985af3f');\n",
              "          const dataTable =\n",
              "            await google.colab.kernel.invokeFunction('convertToInteractive',\n",
              "                                                     [key], {});\n",
              "          if (!dataTable) return;\n",
              "\n",
              "          const docLinkHtml = 'Like what you see? Visit the ' +\n",
              "            '<a target=\"_blank\" href=https://colab.research.google.com/notebooks/data_table.ipynb>data table notebook</a>'\n",
              "            + ' to learn more about interactive tables.';\n",
              "          element.innerHTML = '';\n",
              "          dataTable['output_type'] = 'display_data';\n",
              "          await google.colab.output.renderOutput(dataTable, element);\n",
              "          const docLink = document.createElement('div');\n",
              "          docLink.innerHTML = docLinkHtml;\n",
              "          element.appendChild(docLink);\n",
              "        }\n",
              "      </script>\n",
              "    </div>\n",
              "  </div>\n",
              "  "
            ]
          },
          "metadata": {},
          "execution_count": 586
        }
      ]
    },
    {
      "cell_type": "code",
      "source": [
        "distribution_dummies = pd.get_dummies(data_raw['distribution_channel'])\n",
        "distribution_dummies.head()"
      ],
      "metadata": {
        "colab": {
          "base_uri": "https://localhost:8080/",
          "height": 206
        },
        "id": "PBkmledr_8g5",
        "outputId": "449ae902-88dd-4a72-fddd-5b1be1f3ec08"
      },
      "execution_count": null,
      "outputs": [
        {
          "output_type": "execute_result",
          "data": {
            "text/plain": [
              "   Corporate  Direct  GDS  TA/TO  Undefined\n",
              "0          0       1    0      0          0\n",
              "2          0       1    0      0          0\n",
              "3          1       0    0      0          0\n",
              "4          0       0    0      1          0\n",
              "5          0       0    0      1          0"
            ],
            "text/html": [
              "\n",
              "  <div id=\"df-62a97946-fbbe-482b-a48a-cd42816133a7\">\n",
              "    <div class=\"colab-df-container\">\n",
              "      <div>\n",
              "<style scoped>\n",
              "    .dataframe tbody tr th:only-of-type {\n",
              "        vertical-align: middle;\n",
              "    }\n",
              "\n",
              "    .dataframe tbody tr th {\n",
              "        vertical-align: top;\n",
              "    }\n",
              "\n",
              "    .dataframe thead th {\n",
              "        text-align: right;\n",
              "    }\n",
              "</style>\n",
              "<table border=\"1\" class=\"dataframe\">\n",
              "  <thead>\n",
              "    <tr style=\"text-align: right;\">\n",
              "      <th></th>\n",
              "      <th>Corporate</th>\n",
              "      <th>Direct</th>\n",
              "      <th>GDS</th>\n",
              "      <th>TA/TO</th>\n",
              "      <th>Undefined</th>\n",
              "    </tr>\n",
              "  </thead>\n",
              "  <tbody>\n",
              "    <tr>\n",
              "      <th>0</th>\n",
              "      <td>0</td>\n",
              "      <td>1</td>\n",
              "      <td>0</td>\n",
              "      <td>0</td>\n",
              "      <td>0</td>\n",
              "    </tr>\n",
              "    <tr>\n",
              "      <th>2</th>\n",
              "      <td>0</td>\n",
              "      <td>1</td>\n",
              "      <td>0</td>\n",
              "      <td>0</td>\n",
              "      <td>0</td>\n",
              "    </tr>\n",
              "    <tr>\n",
              "      <th>3</th>\n",
              "      <td>1</td>\n",
              "      <td>0</td>\n",
              "      <td>0</td>\n",
              "      <td>0</td>\n",
              "      <td>0</td>\n",
              "    </tr>\n",
              "    <tr>\n",
              "      <th>4</th>\n",
              "      <td>0</td>\n",
              "      <td>0</td>\n",
              "      <td>0</td>\n",
              "      <td>1</td>\n",
              "      <td>0</td>\n",
              "    </tr>\n",
              "    <tr>\n",
              "      <th>5</th>\n",
              "      <td>0</td>\n",
              "      <td>0</td>\n",
              "      <td>0</td>\n",
              "      <td>1</td>\n",
              "      <td>0</td>\n",
              "    </tr>\n",
              "  </tbody>\n",
              "</table>\n",
              "</div>\n",
              "      <button class=\"colab-df-convert\" onclick=\"convertToInteractive('df-62a97946-fbbe-482b-a48a-cd42816133a7')\"\n",
              "              title=\"Convert this dataframe to an interactive table.\"\n",
              "              style=\"display:none;\">\n",
              "        \n",
              "  <svg xmlns=\"http://www.w3.org/2000/svg\" height=\"24px\"viewBox=\"0 0 24 24\"\n",
              "       width=\"24px\">\n",
              "    <path d=\"M0 0h24v24H0V0z\" fill=\"none\"/>\n",
              "    <path d=\"M18.56 5.44l.94 2.06.94-2.06 2.06-.94-2.06-.94-.94-2.06-.94 2.06-2.06.94zm-11 1L8.5 8.5l.94-2.06 2.06-.94-2.06-.94L8.5 2.5l-.94 2.06-2.06.94zm10 10l.94 2.06.94-2.06 2.06-.94-2.06-.94-.94-2.06-.94 2.06-2.06.94z\"/><path d=\"M17.41 7.96l-1.37-1.37c-.4-.4-.92-.59-1.43-.59-.52 0-1.04.2-1.43.59L10.3 9.45l-7.72 7.72c-.78.78-.78 2.05 0 2.83L4 21.41c.39.39.9.59 1.41.59.51 0 1.02-.2 1.41-.59l7.78-7.78 2.81-2.81c.8-.78.8-2.07 0-2.86zM5.41 20L4 18.59l7.72-7.72 1.47 1.35L5.41 20z\"/>\n",
              "  </svg>\n",
              "      </button>\n",
              "      \n",
              "  <style>\n",
              "    .colab-df-container {\n",
              "      display:flex;\n",
              "      flex-wrap:wrap;\n",
              "      gap: 12px;\n",
              "    }\n",
              "\n",
              "    .colab-df-convert {\n",
              "      background-color: #E8F0FE;\n",
              "      border: none;\n",
              "      border-radius: 50%;\n",
              "      cursor: pointer;\n",
              "      display: none;\n",
              "      fill: #1967D2;\n",
              "      height: 32px;\n",
              "      padding: 0 0 0 0;\n",
              "      width: 32px;\n",
              "    }\n",
              "\n",
              "    .colab-df-convert:hover {\n",
              "      background-color: #E2EBFA;\n",
              "      box-shadow: 0px 1px 2px rgba(60, 64, 67, 0.3), 0px 1px 3px 1px rgba(60, 64, 67, 0.15);\n",
              "      fill: #174EA6;\n",
              "    }\n",
              "\n",
              "    [theme=dark] .colab-df-convert {\n",
              "      background-color: #3B4455;\n",
              "      fill: #D2E3FC;\n",
              "    }\n",
              "\n",
              "    [theme=dark] .colab-df-convert:hover {\n",
              "      background-color: #434B5C;\n",
              "      box-shadow: 0px 1px 3px 1px rgba(0, 0, 0, 0.15);\n",
              "      filter: drop-shadow(0px 1px 2px rgba(0, 0, 0, 0.3));\n",
              "      fill: #FFFFFF;\n",
              "    }\n",
              "  </style>\n",
              "\n",
              "      <script>\n",
              "        const buttonEl =\n",
              "          document.querySelector('#df-62a97946-fbbe-482b-a48a-cd42816133a7 button.colab-df-convert');\n",
              "        buttonEl.style.display =\n",
              "          google.colab.kernel.accessAllowed ? 'block' : 'none';\n",
              "\n",
              "        async function convertToInteractive(key) {\n",
              "          const element = document.querySelector('#df-62a97946-fbbe-482b-a48a-cd42816133a7');\n",
              "          const dataTable =\n",
              "            await google.colab.kernel.invokeFunction('convertToInteractive',\n",
              "                                                     [key], {});\n",
              "          if (!dataTable) return;\n",
              "\n",
              "          const docLinkHtml = 'Like what you see? Visit the ' +\n",
              "            '<a target=\"_blank\" href=https://colab.research.google.com/notebooks/data_table.ipynb>data table notebook</a>'\n",
              "            + ' to learn more about interactive tables.';\n",
              "          element.innerHTML = '';\n",
              "          dataTable['output_type'] = 'display_data';\n",
              "          await google.colab.output.renderOutput(dataTable, element);\n",
              "          const docLink = document.createElement('div');\n",
              "          docLink.innerHTML = docLinkHtml;\n",
              "          element.appendChild(docLink);\n",
              "        }\n",
              "      </script>\n",
              "    </div>\n",
              "  </div>\n",
              "  "
            ]
          },
          "metadata": {},
          "execution_count": 587
        }
      ]
    },
    {
      "cell_type": "code",
      "source": [
        "deposit_dummies = pd.get_dummies(data_raw['deposit_type'])\n",
        "deposit_dummies.head()"
      ],
      "metadata": {
        "colab": {
          "base_uri": "https://localhost:8080/",
          "height": 206
        },
        "id": "wrxqMzGG_8oc",
        "outputId": "2828cdad-401a-43d0-b450-ee828fd84f5d"
      },
      "execution_count": null,
      "outputs": [
        {
          "output_type": "execute_result",
          "data": {
            "text/plain": [
              "   No Deposit  Non Refund  Refundable\n",
              "0           1           0           0\n",
              "2           1           0           0\n",
              "3           1           0           0\n",
              "4           1           0           0\n",
              "5           1           0           0"
            ],
            "text/html": [
              "\n",
              "  <div id=\"df-925db44c-a567-4f2e-865f-e5e2d791875a\">\n",
              "    <div class=\"colab-df-container\">\n",
              "      <div>\n",
              "<style scoped>\n",
              "    .dataframe tbody tr th:only-of-type {\n",
              "        vertical-align: middle;\n",
              "    }\n",
              "\n",
              "    .dataframe tbody tr th {\n",
              "        vertical-align: top;\n",
              "    }\n",
              "\n",
              "    .dataframe thead th {\n",
              "        text-align: right;\n",
              "    }\n",
              "</style>\n",
              "<table border=\"1\" class=\"dataframe\">\n",
              "  <thead>\n",
              "    <tr style=\"text-align: right;\">\n",
              "      <th></th>\n",
              "      <th>No Deposit</th>\n",
              "      <th>Non Refund</th>\n",
              "      <th>Refundable</th>\n",
              "    </tr>\n",
              "  </thead>\n",
              "  <tbody>\n",
              "    <tr>\n",
              "      <th>0</th>\n",
              "      <td>1</td>\n",
              "      <td>0</td>\n",
              "      <td>0</td>\n",
              "    </tr>\n",
              "    <tr>\n",
              "      <th>2</th>\n",
              "      <td>1</td>\n",
              "      <td>0</td>\n",
              "      <td>0</td>\n",
              "    </tr>\n",
              "    <tr>\n",
              "      <th>3</th>\n",
              "      <td>1</td>\n",
              "      <td>0</td>\n",
              "      <td>0</td>\n",
              "    </tr>\n",
              "    <tr>\n",
              "      <th>4</th>\n",
              "      <td>1</td>\n",
              "      <td>0</td>\n",
              "      <td>0</td>\n",
              "    </tr>\n",
              "    <tr>\n",
              "      <th>5</th>\n",
              "      <td>1</td>\n",
              "      <td>0</td>\n",
              "      <td>0</td>\n",
              "    </tr>\n",
              "  </tbody>\n",
              "</table>\n",
              "</div>\n",
              "      <button class=\"colab-df-convert\" onclick=\"convertToInteractive('df-925db44c-a567-4f2e-865f-e5e2d791875a')\"\n",
              "              title=\"Convert this dataframe to an interactive table.\"\n",
              "              style=\"display:none;\">\n",
              "        \n",
              "  <svg xmlns=\"http://www.w3.org/2000/svg\" height=\"24px\"viewBox=\"0 0 24 24\"\n",
              "       width=\"24px\">\n",
              "    <path d=\"M0 0h24v24H0V0z\" fill=\"none\"/>\n",
              "    <path d=\"M18.56 5.44l.94 2.06.94-2.06 2.06-.94-2.06-.94-.94-2.06-.94 2.06-2.06.94zm-11 1L8.5 8.5l.94-2.06 2.06-.94-2.06-.94L8.5 2.5l-.94 2.06-2.06.94zm10 10l.94 2.06.94-2.06 2.06-.94-2.06-.94-.94-2.06-.94 2.06-2.06.94z\"/><path d=\"M17.41 7.96l-1.37-1.37c-.4-.4-.92-.59-1.43-.59-.52 0-1.04.2-1.43.59L10.3 9.45l-7.72 7.72c-.78.78-.78 2.05 0 2.83L4 21.41c.39.39.9.59 1.41.59.51 0 1.02-.2 1.41-.59l7.78-7.78 2.81-2.81c.8-.78.8-2.07 0-2.86zM5.41 20L4 18.59l7.72-7.72 1.47 1.35L5.41 20z\"/>\n",
              "  </svg>\n",
              "      </button>\n",
              "      \n",
              "  <style>\n",
              "    .colab-df-container {\n",
              "      display:flex;\n",
              "      flex-wrap:wrap;\n",
              "      gap: 12px;\n",
              "    }\n",
              "\n",
              "    .colab-df-convert {\n",
              "      background-color: #E8F0FE;\n",
              "      border: none;\n",
              "      border-radius: 50%;\n",
              "      cursor: pointer;\n",
              "      display: none;\n",
              "      fill: #1967D2;\n",
              "      height: 32px;\n",
              "      padding: 0 0 0 0;\n",
              "      width: 32px;\n",
              "    }\n",
              "\n",
              "    .colab-df-convert:hover {\n",
              "      background-color: #E2EBFA;\n",
              "      box-shadow: 0px 1px 2px rgba(60, 64, 67, 0.3), 0px 1px 3px 1px rgba(60, 64, 67, 0.15);\n",
              "      fill: #174EA6;\n",
              "    }\n",
              "\n",
              "    [theme=dark] .colab-df-convert {\n",
              "      background-color: #3B4455;\n",
              "      fill: #D2E3FC;\n",
              "    }\n",
              "\n",
              "    [theme=dark] .colab-df-convert:hover {\n",
              "      background-color: #434B5C;\n",
              "      box-shadow: 0px 1px 3px 1px rgba(0, 0, 0, 0.15);\n",
              "      filter: drop-shadow(0px 1px 2px rgba(0, 0, 0, 0.3));\n",
              "      fill: #FFFFFF;\n",
              "    }\n",
              "  </style>\n",
              "\n",
              "      <script>\n",
              "        const buttonEl =\n",
              "          document.querySelector('#df-925db44c-a567-4f2e-865f-e5e2d791875a button.colab-df-convert');\n",
              "        buttonEl.style.display =\n",
              "          google.colab.kernel.accessAllowed ? 'block' : 'none';\n",
              "\n",
              "        async function convertToInteractive(key) {\n",
              "          const element = document.querySelector('#df-925db44c-a567-4f2e-865f-e5e2d791875a');\n",
              "          const dataTable =\n",
              "            await google.colab.kernel.invokeFunction('convertToInteractive',\n",
              "                                                     [key], {});\n",
              "          if (!dataTable) return;\n",
              "\n",
              "          const docLinkHtml = 'Like what you see? Visit the ' +\n",
              "            '<a target=\"_blank\" href=https://colab.research.google.com/notebooks/data_table.ipynb>data table notebook</a>'\n",
              "            + ' to learn more about interactive tables.';\n",
              "          element.innerHTML = '';\n",
              "          dataTable['output_type'] = 'display_data';\n",
              "          await google.colab.output.renderOutput(dataTable, element);\n",
              "          const docLink = document.createElement('div');\n",
              "          docLink.innerHTML = docLinkHtml;\n",
              "          element.appendChild(docLink);\n",
              "        }\n",
              "      </script>\n",
              "    </div>\n",
              "  </div>\n",
              "  "
            ]
          },
          "metadata": {},
          "execution_count": 588
        }
      ]
    },
    {
      "cell_type": "code",
      "source": [
        "customer_dummies = pd.get_dummies(data_raw['customer_type'])\n",
        "customer_dummies.head()"
      ],
      "metadata": {
        "colab": {
          "base_uri": "https://localhost:8080/",
          "height": 206
        },
        "id": "TBt740O8_8_x",
        "outputId": "86ed5b02-4b16-458e-ed3c-cd5a331623f2"
      },
      "execution_count": null,
      "outputs": [
        {
          "output_type": "execute_result",
          "data": {
            "text/plain": [
              "   Contract  Group  Transient  Transient-Party\n",
              "0         0      0          1                0\n",
              "2         0      0          1                0\n",
              "3         0      0          1                0\n",
              "4         0      0          1                0\n",
              "5         0      0          1                0"
            ],
            "text/html": [
              "\n",
              "  <div id=\"df-db1051cc-5383-4cdc-b266-db35f9f947ba\">\n",
              "    <div class=\"colab-df-container\">\n",
              "      <div>\n",
              "<style scoped>\n",
              "    .dataframe tbody tr th:only-of-type {\n",
              "        vertical-align: middle;\n",
              "    }\n",
              "\n",
              "    .dataframe tbody tr th {\n",
              "        vertical-align: top;\n",
              "    }\n",
              "\n",
              "    .dataframe thead th {\n",
              "        text-align: right;\n",
              "    }\n",
              "</style>\n",
              "<table border=\"1\" class=\"dataframe\">\n",
              "  <thead>\n",
              "    <tr style=\"text-align: right;\">\n",
              "      <th></th>\n",
              "      <th>Contract</th>\n",
              "      <th>Group</th>\n",
              "      <th>Transient</th>\n",
              "      <th>Transient-Party</th>\n",
              "    </tr>\n",
              "  </thead>\n",
              "  <tbody>\n",
              "    <tr>\n",
              "      <th>0</th>\n",
              "      <td>0</td>\n",
              "      <td>0</td>\n",
              "      <td>1</td>\n",
              "      <td>0</td>\n",
              "    </tr>\n",
              "    <tr>\n",
              "      <th>2</th>\n",
              "      <td>0</td>\n",
              "      <td>0</td>\n",
              "      <td>1</td>\n",
              "      <td>0</td>\n",
              "    </tr>\n",
              "    <tr>\n",
              "      <th>3</th>\n",
              "      <td>0</td>\n",
              "      <td>0</td>\n",
              "      <td>1</td>\n",
              "      <td>0</td>\n",
              "    </tr>\n",
              "    <tr>\n",
              "      <th>4</th>\n",
              "      <td>0</td>\n",
              "      <td>0</td>\n",
              "      <td>1</td>\n",
              "      <td>0</td>\n",
              "    </tr>\n",
              "    <tr>\n",
              "      <th>5</th>\n",
              "      <td>0</td>\n",
              "      <td>0</td>\n",
              "      <td>1</td>\n",
              "      <td>0</td>\n",
              "    </tr>\n",
              "  </tbody>\n",
              "</table>\n",
              "</div>\n",
              "      <button class=\"colab-df-convert\" onclick=\"convertToInteractive('df-db1051cc-5383-4cdc-b266-db35f9f947ba')\"\n",
              "              title=\"Convert this dataframe to an interactive table.\"\n",
              "              style=\"display:none;\">\n",
              "        \n",
              "  <svg xmlns=\"http://www.w3.org/2000/svg\" height=\"24px\"viewBox=\"0 0 24 24\"\n",
              "       width=\"24px\">\n",
              "    <path d=\"M0 0h24v24H0V0z\" fill=\"none\"/>\n",
              "    <path d=\"M18.56 5.44l.94 2.06.94-2.06 2.06-.94-2.06-.94-.94-2.06-.94 2.06-2.06.94zm-11 1L8.5 8.5l.94-2.06 2.06-.94-2.06-.94L8.5 2.5l-.94 2.06-2.06.94zm10 10l.94 2.06.94-2.06 2.06-.94-2.06-.94-.94-2.06-.94 2.06-2.06.94z\"/><path d=\"M17.41 7.96l-1.37-1.37c-.4-.4-.92-.59-1.43-.59-.52 0-1.04.2-1.43.59L10.3 9.45l-7.72 7.72c-.78.78-.78 2.05 0 2.83L4 21.41c.39.39.9.59 1.41.59.51 0 1.02-.2 1.41-.59l7.78-7.78 2.81-2.81c.8-.78.8-2.07 0-2.86zM5.41 20L4 18.59l7.72-7.72 1.47 1.35L5.41 20z\"/>\n",
              "  </svg>\n",
              "      </button>\n",
              "      \n",
              "  <style>\n",
              "    .colab-df-container {\n",
              "      display:flex;\n",
              "      flex-wrap:wrap;\n",
              "      gap: 12px;\n",
              "    }\n",
              "\n",
              "    .colab-df-convert {\n",
              "      background-color: #E8F0FE;\n",
              "      border: none;\n",
              "      border-radius: 50%;\n",
              "      cursor: pointer;\n",
              "      display: none;\n",
              "      fill: #1967D2;\n",
              "      height: 32px;\n",
              "      padding: 0 0 0 0;\n",
              "      width: 32px;\n",
              "    }\n",
              "\n",
              "    .colab-df-convert:hover {\n",
              "      background-color: #E2EBFA;\n",
              "      box-shadow: 0px 1px 2px rgba(60, 64, 67, 0.3), 0px 1px 3px 1px rgba(60, 64, 67, 0.15);\n",
              "      fill: #174EA6;\n",
              "    }\n",
              "\n",
              "    [theme=dark] .colab-df-convert {\n",
              "      background-color: #3B4455;\n",
              "      fill: #D2E3FC;\n",
              "    }\n",
              "\n",
              "    [theme=dark] .colab-df-convert:hover {\n",
              "      background-color: #434B5C;\n",
              "      box-shadow: 0px 1px 3px 1px rgba(0, 0, 0, 0.15);\n",
              "      filter: drop-shadow(0px 1px 2px rgba(0, 0, 0, 0.3));\n",
              "      fill: #FFFFFF;\n",
              "    }\n",
              "  </style>\n",
              "\n",
              "      <script>\n",
              "        const buttonEl =\n",
              "          document.querySelector('#df-db1051cc-5383-4cdc-b266-db35f9f947ba button.colab-df-convert');\n",
              "        buttonEl.style.display =\n",
              "          google.colab.kernel.accessAllowed ? 'block' : 'none';\n",
              "\n",
              "        async function convertToInteractive(key) {\n",
              "          const element = document.querySelector('#df-db1051cc-5383-4cdc-b266-db35f9f947ba');\n",
              "          const dataTable =\n",
              "            await google.colab.kernel.invokeFunction('convertToInteractive',\n",
              "                                                     [key], {});\n",
              "          if (!dataTable) return;\n",
              "\n",
              "          const docLinkHtml = 'Like what you see? Visit the ' +\n",
              "            '<a target=\"_blank\" href=https://colab.research.google.com/notebooks/data_table.ipynb>data table notebook</a>'\n",
              "            + ' to learn more about interactive tables.';\n",
              "          element.innerHTML = '';\n",
              "          dataTable['output_type'] = 'display_data';\n",
              "          await google.colab.output.renderOutput(dataTable, element);\n",
              "          const docLink = document.createElement('div');\n",
              "          docLink.innerHTML = docLinkHtml;\n",
              "          element.appendChild(docLink);\n",
              "        }\n",
              "      </script>\n",
              "    </div>\n",
              "  </div>\n",
              "  "
            ]
          },
          "metadata": {},
          "execution_count": 589
        }
      ]
    },
    {
      "cell_type": "code",
      "source": [
        "data_raw = pd.concat((data_raw, meal_dummies), axis = 1)\n",
        "data_raw = pd.concat((data_raw, market_dummies), axis = 1)\n",
        "data_raw = pd.concat((data_raw, distribution_dummies), axis = 1)\n",
        "data_raw = pd.concat((data_raw, deposit_dummies), axis = 1)\n",
        "data_raw = pd.concat((data_raw, customer_dummies), axis = 1)\n",
        "\n",
        "data_raw = data_raw.drop([\"meal\", \"market_segment\", \"distribution_channel\", \"deposit_type\", \"customer_type\"], axis = 1)\n",
        "data_raw.info()"
      ],
      "metadata": {
        "colab": {
          "base_uri": "https://localhost:8080/"
        },
        "id": "4lsJr-xlAMaO",
        "outputId": "3eca00d3-648d-4c6f-e7ca-5e5111888458"
      },
      "execution_count": null,
      "outputs": [
        {
          "output_type": "stream",
          "name": "stdout",
          "text": [
            "<class 'pandas.core.frame.DataFrame'>\n",
            "Int64Index: 119171 entries, 0 to 119389\n",
            "Data columns (total 46 columns):\n",
            " #   Column                          Non-Null Count   Dtype  \n",
            "---  ------                          --------------   -----  \n",
            " 0   hotel                           119171 non-null  int64  \n",
            " 1   is_canceled                     119171 non-null  int64  \n",
            " 2   lead_time                       119171 non-null  int64  \n",
            " 3   arrival_date_year               119171 non-null  int64  \n",
            " 4   arrival_date_week_number        119171 non-null  int64  \n",
            " 5   arrival_date_day_of_month       119171 non-null  int64  \n",
            " 6   stays_in_weekend_nights         119171 non-null  int64  \n",
            " 7   stays_in_week_nights            119171 non-null  int64  \n",
            " 8   adults                          119171 non-null  int64  \n",
            " 9   children                        119167 non-null  float64\n",
            " 10  babies                          119171 non-null  int64  \n",
            " 11  is_repeated_guest               119171 non-null  int64  \n",
            " 12  previous_cancellations          119171 non-null  int64  \n",
            " 13  previous_bookings_not_canceled  119171 non-null  int64  \n",
            " 14  booking_changes                 119171 non-null  int64  \n",
            " 15  agent                           119171 non-null  float64\n",
            " 16  company                         119171 non-null  float64\n",
            " 17  days_in_waiting_list            119171 non-null  int64  \n",
            " 18  adr                             119171 non-null  float64\n",
            " 19  required_car_parking_spaces     119171 non-null  int64  \n",
            " 20  total_of_special_requests       119171 non-null  int64  \n",
            " 21  BB                              119171 non-null  uint8  \n",
            " 22  FB                              119171 non-null  uint8  \n",
            " 23  HB                              119171 non-null  uint8  \n",
            " 24  SC                              119171 non-null  uint8  \n",
            " 25  Undefined                       119171 non-null  uint8  \n",
            " 26  Aviation                        119171 non-null  uint8  \n",
            " 27  Complementary                   119171 non-null  uint8  \n",
            " 28  Corporate                       119171 non-null  uint8  \n",
            " 29  Direct                          119171 non-null  uint8  \n",
            " 30  Groups                          119171 non-null  uint8  \n",
            " 31  Offline TA/TO                   119171 non-null  uint8  \n",
            " 32  Online TA                       119171 non-null  uint8  \n",
            " 33  Undefined                       119171 non-null  uint8  \n",
            " 34  Corporate                       119171 non-null  uint8  \n",
            " 35  Direct                          119171 non-null  uint8  \n",
            " 36  GDS                             119171 non-null  uint8  \n",
            " 37  TA/TO                           119171 non-null  uint8  \n",
            " 38  Undefined                       119171 non-null  uint8  \n",
            " 39  No Deposit                      119171 non-null  uint8  \n",
            " 40  Non Refund                      119171 non-null  uint8  \n",
            " 41  Refundable                      119171 non-null  uint8  \n",
            " 42  Contract                        119171 non-null  uint8  \n",
            " 43  Group                           119171 non-null  uint8  \n",
            " 44  Transient                       119171 non-null  uint8  \n",
            " 45  Transient-Party                 119171 non-null  uint8  \n",
            "dtypes: float64(4), int64(17), uint8(25)\n",
            "memory usage: 26.9 MB\n"
          ]
        }
      ]
    },
    {
      "cell_type": "markdown",
      "source": [
        "# Нормализация значений"
      ],
      "metadata": {
        "id": "bl9fbdKzBEri"
      }
    },
    {
      "cell_type": "markdown",
      "source": [
        "Каждое значение нормируется к интервалу [0, 1]."
      ],
      "metadata": {
        "id": "Zrw8KJ3XBHZy"
      }
    },
    {
      "cell_type": "code",
      "source": [
        "data_norm = (data_raw - data_raw.min(axis=0)) / (data_raw.max(axis=0) - data_raw.min(axis=0))\n",
        "data_norm.describe()"
      ],
      "metadata": {
        "colab": {
          "base_uri": "https://localhost:8080/",
          "height": 411
        },
        "id": "_qL85yYIBM2_",
        "outputId": "387b973c-3793-460d-8de3-a7c25ae8a3e8"
      },
      "execution_count": null,
      "outputs": [
        {
          "output_type": "execute_result",
          "data": {
            "text/plain": [
              "               hotel    is_canceled      lead_time  arrival_date_year  \\\n",
              "count  119171.000000  119171.000000  119171.000000      119171.000000   \n",
              "mean        0.664851       0.369276       0.170991           0.578639   \n",
              "std         0.472044       0.482611       0.174902           0.353441   \n",
              "min         0.000000       0.000000       0.000000           0.000000   \n",
              "25%         0.000000       0.000000       0.029752           0.500000   \n",
              "50%         1.000000       0.000000       0.114050           0.500000   \n",
              "75%         1.000000       1.000000       0.264463           1.000000   \n",
              "max         1.000000       1.000000       1.000000           1.000000   \n",
              "\n",
              "       arrival_date_week_number  arrival_date_day_of_month  \\\n",
              "count             119171.000000              119171.000000   \n",
              "mean                   0.503090                   0.493539   \n",
              "std                    0.261646                   0.292659   \n",
              "min                    0.000000                   0.000000   \n",
              "25%                    0.288462                   0.233333   \n",
              "50%                    0.519231                   0.500000   \n",
              "75%                    0.711538                   0.733333   \n",
              "max                    1.000000                   1.000000   \n",
              "\n",
              "       stays_in_weekend_nights  stays_in_week_nights         adults  \\\n",
              "count            119171.000000         119171.000000  119171.000000   \n",
              "mean                  0.048839              0.050004       0.033749   \n",
              "std                   0.052562              0.038164       0.010540   \n",
              "min                   0.000000              0.000000       0.000000   \n",
              "25%                   0.000000              0.020000       0.036364   \n",
              "50%                   0.052632              0.040000       0.036364   \n",
              "75%                   0.105263              0.060000       0.036364   \n",
              "max                   1.000000              1.000000       1.000000   \n",
              "\n",
              "            children  ...            GDS          TA/TO      Undefined  \\\n",
              "count  119167.000000  ...  119171.000000  119171.000000  119171.000000   \n",
              "mean        0.010408  ...       0.001620       0.819646       0.000042   \n",
              "std         0.039890  ...       0.040211       0.384484       0.006477   \n",
              "min         0.000000  ...       0.000000       0.000000       0.000000   \n",
              "25%         0.000000  ...       0.000000       1.000000       0.000000   \n",
              "50%         0.000000  ...       0.000000       1.000000       0.000000   \n",
              "75%         0.000000  ...       0.000000       1.000000       0.000000   \n",
              "max         1.000000  ...       1.000000       1.000000       1.000000   \n",
              "\n",
              "          No Deposit     Non Refund     Refundable       Contract  \\\n",
              "count  119171.000000  119171.000000  119171.000000  119171.000000   \n",
              "mean        0.877848       0.120793       0.001359       0.034203   \n",
              "std         0.327463       0.325888       0.036845       0.181751   \n",
              "min         0.000000       0.000000       0.000000       0.000000   \n",
              "25%         1.000000       0.000000       0.000000       0.000000   \n",
              "50%         1.000000       0.000000       0.000000       0.000000   \n",
              "75%         1.000000       0.000000       0.000000       0.000000   \n",
              "max         1.000000       1.000000       1.000000       1.000000   \n",
              "\n",
              "               Group      Transient  Transient-Party  \n",
              "count  119171.000000  119171.000000    119171.000000  \n",
              "mean        0.004842       0.750342         0.210613  \n",
              "std         0.069415       0.432817         0.407746  \n",
              "min         0.000000       0.000000         0.000000  \n",
              "25%         0.000000       1.000000         0.000000  \n",
              "50%         0.000000       1.000000         0.000000  \n",
              "75%         0.000000       1.000000         0.000000  \n",
              "max         1.000000       1.000000         1.000000  \n",
              "\n",
              "[8 rows x 46 columns]"
            ],
            "text/html": [
              "\n",
              "  <div id=\"df-e12b009d-780b-466e-8f2d-07f769b2d1ec\">\n",
              "    <div class=\"colab-df-container\">\n",
              "      <div>\n",
              "<style scoped>\n",
              "    .dataframe tbody tr th:only-of-type {\n",
              "        vertical-align: middle;\n",
              "    }\n",
              "\n",
              "    .dataframe tbody tr th {\n",
              "        vertical-align: top;\n",
              "    }\n",
              "\n",
              "    .dataframe thead th {\n",
              "        text-align: right;\n",
              "    }\n",
              "</style>\n",
              "<table border=\"1\" class=\"dataframe\">\n",
              "  <thead>\n",
              "    <tr style=\"text-align: right;\">\n",
              "      <th></th>\n",
              "      <th>hotel</th>\n",
              "      <th>is_canceled</th>\n",
              "      <th>lead_time</th>\n",
              "      <th>arrival_date_year</th>\n",
              "      <th>arrival_date_week_number</th>\n",
              "      <th>arrival_date_day_of_month</th>\n",
              "      <th>stays_in_weekend_nights</th>\n",
              "      <th>stays_in_week_nights</th>\n",
              "      <th>adults</th>\n",
              "      <th>children</th>\n",
              "      <th>...</th>\n",
              "      <th>GDS</th>\n",
              "      <th>TA/TO</th>\n",
              "      <th>Undefined</th>\n",
              "      <th>No Deposit</th>\n",
              "      <th>Non Refund</th>\n",
              "      <th>Refundable</th>\n",
              "      <th>Contract</th>\n",
              "      <th>Group</th>\n",
              "      <th>Transient</th>\n",
              "      <th>Transient-Party</th>\n",
              "    </tr>\n",
              "  </thead>\n",
              "  <tbody>\n",
              "    <tr>\n",
              "      <th>count</th>\n",
              "      <td>119171.000000</td>\n",
              "      <td>119171.000000</td>\n",
              "      <td>119171.000000</td>\n",
              "      <td>119171.000000</td>\n",
              "      <td>119171.000000</td>\n",
              "      <td>119171.000000</td>\n",
              "      <td>119171.000000</td>\n",
              "      <td>119171.000000</td>\n",
              "      <td>119171.000000</td>\n",
              "      <td>119167.000000</td>\n",
              "      <td>...</td>\n",
              "      <td>119171.000000</td>\n",
              "      <td>119171.000000</td>\n",
              "      <td>119171.000000</td>\n",
              "      <td>119171.000000</td>\n",
              "      <td>119171.000000</td>\n",
              "      <td>119171.000000</td>\n",
              "      <td>119171.000000</td>\n",
              "      <td>119171.000000</td>\n",
              "      <td>119171.000000</td>\n",
              "      <td>119171.000000</td>\n",
              "    </tr>\n",
              "    <tr>\n",
              "      <th>mean</th>\n",
              "      <td>0.664851</td>\n",
              "      <td>0.369276</td>\n",
              "      <td>0.170991</td>\n",
              "      <td>0.578639</td>\n",
              "      <td>0.503090</td>\n",
              "      <td>0.493539</td>\n",
              "      <td>0.048839</td>\n",
              "      <td>0.050004</td>\n",
              "      <td>0.033749</td>\n",
              "      <td>0.010408</td>\n",
              "      <td>...</td>\n",
              "      <td>0.001620</td>\n",
              "      <td>0.819646</td>\n",
              "      <td>0.000042</td>\n",
              "      <td>0.877848</td>\n",
              "      <td>0.120793</td>\n",
              "      <td>0.001359</td>\n",
              "      <td>0.034203</td>\n",
              "      <td>0.004842</td>\n",
              "      <td>0.750342</td>\n",
              "      <td>0.210613</td>\n",
              "    </tr>\n",
              "    <tr>\n",
              "      <th>std</th>\n",
              "      <td>0.472044</td>\n",
              "      <td>0.482611</td>\n",
              "      <td>0.174902</td>\n",
              "      <td>0.353441</td>\n",
              "      <td>0.261646</td>\n",
              "      <td>0.292659</td>\n",
              "      <td>0.052562</td>\n",
              "      <td>0.038164</td>\n",
              "      <td>0.010540</td>\n",
              "      <td>0.039890</td>\n",
              "      <td>...</td>\n",
              "      <td>0.040211</td>\n",
              "      <td>0.384484</td>\n",
              "      <td>0.006477</td>\n",
              "      <td>0.327463</td>\n",
              "      <td>0.325888</td>\n",
              "      <td>0.036845</td>\n",
              "      <td>0.181751</td>\n",
              "      <td>0.069415</td>\n",
              "      <td>0.432817</td>\n",
              "      <td>0.407746</td>\n",
              "    </tr>\n",
              "    <tr>\n",
              "      <th>min</th>\n",
              "      <td>0.000000</td>\n",
              "      <td>0.000000</td>\n",
              "      <td>0.000000</td>\n",
              "      <td>0.000000</td>\n",
              "      <td>0.000000</td>\n",
              "      <td>0.000000</td>\n",
              "      <td>0.000000</td>\n",
              "      <td>0.000000</td>\n",
              "      <td>0.000000</td>\n",
              "      <td>0.000000</td>\n",
              "      <td>...</td>\n",
              "      <td>0.000000</td>\n",
              "      <td>0.000000</td>\n",
              "      <td>0.000000</td>\n",
              "      <td>0.000000</td>\n",
              "      <td>0.000000</td>\n",
              "      <td>0.000000</td>\n",
              "      <td>0.000000</td>\n",
              "      <td>0.000000</td>\n",
              "      <td>0.000000</td>\n",
              "      <td>0.000000</td>\n",
              "    </tr>\n",
              "    <tr>\n",
              "      <th>25%</th>\n",
              "      <td>0.000000</td>\n",
              "      <td>0.000000</td>\n",
              "      <td>0.029752</td>\n",
              "      <td>0.500000</td>\n",
              "      <td>0.288462</td>\n",
              "      <td>0.233333</td>\n",
              "      <td>0.000000</td>\n",
              "      <td>0.020000</td>\n",
              "      <td>0.036364</td>\n",
              "      <td>0.000000</td>\n",
              "      <td>...</td>\n",
              "      <td>0.000000</td>\n",
              "      <td>1.000000</td>\n",
              "      <td>0.000000</td>\n",
              "      <td>1.000000</td>\n",
              "      <td>0.000000</td>\n",
              "      <td>0.000000</td>\n",
              "      <td>0.000000</td>\n",
              "      <td>0.000000</td>\n",
              "      <td>1.000000</td>\n",
              "      <td>0.000000</td>\n",
              "    </tr>\n",
              "    <tr>\n",
              "      <th>50%</th>\n",
              "      <td>1.000000</td>\n",
              "      <td>0.000000</td>\n",
              "      <td>0.114050</td>\n",
              "      <td>0.500000</td>\n",
              "      <td>0.519231</td>\n",
              "      <td>0.500000</td>\n",
              "      <td>0.052632</td>\n",
              "      <td>0.040000</td>\n",
              "      <td>0.036364</td>\n",
              "      <td>0.000000</td>\n",
              "      <td>...</td>\n",
              "      <td>0.000000</td>\n",
              "      <td>1.000000</td>\n",
              "      <td>0.000000</td>\n",
              "      <td>1.000000</td>\n",
              "      <td>0.000000</td>\n",
              "      <td>0.000000</td>\n",
              "      <td>0.000000</td>\n",
              "      <td>0.000000</td>\n",
              "      <td>1.000000</td>\n",
              "      <td>0.000000</td>\n",
              "    </tr>\n",
              "    <tr>\n",
              "      <th>75%</th>\n",
              "      <td>1.000000</td>\n",
              "      <td>1.000000</td>\n",
              "      <td>0.264463</td>\n",
              "      <td>1.000000</td>\n",
              "      <td>0.711538</td>\n",
              "      <td>0.733333</td>\n",
              "      <td>0.105263</td>\n",
              "      <td>0.060000</td>\n",
              "      <td>0.036364</td>\n",
              "      <td>0.000000</td>\n",
              "      <td>...</td>\n",
              "      <td>0.000000</td>\n",
              "      <td>1.000000</td>\n",
              "      <td>0.000000</td>\n",
              "      <td>1.000000</td>\n",
              "      <td>0.000000</td>\n",
              "      <td>0.000000</td>\n",
              "      <td>0.000000</td>\n",
              "      <td>0.000000</td>\n",
              "      <td>1.000000</td>\n",
              "      <td>0.000000</td>\n",
              "    </tr>\n",
              "    <tr>\n",
              "      <th>max</th>\n",
              "      <td>1.000000</td>\n",
              "      <td>1.000000</td>\n",
              "      <td>1.000000</td>\n",
              "      <td>1.000000</td>\n",
              "      <td>1.000000</td>\n",
              "      <td>1.000000</td>\n",
              "      <td>1.000000</td>\n",
              "      <td>1.000000</td>\n",
              "      <td>1.000000</td>\n",
              "      <td>1.000000</td>\n",
              "      <td>...</td>\n",
              "      <td>1.000000</td>\n",
              "      <td>1.000000</td>\n",
              "      <td>1.000000</td>\n",
              "      <td>1.000000</td>\n",
              "      <td>1.000000</td>\n",
              "      <td>1.000000</td>\n",
              "      <td>1.000000</td>\n",
              "      <td>1.000000</td>\n",
              "      <td>1.000000</td>\n",
              "      <td>1.000000</td>\n",
              "    </tr>\n",
              "  </tbody>\n",
              "</table>\n",
              "<p>8 rows × 46 columns</p>\n",
              "</div>\n",
              "      <button class=\"colab-df-convert\" onclick=\"convertToInteractive('df-e12b009d-780b-466e-8f2d-07f769b2d1ec')\"\n",
              "              title=\"Convert this dataframe to an interactive table.\"\n",
              "              style=\"display:none;\">\n",
              "        \n",
              "  <svg xmlns=\"http://www.w3.org/2000/svg\" height=\"24px\"viewBox=\"0 0 24 24\"\n",
              "       width=\"24px\">\n",
              "    <path d=\"M0 0h24v24H0V0z\" fill=\"none\"/>\n",
              "    <path d=\"M18.56 5.44l.94 2.06.94-2.06 2.06-.94-2.06-.94-.94-2.06-.94 2.06-2.06.94zm-11 1L8.5 8.5l.94-2.06 2.06-.94-2.06-.94L8.5 2.5l-.94 2.06-2.06.94zm10 10l.94 2.06.94-2.06 2.06-.94-2.06-.94-.94-2.06-.94 2.06-2.06.94z\"/><path d=\"M17.41 7.96l-1.37-1.37c-.4-.4-.92-.59-1.43-.59-.52 0-1.04.2-1.43.59L10.3 9.45l-7.72 7.72c-.78.78-.78 2.05 0 2.83L4 21.41c.39.39.9.59 1.41.59.51 0 1.02-.2 1.41-.59l7.78-7.78 2.81-2.81c.8-.78.8-2.07 0-2.86zM5.41 20L4 18.59l7.72-7.72 1.47 1.35L5.41 20z\"/>\n",
              "  </svg>\n",
              "      </button>\n",
              "      \n",
              "  <style>\n",
              "    .colab-df-container {\n",
              "      display:flex;\n",
              "      flex-wrap:wrap;\n",
              "      gap: 12px;\n",
              "    }\n",
              "\n",
              "    .colab-df-convert {\n",
              "      background-color: #E8F0FE;\n",
              "      border: none;\n",
              "      border-radius: 50%;\n",
              "      cursor: pointer;\n",
              "      display: none;\n",
              "      fill: #1967D2;\n",
              "      height: 32px;\n",
              "      padding: 0 0 0 0;\n",
              "      width: 32px;\n",
              "    }\n",
              "\n",
              "    .colab-df-convert:hover {\n",
              "      background-color: #E2EBFA;\n",
              "      box-shadow: 0px 1px 2px rgba(60, 64, 67, 0.3), 0px 1px 3px 1px rgba(60, 64, 67, 0.15);\n",
              "      fill: #174EA6;\n",
              "    }\n",
              "\n",
              "    [theme=dark] .colab-df-convert {\n",
              "      background-color: #3B4455;\n",
              "      fill: #D2E3FC;\n",
              "    }\n",
              "\n",
              "    [theme=dark] .colab-df-convert:hover {\n",
              "      background-color: #434B5C;\n",
              "      box-shadow: 0px 1px 3px 1px rgba(0, 0, 0, 0.15);\n",
              "      filter: drop-shadow(0px 1px 2px rgba(0, 0, 0, 0.3));\n",
              "      fill: #FFFFFF;\n",
              "    }\n",
              "  </style>\n",
              "\n",
              "      <script>\n",
              "        const buttonEl =\n",
              "          document.querySelector('#df-e12b009d-780b-466e-8f2d-07f769b2d1ec button.colab-df-convert');\n",
              "        buttonEl.style.display =\n",
              "          google.colab.kernel.accessAllowed ? 'block' : 'none';\n",
              "\n",
              "        async function convertToInteractive(key) {\n",
              "          const element = document.querySelector('#df-e12b009d-780b-466e-8f2d-07f769b2d1ec');\n",
              "          const dataTable =\n",
              "            await google.colab.kernel.invokeFunction('convertToInteractive',\n",
              "                                                     [key], {});\n",
              "          if (!dataTable) return;\n",
              "\n",
              "          const docLinkHtml = 'Like what you see? Visit the ' +\n",
              "            '<a target=\"_blank\" href=https://colab.research.google.com/notebooks/data_table.ipynb>data table notebook</a>'\n",
              "            + ' to learn more about interactive tables.';\n",
              "          element.innerHTML = '';\n",
              "          dataTable['output_type'] = 'display_data';\n",
              "          await google.colab.output.renderOutput(dataTable, element);\n",
              "          const docLink = document.createElement('div');\n",
              "          docLink.innerHTML = docLinkHtml;\n",
              "          element.appendChild(docLink);\n",
              "        }\n",
              "      </script>\n",
              "    </div>\n",
              "  </div>\n",
              "  "
            ]
          },
          "metadata": {},
          "execution_count": 591
        }
      ]
    },
    {
      "cell_type": "markdown",
      "source": [
        "Разбиение данных на тестовую и обучающие выборки.\n",
        "Поле **children** пришлось удалить, данные содержали Nan значение."
      ],
      "metadata": {
        "id": "iYN3xrkdBcgi"
      }
    },
    {
      "cell_type": "code",
      "source": [
        "X = data_norm.drop(['is_canceled', 'Undefined', 'children'], axis = 1)\n",
        "y = data_norm['is_canceled']\n",
        "feature_names = X.columns\n",
        "feature_names"
      ],
      "metadata": {
        "colab": {
          "base_uri": "https://localhost:8080/"
        },
        "id": "FF8VaBvCBf7H",
        "outputId": "6f924944-17e6-4d22-c049-7c8d28f597ee"
      },
      "execution_count": null,
      "outputs": [
        {
          "output_type": "execute_result",
          "data": {
            "text/plain": [
              "Index(['hotel', 'lead_time', 'arrival_date_year', 'arrival_date_week_number',\n",
              "       'arrival_date_day_of_month', 'stays_in_weekend_nights',\n",
              "       'stays_in_week_nights', 'adults', 'babies', 'is_repeated_guest',\n",
              "       'previous_cancellations', 'previous_bookings_not_canceled',\n",
              "       'booking_changes', 'agent', 'company', 'days_in_waiting_list', 'adr',\n",
              "       'required_car_parking_spaces', 'total_of_special_requests', 'BB', 'FB',\n",
              "       'HB', 'SC', 'Aviation', 'Complementary', 'Corporate', 'Direct',\n",
              "       'Groups', 'Offline TA/TO', 'Online TA', 'Corporate', 'Direct', 'GDS',\n",
              "       'TA/TO', 'No Deposit', 'Non Refund', 'Refundable', 'Contract', 'Group',\n",
              "       'Transient', 'Transient-Party'],\n",
              "      dtype='object')"
            ]
          },
          "metadata": {},
          "execution_count": 592
        }
      ]
    },
    {
      "cell_type": "code",
      "source": [
        "type(X)"
      ],
      "metadata": {
        "colab": {
          "base_uri": "https://localhost:8080/"
        },
        "id": "fx02fzRNj2XL",
        "outputId": "7389c9a9-0fec-4075-9892-53b24f41a6c9"
      },
      "execution_count": null,
      "outputs": [
        {
          "output_type": "execute_result",
          "data": {
            "text/plain": [
              "pandas.core.frame.DataFrame"
            ]
          },
          "metadata": {},
          "execution_count": 593
        }
      ]
    },
    {
      "cell_type": "code",
      "source": [
        "X = X.to_numpy()\n",
        "type(X)"
      ],
      "metadata": {
        "colab": {
          "base_uri": "https://localhost:8080/"
        },
        "id": "3CuYExomZkny",
        "outputId": "cc7c2760-4e99-4276-9ce7-ac5d142e643d"
      },
      "execution_count": null,
      "outputs": [
        {
          "output_type": "execute_result",
          "data": {
            "text/plain": [
              "numpy.ndarray"
            ]
          },
          "metadata": {},
          "execution_count": 594
        }
      ]
    },
    {
      "cell_type": "code",
      "source": [
        "y = np.array(y, dtype='int')\n",
        "y"
      ],
      "metadata": {
        "colab": {
          "base_uri": "https://localhost:8080/"
        },
        "id": "6iMB605eZp1j",
        "outputId": "10b1caca-4313-4b35-abd6-4bc5e8ee45f1"
      },
      "execution_count": null,
      "outputs": [
        {
          "output_type": "execute_result",
          "data": {
            "text/plain": [
              "array([0, 0, 0, ..., 0, 0, 0])"
            ]
          },
          "metadata": {},
          "execution_count": 595
        }
      ]
    },
    {
      "cell_type": "markdown",
      "source": [
        "75% на обучающую выборку. 25% на тестовую."
      ],
      "metadata": {
        "id": "jTvFt6BfYjLK"
      }
    },
    {
      "cell_type": "code",
      "source": [
        "from sklearn.model_selection import train_test_split\n",
        "X_train, X_test, y_train, y_test = train_test_split(X, y, test_size = 0.25, random_state = 33)\n",
        "\n",
        "N_train, _ = X_train.shape\n",
        "N_test, _ = X_test.shape\n",
        "N_train, N_test"
      ],
      "metadata": {
        "colab": {
          "base_uri": "https://localhost:8080/"
        },
        "id": "KM9STSgAYoj4",
        "outputId": "ff4e361f-444e-4770-d6f7-136937390dca"
      },
      "execution_count": null,
      "outputs": [
        {
          "output_type": "execute_result",
          "data": {
            "text/plain": [
              "(89378, 29793)"
            ]
          },
          "metadata": {},
          "execution_count": 596
        }
      ]
    },
    {
      "cell_type": "markdown",
      "source": [
        "# Метод блихжайших соседей"
      ],
      "metadata": {
        "id": "abe26J03YyXH"
      }
    },
    {
      "cell_type": "code",
      "source": [
        "from sklearn.neighbors import KNeighborsClassifier\n",
        "\n",
        "knn = KNeighborsClassifier(n_neighbors = 5)\n",
        "knn.fit(X_train, y_train)\n",
        "y_test_predict = knn.predict(X_test)\n",
        "err_test = np.mean(y_test != y_test_predict)\n",
        "err_test"
      ],
      "metadata": {
        "colab": {
          "base_uri": "https://localhost:8080/"
        },
        "id": "bMTsBBIpY2mb",
        "outputId": "229cb587-738d-47c0-ac09-67aa7df5b325"
      },
      "execution_count": null,
      "outputs": [
        {
          "output_type": "execute_result",
          "data": {
            "text/plain": [
              "0.17950525291175778"
            ]
          },
          "metadata": {},
          "execution_count": 597
        }
      ]
    },
    {
      "cell_type": "code",
      "source": [
        "knn = KNeighborsClassifier(n_neighbors = 10)\n",
        "knn.fit(X_train, y_train)\n",
        "y_test_predict = knn.predict(X_test)\n",
        "err_test = np.mean(y_test != y_test_predict)\n",
        "err_test"
      ],
      "metadata": {
        "colab": {
          "base_uri": "https://localhost:8080/"
        },
        "id": "Q-jMpcekng05",
        "outputId": "d873e848-7a40-481c-bb1d-2e9733478930"
      },
      "execution_count": null,
      "outputs": [
        {
          "output_type": "execute_result",
          "data": {
            "text/plain": [
              "0.17963951263719666"
            ]
          },
          "metadata": {},
          "execution_count": 598
        }
      ]
    },
    {
      "cell_type": "code",
      "source": [
        "knn = KNeighborsClassifier(n_neighbors = 15)\n",
        "knn.fit(X_train, y_train)\n",
        "y_test_predict = knn.predict(X_test)\n",
        "err_test = np.mean(y_test != y_test_predict)\n",
        "err_test"
      ],
      "metadata": {
        "colab": {
          "base_uri": "https://localhost:8080/"
        },
        "id": "7lKbVlm3n7kv",
        "outputId": "a42178f5-5303-4868-d493-33e8601c7fb6"
      },
      "execution_count": null,
      "outputs": [
        {
          "output_type": "execute_result",
          "data": {
            "text/plain": [
              "0.18437216795891653"
            ]
          },
          "metadata": {},
          "execution_count": 599
        }
      ]
    },
    {
      "cell_type": "markdown",
      "source": [
        "# Random Forest"
      ],
      "metadata": {
        "id": "3Wc9b1efqjA_"
      }
    },
    {
      "cell_type": "code",
      "source": [
        "from sklearn import ensemble\n",
        "rf = ensemble.RandomForestClassifier(n_estimators = 1000)\n",
        "rf.fit(X_train, y_train)\n",
        "err_train = np.mean(y_train != rf.predict(X_train))\n",
        "err_test  = np.mean(y_test  != rf.predict(X_test))\n",
        "err_train"
      ],
      "metadata": {
        "colab": {
          "base_uri": "https://localhost:8080/"
        },
        "id": "ejYCcIM1qj9u",
        "outputId": "18e8cc50-584c-4cd1-c5a4-f8931ff6718d"
      },
      "execution_count": null,
      "outputs": [
        {
          "output_type": "execute_result",
          "data": {
            "text/plain": [
              "0.008682226051153527"
            ]
          },
          "metadata": {},
          "execution_count": 600
        }
      ]
    },
    {
      "cell_type": "code",
      "source": [
        "np.sum(rf.feature_importances_)"
      ],
      "metadata": {
        "colab": {
          "base_uri": "https://localhost:8080/"
        },
        "id": "mJ9yuOZesy6e",
        "outputId": "abd59e42-62a3-480a-a258-571f88d1204a"
      },
      "execution_count": null,
      "outputs": [
        {
          "output_type": "execute_result",
          "data": {
            "text/plain": [
              "0.9999999999999999"
            ]
          },
          "metadata": {},
          "execution_count": 601
        }
      ]
    },
    {
      "cell_type": "code",
      "source": [
        "importances = rf.feature_importances_\n",
        "indices = np.argsort(importances)[::-1]"
      ],
      "metadata": {
        "id": "huebXu8jtJDC"
      },
      "execution_count": null,
      "outputs": []
    },
    {
      "cell_type": "code",
      "source": [
        "d_first = 10\n",
        "plt.title(\"Вклад каждого пункта опроса:\")\n",
        "plt.bar(range(d_first), importances[indices[:d_first]], align = 'center', color = 'green')\n",
        "plt.xticks(range(d_first), feature_names[indices[:d_first]], rotation = 90)\n",
        "plt.xlim([-5, d_first+5])"
      ],
      "metadata": {
        "colab": {
          "base_uri": "https://localhost:8080/",
          "height": 423
        },
        "id": "hkS-p67ItK9q",
        "outputId": "eaf71003-b009-4d3f-9fe8-1a64e42a5cf8"
      },
      "execution_count": null,
      "outputs": [
        {
          "output_type": "execute_result",
          "data": {
            "text/plain": [
              "(-5.0, 15.0)"
            ]
          },
          "metadata": {},
          "execution_count": 603
        },
        {
          "output_type": "display_data",
          "data": {
            "text/plain": [
              "<Figure size 432x288 with 1 Axes>"
            ],
            "image/png": "[encoded data removed]"
          },
          "metadata": {
            "needs_background": "light"
          }
        }
      ]
    },
    {
      "cell_type": "markdown",
      "source": [
        "# Вывод\n",
        "\n",
        "Метод близжайших соседей при увеличении количества соседей результата на тестовой выборке не показывает. Ошибка около 0.18. Скорее всего это из-за большого количества признаков, которые попарно слабо связаны, но в совокупности дают результат.\n",
        "\n",
        "А вот Метод случайного леса показал очень хорошие результаты. \n",
        "Наибольший вклад вносит время пребывания, что логично, шанс отмены краткосрочных гостей велик. \n",
        "\n",
        "Средняя оплата на сутки - гость дорогого отеля мог найти отель подешевле, особенно если цены завышены без оснований.\n",
        "\n",
        "Так же интересно, что вляет день и неделя заселения. Возможно это время курортного сезона.\n",
        "\n",
        "Я ожидал, что количество предыдущих отмен броней будет влиять сильнее всего, но это не так.\n"
      ],
      "metadata": {
        "id": "gt1453ITtQxA"
      }
    }
  ]
}